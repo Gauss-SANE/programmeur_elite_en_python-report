{
 "cells": [
  {
   "cell_type": "markdown",
   "id": "d68c1dee",
   "metadata": {
    "id": "d68c1dee"
   },
   "source": [
    "# Practical_3: Iterable objects or Containers"
   ]
  },
  {
   "cell_type": "markdown",
   "id": "5fb802d7-4796-4636-bfb2-06b03276a707",
   "metadata": {
    "id": "bea983a3"
   },
   "source": [
    "---\n",
    "\n",
    "### Exercise 1:\n",
    "Create a list of integers from 1 to 10.\n",
    "\n",
    "```python\n",
    "# Exercise 1\n",
    "```"
   ]
  },
  {
   "cell_type": "code",
   "execution_count": 1,
   "id": "0630ab94-30ff-4246-add9-cf21ae46e967",
   "metadata": {},
   "outputs": [
    {
     "data": {
      "text/plain": [
       "[1, 2, 3, 4, 5, 6, 7, 8, 9, 10]"
      ]
     },
     "execution_count": 1,
     "metadata": {},
     "output_type": "execute_result"
    }
   ],
   "source": [
    "my_list = [i for i in range(1, 11)]\n",
    "my_list"
   ]
  },
  {
   "cell_type": "markdown",
   "id": "bb4dce5b-7d8f-40a6-8285-3118a19a071f",
   "metadata": {
    "id": "bea983a3"
   },
   "source": [
    "---\n",
    "\n",
    "### Exercise 2:\n",
    "Create a tuple containing the elements `\"apple\"`, `\"banana\"`, and `\"cherry\"`.\n",
    "\n",
    "```python\n",
    "# Exercise 2\n",
    "```"
   ]
  },
  {
   "cell_type": "code",
   "execution_count": 2,
   "id": "ef07d360-4fbe-4123-b231-6e5013bc1fd8",
   "metadata": {},
   "outputs": [
    {
     "data": {
      "text/plain": [
       "('apple', 'banana', 'cherry')"
      ]
     },
     "execution_count": 2,
     "metadata": {},
     "output_type": "execute_result"
    }
   ],
   "source": [
    "my_tuple = (\"apple\", \"banana\", \"cherry\")\n",
    "my_tuple"
   ]
  },
  {
   "cell_type": "markdown",
   "id": "b956a9da-eff6-49b4-ac82-190ab623da76",
   "metadata": {
    "id": "bea983a3"
   },
   "source": [
    "---\n",
    "\n",
    "### Exercise 3:\n",
    "Convert the list `numbers = [10, 20, 30, 40]` into a tuple.\n",
    "\n",
    "```python\n",
    "# Exercise 3\n",
    "```"
   ]
  },
  {
   "cell_type": "code",
   "execution_count": 3,
   "id": "c69a618e-a7bd-472e-bd30-2d268acece03",
   "metadata": {},
   "outputs": [
    {
     "data": {
      "text/plain": [
       "(10, 20, 30, 40)"
      ]
     },
     "execution_count": 3,
     "metadata": {},
     "output_type": "execute_result"
    }
   ],
   "source": [
    "numbers = [10, 20, 30, 40]\n",
    "my_tuple = tuple(numbers)\n",
    "my_tuple"
   ]
  },
  {
   "cell_type": "markdown",
   "id": "d5f434a4-c8b7-4852-85c1-c51c8a479262",
   "metadata": {
    "id": "bea983a3"
   },
   "source": [
    "---\n",
    "\n",
    "### Exercise 4:\n",
    "Create a set containing the elements `1, 2, 3, 4, 5`.\n",
    "\n",
    "```python\n",
    "# Exercise 4\n",
    "```"
   ]
  },
  {
   "cell_type": "code",
   "execution_count": 8,
   "id": "ca50bff5-cbd5-42b6-8e04-8daa1a976c1f",
   "metadata": {},
   "outputs": [
    {
     "data": {
      "text/plain": [
       "{1, 2, 3, 4, 5}"
      ]
     },
     "execution_count": 8,
     "metadata": {},
     "output_type": "execute_result"
    }
   ],
   "source": [
    "my_ensemble = [1, 2, 3, 4, 5]\n",
    "my_set = set(my_ensemble)\n",
    "my_set"
   ]
  },
  {
   "cell_type": "markdown",
   "id": "a038c3bf-1cbd-46eb-9c6d-e5fdd953f373",
   "metadata": {
    "id": "bea983a3"
   },
   "source": [
    "---\n",
    "\n",
    "### Exercise 5:\n",
    "Create a dictionary `student` with the keys `\"name\"`, `\"age\"`, and `\"grade\"` and corresponding values `\"Alice\"`, `20`, and `\"A\"`.\n",
    "\n",
    "```python\n",
    "# Exercise 5\n",
    "```"
   ]
  },
  {
   "cell_type": "code",
   "execution_count": 9,
   "id": "1205dfb1-cf1c-42dd-b61b-7c05c663f3d3",
   "metadata": {},
   "outputs": [
    {
     "data": {
      "text/plain": [
       "{'name': 'Alice', 'age': 20, 'grade': 'A'}"
      ]
     },
     "execution_count": 9,
     "metadata": {},
     "output_type": "execute_result"
    }
   ],
   "source": [
    "my_dict = {\"name\": \"Alice\", \"age\": 20, \"grade\": \"A\"}\n",
    "my_dict"
   ]
  },
  {
   "cell_type": "markdown",
   "id": "c6ee32f1-f8ea-47ff-83df-fd84cc436691",
   "metadata": {
    "id": "bea983a3"
   },
   "source": [
    "---\n",
    "\n",
    "### Exercise 6:\n",
    "Access the second element of the list `[10, 20, 30, 40, 50]` using indexing.\n",
    "\n",
    "```python\n",
    "# Exercise 6\n",
    "```"
   ]
  },
  {
   "cell_type": "code",
   "execution_count": 10,
   "id": "886a1cd4-d7d2-4a2c-8cc2-4ceaaa0f0218",
   "metadata": {},
   "outputs": [
    {
     "data": {
      "text/plain": [
       "20"
      ]
     },
     "execution_count": 10,
     "metadata": {},
     "output_type": "execute_result"
    }
   ],
   "source": [
    "my_list = [10, 20, 30, 40, 50]\n",
    "my_list[1]"
   ]
  },
  {
   "cell_type": "markdown",
   "id": "389ec787-ef85-46db-96b7-b127a06a0c80",
   "metadata": {
    "id": "bea983a3"
   },
   "source": [
    "---\n",
    "\n",
    "### Exercise 7:\n",
    "Change the third element of the list `fruits = [\"apple\", \"banana\", \"cherry\", \"orange\"]` to `\"mango\"`.\n",
    "\n",
    "```python\n",
    "# Exercise 7\n",
    "```"
   ]
  },
  {
   "cell_type": "code",
   "execution_count": 11,
   "id": "8f9b031b-b402-41b6-8802-4e6be788c3a5",
   "metadata": {},
   "outputs": [
    {
     "data": {
      "text/plain": [
       "['apple', 'banana', 'mango', 'orange']"
      ]
     },
     "execution_count": 11,
     "metadata": {},
     "output_type": "execute_result"
    }
   ],
   "source": [
    "fruits = [\"apple\", \"banana\", \"cherry\", \"orange\"]\n",
    "fruits[2] = \"mango\"\n",
    "fruits"
   ]
  },
  {
   "cell_type": "markdown",
   "id": "6d59abba-6995-4bc7-8db3-6a203ee9a0ed",
   "metadata": {
    "id": "bea983a3"
   },
   "source": [
    "---\n",
    "\n",
    "### Exercise 8:\n",
    "Add the number `6` to the set `numbers = {1, 2, 3, 4, 5}`.\n",
    "\n",
    "```python\n",
    "# Exercise 8\n",
    "```"
   ]
  },
  {
   "cell_type": "code",
   "execution_count": 18,
   "id": "1fdad860-d16d-4c68-bd4d-058ee0a42bd3",
   "metadata": {},
   "outputs": [
    {
     "data": {
      "text/plain": [
       "{1, 2, 3, 4, 5, 6}"
      ]
     },
     "execution_count": 18,
     "metadata": {},
     "output_type": "execute_result"
    }
   ],
   "source": [
    "numbers = {1, 2, 3, 4, 5}\n",
    "numbers = list(numbers)\n",
    "numbers.append(6)\n",
    "numbers = set(numbers)\n",
    "numbers"
   ]
  },
  {
   "cell_type": "markdown",
   "id": "4e564400-84ed-4036-9013-d3d92d78303f",
   "metadata": {
    "id": "bea983a3"
   },
   "source": [
    "---\n",
    "\n",
    "### Exercise 9:\n",
    "Remove the key `\"age\"` from the dictionary `person = {\"name\": \"John\", \"age\": 25, \"city\": \"New York\"}`.\n",
    "\n",
    "```python\n",
    "# Exercise 9\n",
    "```"
   ]
  },
  {
   "cell_type": "code",
   "execution_count": 19,
   "id": "32a4b7cb-18e2-476b-b2cf-9d7a87fc0602",
   "metadata": {},
   "outputs": [
    {
     "data": {
      "text/plain": [
       "{'name': 'John', 'city': 'New York'}"
      ]
     },
     "execution_count": 19,
     "metadata": {},
     "output_type": "execute_result"
    }
   ],
   "source": [
    "person = {\"name\": \"John\", \"age\": 25, \"city\": \"New York\"}\n",
    "del person[\"age\"]\n",
    "person"
   ]
  },
  {
   "cell_type": "markdown",
   "id": "83d24bde-e910-46dd-b408-fc9d4625aaab",
   "metadata": {
    "id": "bea983a3"
   },
   "source": [
    "---\n",
    "\n",
    "### Exercise 10:\n",
    "Create a range object starting from 0 to 9.\n",
    "\n",
    "```python\n",
    "# Exercise 10\n",
    "```"
   ]
  },
  {
   "cell_type": "code",
   "execution_count": 20,
   "id": "588bc91d-a504-4e10-8dc1-6549d9879acd",
   "metadata": {},
   "outputs": [
    {
     "data": {
      "text/plain": [
       "[0, 1, 2, 3, 4, 5, 6, 7, 8, 9]"
      ]
     },
     "execution_count": 20,
     "metadata": {},
     "output_type": "execute_result"
    }
   ],
   "source": [
    "starting = [i for i in range(10)]\n",
    "starting"
   ]
  },
  {
   "cell_type": "markdown",
   "id": "905bfd42-fc66-4031-b028-72bde0f5bd32",
   "metadata": {
    "id": "bea983a3"
   },
   "source": [
    "---\n",
    "\n",
    "### Exercise 11:\n",
    "Use a list comprehension to create a list of squares of numbers from 1 to 10.\n",
    "\n",
    "```python\n",
    "# Exercise 11\n",
    "```"
   ]
  },
  {
   "cell_type": "code",
   "execution_count": 21,
   "id": "75da935c-4093-4b23-8f06-5ddd76bcbaf2",
   "metadata": {},
   "outputs": [
    {
     "data": {
      "text/plain": [
       "[1, 4, 9, 16, 25, 36, 49, 64, 81, 100]"
      ]
     },
     "execution_count": 21,
     "metadata": {},
     "output_type": "execute_result"
    }
   ],
   "source": [
    "list_comprehension = [i**2 for i in range(1, 11)]\n",
    "list_comprehension"
   ]
  },
  {
   "cell_type": "markdown",
   "id": "54da1e10-6eec-4b95-9389-29b8b6bf2834",
   "metadata": {
    "id": "bea983a3"
   },
   "source": [
    "---\n",
    "\n",
    "### Exercise 12:\n",
    "Create a tuple of even numbers between 2 and 10 using a tuple comprehension.\n",
    "\n",
    "```python\n",
    "# Exercise 12\n",
    "```"
   ]
  },
  {
   "cell_type": "code",
   "execution_count": 22,
   "id": "e99bd0ce-ef62-4869-8b53-b0d585859fce",
   "metadata": {},
   "outputs": [
    {
     "data": {
      "text/plain": [
       "(2, 4, 6, 8, 10)"
      ]
     },
     "execution_count": 22,
     "metadata": {},
     "output_type": "execute_result"
    }
   ],
   "source": [
    "my_tuple_cpmprehension = tuple([i for i in range(1, 11) if i%2 == 0])\n",
    "my_tuple_cpmprehension"
   ]
  },
  {
   "cell_type": "markdown",
   "id": "663229fc-2394-4e23-a2f7-7f5a6aea0b41",
   "metadata": {
    "id": "bea983a3"
   },
   "source": [
    "---\n",
    "\n",
    "### Exercise 13:\n",
    "Use a for loop to iterate through the list `fruits = [\"apple\", \"banana\", \"cherry\"]` and print each element.\n",
    "\n",
    "```python\n",
    "# Exercise 13\n",
    "```"
   ]
  },
  {
   "cell_type": "code",
   "execution_count": 23,
   "id": "69588a5d-e8d7-415b-b485-6ee100a52356",
   "metadata": {},
   "outputs": [
    {
     "name": "stdout",
     "output_type": "stream",
     "text": [
      "apple\n",
      "banana\n",
      "cherry\n"
     ]
    }
   ],
   "source": [
    "fruits = [\"apple\", \"banana\", \"cherry\"]\n",
    "for i in fruits:\n",
    "    print(i)"
   ]
  },
  {
   "cell_type": "markdown",
   "id": "310456ff-8a54-466c-a0ae-0fef8218a9c6",
   "metadata": {
    "id": "bea983a3"
   },
   "source": [
    "---\n",
    "\n",
    "### Exercise 14:\n",
    "Check if the value `3` exists in the set `numbers = {1, 2, 3, 4, 5}`.\n",
    "\n",
    "```python\n",
    "# Exercise 14\n",
    "```"
   ]
  },
  {
   "cell_type": "code",
   "execution_count": 25,
   "id": "62f29056-eb19-4951-9d9a-c01b626599f1",
   "metadata": {},
   "outputs": [
    {
     "data": {
      "text/plain": [
       "False"
      ]
     },
     "execution_count": 25,
     "metadata": {},
     "output_type": "execute_result"
    }
   ],
   "source": [
    "numbers = {1, 2, 3, 4, 5}\n",
    "3 in numbers"
   ]
  },
  {
   "cell_type": "markdown",
   "id": "2d7958ba-5199-4df7-9e7c-e1bf2747d672",
   "metadata": {
    "id": "bea983a3"
   },
   "source": [
    "---\n",
    "\n",
    "### Exercise 15:\n",
    "Use the `len()` function to find the length of the tuple `numbers = (10, 20, 30)`.\n",
    "\n",
    "```python\n",
    "# Exercise 15\n",
    "```"
   ]
  },
  {
   "cell_type": "code",
   "execution_count": 26,
   "id": "a9af9743-e965-4e63-a7e6-40c0c2eee2bc",
   "metadata": {},
   "outputs": [
    {
     "data": {
      "text/plain": [
       "3"
      ]
     },
     "execution_count": 26,
     "metadata": {},
     "output_type": "execute_result"
    }
   ],
   "source": [
    "numbers = (10, 20, 30)\n",
    "len(numbers)"
   ]
  },
  {
   "cell_type": "markdown",
   "id": "96673a96-b685-4624-b362-2cb45fb5446e",
   "metadata": {
    "id": "bea983a3"
   },
   "source": [
    "---\n",
    "\n",
    "### Exercise 16:\n",
    "Add the value `100` at the end of the list `scores = [80, 85, 90, 95]`.\n",
    "\n",
    "```python\n",
    "# Exercise 16\n",
    "```"
   ]
  },
  {
   "cell_type": "code",
   "execution_count": 27,
   "id": "52b53ca4-5e95-43d9-ac20-ea0b625717eb",
   "metadata": {},
   "outputs": [
    {
     "data": {
      "text/plain": [
       "[80, 85, 90, 95, 100]"
      ]
     },
     "execution_count": 27,
     "metadata": {},
     "output_type": "execute_result"
    }
   ],
   "source": [
    "scores = [80, 85, 90, 95]\n",
    "scores.append(100)\n",
    "scores"
   ]
  },
  {
   "cell_type": "markdown",
   "id": "46cda379-60dc-4370-a84d-72a4c412bc64",
   "metadata": {
    "id": "bea983a3"
   },
   "source": [
    "---\n",
    "\n",
    "### Exercise 17:\n",
    "Write a function that takes a list as input and returns the sum of all elements in the list.\n",
    "\n",
    "```python\n",
    "# Exercise 17\n",
    "```"
   ]
  },
  {
   "cell_type": "code",
   "execution_count": 29,
   "id": "92920705-9081-480a-a6d9-00c6431c45fe",
   "metadata": {},
   "outputs": [
    {
     "data": {
      "text/plain": [
       "150"
      ]
     },
     "execution_count": 29,
     "metadata": {},
     "output_type": "execute_result"
    }
   ],
   "source": [
    "def somme(my_list):\n",
    "    sum_list = 0\n",
    "    for i in my_list:\n",
    "        sum_list += i\n",
    "    return sum_list\n",
    "\n",
    "my_list = [10, 20, 30, 40, 50]\n",
    "somme(my_list)"
   ]
  },
  {
   "cell_type": "markdown",
   "id": "636c9d8b-b59b-446c-894e-80dd09427a07",
   "metadata": {
    "id": "bea983a3"
   },
   "source": [
    "---\n",
    "\n",
    "### Exercise 18:\n",
    "Create a set containing the unique elements of the list `numbers = [1, 2, 2, 3, 4, 4, 5]`.\n",
    "\n",
    "```python\n",
    "# Exercise 18\n",
    "```"
   ]
  },
  {
   "cell_type": "code",
   "execution_count": 31,
   "id": "f77cb02e-fbfd-4287-b027-af97cd9b90a7",
   "metadata": {},
   "outputs": [
    {
     "data": {
      "text/plain": [
       "{1, 2, 3, 4, 5}"
      ]
     },
     "execution_count": 31,
     "metadata": {},
     "output_type": "execute_result"
    }
   ],
   "source": [
    "numbers = [1, 2, 2, 3, 4, 4, 5]\n",
    "numbers = set(numbers)\n",
    "numbers"
   ]
  },
  {
   "cell_type": "markdown",
   "id": "43c8c959-344c-48e8-bf81-008b8aac6941",
   "metadata": {
    "id": "bea983a3"
   },
   "source": [
    "---\n",
    "\n",
    "### Exercise 19:\n",
    "Convert the string `\"hello\"` into a list of characters.\n",
    "\n",
    "```python\n",
    "# Exercise 19\n",
    "```"
   ]
  },
  {
   "cell_type": "code",
   "execution_count": 32,
   "id": "ea10101f-2639-4cbb-bfb3-958cfd859bb4",
   "metadata": {},
   "outputs": [
    {
     "data": {
      "text/plain": [
       "['h', 'e', 'l', 'l', 'o']"
      ]
     },
     "execution_count": 32,
     "metadata": {},
     "output_type": "execute_result"
    }
   ],
   "source": [
    "my_string = \"hello\"\n",
    "my_list = []\n",
    "for i in my_string:\n",
    "    my_list.append(i)\n",
    "my_list"
   ]
  },
  {
   "cell_type": "markdown",
   "id": "921fcadd-3bb3-4897-b4ea-710de862c54f",
   "metadata": {
    "id": "bea983a3"
   },
   "source": [
    "---\n",
    "\n",
    "### Exercise 20:\n",
    "Write a Python function that reverses a tuple `(1, 2, 3, 4)`.\n",
    "\n",
    "```python\n",
    "# Exercise 20\n",
    "```"
   ]
  },
  {
   "cell_type": "code",
   "execution_count": 35,
   "id": "16ebcd14-8938-449f-8c2e-255fa7dd714a",
   "metadata": {},
   "outputs": [
    {
     "data": {
      "text/plain": [
       "(4, 3, 2, 1)"
      ]
     },
     "execution_count": 35,
     "metadata": {},
     "output_type": "execute_result"
    }
   ],
   "source": [
    "def reverse_tuple(my_tuple):\n",
    "    my_list = list(my_tuple)\n",
    "    my_list_1 = []\n",
    "    for i in range(1, len(my_list) + 1):\n",
    "        my_list_1.append(my_list[-i])\n",
    "    return tuple(my_list_1)\n",
    "\n",
    "my_tuple = (1, 2, 3, 4)\n",
    "reverse_tuple(my_tuple)"
   ]
  },
  {
   "cell_type": "markdown",
   "id": "5825a4d9-e8db-47e1-8ab8-72f5a1594dde",
   "metadata": {
    "id": "bea983a3"
   },
   "source": [
    "---\n",
    "\n",
    "### Exercise 21:\n",
    "Merge two dictionaries `dict1 = {\"a\": 1, \"b\": 2}` and `dict2 = {\"c\": 3, \"d\": 4}` into a single dictionary.\n",
    "\n",
    "```python\n",
    "# Exercise 21\n",
    "```"
   ]
  },
  {
   "cell_type": "code",
   "execution_count": 37,
   "id": "11f657dd-4f1d-4ff4-bab8-ff858051e58c",
   "metadata": {},
   "outputs": [
    {
     "data": {
      "text/plain": [
       "{'a': 1, 'b': 2, 'c': 3, 'd': 4}"
      ]
     },
     "execution_count": 37,
     "metadata": {},
     "output_type": "execute_result"
    }
   ],
   "source": [
    "dict1 = {\"a\": 1, \"b\": 2}\n",
    "dict2 = {\"c\": 3, \"d\": 4}\n",
    "dict1.update(dict2)\n",
    "dict1"
   ]
  },
  {
   "cell_type": "markdown",
   "id": "f25c3267-2a69-40d9-b99c-ea69f1e161eb",
   "metadata": {
    "id": "bea983a3"
   },
   "source": [
    "---\n",
    "\n",
    "### Exercise 22:\n",
    "Create a dictionary where keys are numbers from 1 to 5, and values are their squares.\n",
    "\n",
    "```python\n",
    "# Exercise 22\n",
    "```"
   ]
  },
  {
   "cell_type": "code",
   "execution_count": 42,
   "id": "e22fe79a-9495-4096-8bcf-1f82db703d3e",
   "metadata": {},
   "outputs": [
    {
     "data": {
      "text/plain": [
       "{1: 1, 2: 4, 3: 9, 4: 16, 5: 25}"
      ]
     },
     "execution_count": 42,
     "metadata": {},
     "output_type": "execute_result"
    }
   ],
   "source": [
    "my_keys_list = [i for i in range(1, 6)]\n",
    "my_values_list = [i**2 for i in range(1, 6)]\n",
    "my_dict = {}\n",
    "for i in range(len(my_values_list)):\n",
    "    my_dict[my_keys_list[i]] = my_values_list[i]\n",
    "my_dict"
   ]
  },
  {
   "cell_type": "markdown",
   "id": "aa23e98d-e330-4cc5-af2a-74b93e966299",
   "metadata": {
    "id": "bea983a3"
   },
   "source": [
    "---\n",
    "\n",
    "### Exercise 23:\n",
    "Write a Python program to iterate through a dictionary and print each key-value pair.\n",
    "\n",
    "```python\n",
    "# Exercise 23\n",
    "```"
   ]
  },
  {
   "cell_type": "code",
   "execution_count": 43,
   "id": "c8ba1919-8100-465c-b0f7-71b9070bd739",
   "metadata": {},
   "outputs": [
    {
     "name": "stdout",
     "output_type": "stream",
     "text": [
      "(1, 1)\n",
      "(2, 4)\n",
      "(3, 9)\n",
      "(4, 16)\n",
      "(5, 25)\n"
     ]
    }
   ],
   "source": [
    "my_dict = {1: 1, 2: 4, 3: 9, 4: 16, 5: 25}\n",
    "for i in my_dict.items():\n",
    "    print(i)"
   ]
  },
  {
   "cell_type": "markdown",
   "id": "05f93e2e-2131-4996-8a7f-292dc193c840",
   "metadata": {
    "id": "bea983a3"
   },
   "source": [
    "---\n",
    "\n",
    "### Exercise 24:\n",
    "Create a list of the first 5 letters of the alphabet using the `chr()` function.\n",
    "\n",
    "```python\n",
    "# Exercise 24\n",
    "```"
   ]
  },
  {
   "cell_type": "code",
   "execution_count": 1,
   "id": "9ba8f00d-d456-4460-bf53-a3842f7327b0",
   "metadata": {},
   "outputs": [
    {
     "data": {
      "text/plain": [
       "['A', 'B', 'C', 'D', 'E']"
      ]
     },
     "execution_count": 1,
     "metadata": {},
     "output_type": "execute_result"
    }
   ],
   "source": [
    "liste = [chr(i) for i in range(ord(\"A\"), ord(\"A\") + 5)]\n",
    "liste"
   ]
  },
  {
   "cell_type": "markdown",
   "id": "1db788cb-07a4-4751-b240-1b845eee0b03",
   "metadata": {
    "id": "bea983a3"
   },
   "source": [
    "---\n",
    "\n",
    "### Exercise 25:\n",
    "Use the `zip()` function to combine two lists `[1, 2, 3]` and `[\"a\", \"b\", \"c\"]` into a list of tuples.\n",
    "\n",
    "```python\n",
    "# Exercise 25\n",
    "```"
   ]
  },
  {
   "cell_type": "code",
   "execution_count": 11,
   "id": "4b860a55-9e09-455a-9985-4ac6f40962bc",
   "metadata": {},
   "outputs": [
    {
     "name": "stdout",
     "output_type": "stream",
     "text": [
      "(1, 'a')\n",
      "(2, 'b')\n",
      "(3, 'c')\n"
     ]
    }
   ],
   "source": [
    "mon_tuple = zip([1, 2, 3], [\"a\", \"b\", \"c\"])\n",
    "type(mon_tuple)\n",
    "for i in mon_tuple:\n",
    "    print(i)"
   ]
  },
  {
   "cell_type": "markdown",
   "id": "8b8b2f51-1d90-4ac6-b131-7f4ad27689fc",
   "metadata": {
    "id": "bea983a3"
   },
   "source": [
    "---\n",
    "\n",
    "### Exercise 26:\n",
    "Find the index of the value `50` in the list `[10, 20, 30, 40, 50]`.\n",
    "\n",
    "```python\n",
    "# Exercise 26\n",
    "```"
   ]
  },
  {
   "cell_type": "code",
   "execution_count": 12,
   "id": "83333a0a-b2f9-4717-934c-cbc86880baf6",
   "metadata": {},
   "outputs": [
    {
     "data": {
      "text/plain": [
       "4"
      ]
     },
     "execution_count": 12,
     "metadata": {},
     "output_type": "execute_result"
    }
   ],
   "source": [
    "liste = [10, 20, 30, 40, 50]\n",
    "liste.index(50)"
   ]
  },
  {
   "cell_type": "markdown",
   "id": "0abb8664-028a-4100-b8bc-b82506a57ff2",
   "metadata": {
    "id": "bea983a3"
   },
   "source": [
    "---\n",
    "\n",
    "### Exercise 27:\n",
    "Sort the list `names = [\"Alice\", \"Bob\", \"Charlie\", \"David\"]` in alphabetical order.\n",
    "\n",
    "```python\n",
    "# Exercise 27\n",
    "```"
   ]
  },
  {
   "cell_type": "code",
   "execution_count": 15,
   "id": "72674863-2a35-4115-8e4b-2f24790356ea",
   "metadata": {},
   "outputs": [
    {
     "data": {
      "text/plain": [
       "['Alice', 'Bob', 'Charlie', 'David']"
      ]
     },
     "execution_count": 15,
     "metadata": {},
     "output_type": "execute_result"
    }
   ],
   "source": [
    "names = [\"Alice\", \"Bob\", \"Charlie\", \"David\"] \n",
    "names.sort()\n",
    "names"
   ]
  },
  {
   "cell_type": "markdown",
   "id": "938ad6c9-dc04-4fb4-87ee-b14b282a4b42",
   "metadata": {
    "id": "bea983a3"
   },
   "source": [
    "---\n",
    "\n",
    "### Exercise 28:\n",
    "Write a Python function that takes a list of integers as input and returns the largest number.\n",
    "\n",
    "```python\n",
    "# Exercise 28\n",
    "```"
   ]
  },
  {
   "cell_type": "code",
   "execution_count": 16,
   "id": "a27067dd-c2cb-4105-98b6-03d4a24fc3be",
   "metadata": {},
   "outputs": [
    {
     "data": {
      "text/plain": [
       "987"
      ]
     },
     "execution_count": 16,
     "metadata": {},
     "output_type": "execute_result"
    }
   ],
   "source": [
    "def plus_grand_nombre(liste):\n",
    "    liste.sort()\n",
    "    return liste[-1]\n",
    "\n",
    "# Example teste\n",
    "\n",
    "liste = [12, 354, 987, 34, 23]\n",
    "plus_grand_nombre(liste)"
   ]
  },
  {
   "cell_type": "markdown",
   "id": "32fdecc2-facb-4fee-9db3-0459c1f32f41",
   "metadata": {
    "id": "bea983a3"
   },
   "source": [
    "---\n",
    "\n",
    "### Exercise 29:\n",
    "Use the `count()` method to count how many times `\"apple\"` appears in the list `fruits = [\"apple\", \"banana\", \"apple\", \"orange\"]`.\n",
    "\n",
    "```python\n",
    "# Exercise 29\n",
    "```"
   ]
  },
  {
   "cell_type": "code",
   "execution_count": 17,
   "id": "f5db2752-3c54-4b51-95d2-ac91e2b08ed8",
   "metadata": {},
   "outputs": [
    {
     "data": {
      "text/plain": [
       "2"
      ]
     },
     "execution_count": 17,
     "metadata": {},
     "output_type": "execute_result"
    }
   ],
   "source": [
    "fruits = [\"apple\", \"banana\", \"apple\", \"orange\"]\n",
    "fruits.count(\"apple\")"
   ]
  },
  {
   "cell_type": "markdown",
   "id": "2064f490-b332-4222-92d2-3b6b6e6dcecd",
   "metadata": {
    "id": "bea983a3"
   },
   "source": [
    "---\n",
    "\n",
    "### Exercise 30:\n",
    "Create a dictionary `person` where keys are `\"name\"`, `\"age\"`, and `\"city\"`, and values are `\"Alice\"`, `25`, and `\"New York\"` respectively. Then access the value of the `\"city\"` key.\n",
    "\n",
    "```python\n",
    "# Exercise 30\n",
    "```"
   ]
  },
  {
   "cell_type": "code",
   "execution_count": 18,
   "id": "55694a5e-958c-4b2c-8463-6e693ce575d0",
   "metadata": {},
   "outputs": [
    {
     "data": {
      "text/plain": [
       "'New York'"
      ]
     },
     "execution_count": 18,
     "metadata": {},
     "output_type": "execute_result"
    }
   ],
   "source": [
    "dictionnaire = {\"nom\": \"Alice\", \"âge\": 25, \"ville\": \"New York\"}\n",
    "dictionnaire[\"ville\"]"
   ]
  },
  {
   "cell_type": "markdown",
   "id": "10c257cd-4598-4972-a572-c6959b8dc11c",
   "metadata": {
    "id": "bea983a3"
   },
   "source": [
    "---\n",
    "\n",
    "### Exercise 31:\n",
    "Write a Python function that takes a list as input and returns a new list with all duplicates removed.\n",
    "\n",
    "```python\n",
    "# Exercise 31\n",
    "```"
   ]
  },
  {
   "cell_type": "code",
   "execution_count": 28,
   "id": "535411b6-94dd-4a66-b37b-492d66667297",
   "metadata": {},
   "outputs": [
    {
     "data": {
      "text/plain": [
       "[2, 3, 4, 5, 6, 7]"
      ]
     },
     "execution_count": 28,
     "metadata": {},
     "output_type": "execute_result"
    }
   ],
   "source": [
    "def supprime_doublons(liste):\n",
    "    mon_set = set(liste)\n",
    "    liste = list(mon_set)\n",
    "    return liste\n",
    "\n",
    "# Example teste\n",
    "\n",
    "liste = [2, 2, 3, 4, 3, 4, 5, 6, 6, 7]\n",
    "supprime_doublons(liste)"
   ]
  },
  {
   "cell_type": "markdown",
   "id": "56ef1c4d-024f-4c70-a022-4e5600edced6",
   "metadata": {
    "id": "bea983a3"
   },
   "source": [
    "---\n",
    "\n",
    "### Exercise 32:\n",
    "Write a Python function that takes two lists and returns their intersection.\n",
    "\n",
    "```python\n",
    "# Exercise 32\n",
    "```"
   ]
  },
  {
   "cell_type": "code",
   "execution_count": 29,
   "id": "202e77da-10cf-4955-a306-c5e58cab1f16",
   "metadata": {},
   "outputs": [
    {
     "data": {
      "text/plain": [
       "[3, 5, 7, 8]"
      ]
     },
     "execution_count": 29,
     "metadata": {},
     "output_type": "execute_result"
    }
   ],
   "source": [
    "def intersection_deux_listes(liste_1, liste_2):\n",
    "    liste = []\n",
    "    for i in liste_1:\n",
    "        if i in liste_2:\n",
    "            liste.append(i)\n",
    "    liste = supprime_doublon(liste)\n",
    "    liste.sort()\n",
    "    return liste\n",
    "\n",
    "# Example teste\n",
    "\n",
    "liste_1 = [1,2,3,5,8,7,5,3]\n",
    "liste_2 = [5,7,8,9,0,3]\n",
    "intersection_deux_listes(liste_1, liste_2)"
   ]
  },
  {
   "cell_type": "markdown",
   "id": "ce3a4891-4401-4bbd-8a29-0fb3ea391f1a",
   "metadata": {
    "id": "bea983a3"
   },
   "source": [
    "---\n",
    "\n",
    "### Exercise 33:\n",
    "Create a generator that yields the squares of numbers from 1 to 10.\n",
    "\n",
    "```python\n",
    "# Exercise 33\n",
    "```"
   ]
  },
  {
   "cell_type": "code",
   "execution_count": 30,
   "id": "bb3ca4cd-13ff-443d-8e7c-dd478e2098cb",
   "metadata": {},
   "outputs": [
    {
     "data": {
      "text/plain": [
       "[1, 4, 9, 16, 25, 36, 49, 64, 81, 100]"
      ]
     },
     "execution_count": 30,
     "metadata": {},
     "output_type": "execute_result"
    }
   ],
   "source": [
    "def generateur_carre_1_10():\n",
    "    return [i**2 for i in range(1, 11)]\n",
    "        \n",
    "# Example teste\n",
    "\n",
    "generateur_carre_1_10()"
   ]
  },
  {
   "cell_type": "markdown",
   "id": "0be8627c-b52d-4963-8ce0-3064ab605d25",
   "metadata": {
    "id": "bea983a3"
   },
   "source": [
    "---\n",
    "\n",
    "### Exercise 34:\n",
    "Write a Python function that takes a dictionary as input and returns the sum of all its values.\n",
    "\n",
    "```python\n",
    "# Exercise 34\n",
    "```"
   ]
  },
  {
   "cell_type": "code",
   "execution_count": 32,
   "id": "1a4aba8a-14a5-427f-8e3f-be48b7e48318",
   "metadata": {},
   "outputs": [
    {
     "data": {
      "text/plain": [
       "60"
      ]
     },
     "execution_count": 32,
     "metadata": {},
     "output_type": "execute_result"
    }
   ],
   "source": [
    "def somme_valeurs_dictionnaire(dictionnaire):\n",
    "    somme = 0\n",
    "    for i in dictionnaire.values():\n",
    "        somme += i\n",
    "    return somme\n",
    "\n",
    "# Example teste\n",
    "\n",
    "dictionnaire = {\"a\": 10, \"b\": 20, \"c\": 30}\n",
    "somme_valeurs_dictionnaire(dictionnaire)"
   ]
  },
  {
   "cell_type": "markdown",
   "id": "ee24adb9-2e2f-4393-9e67-0010c5421758",
   "metadata": {
    "id": "bea983a3"
   },
   "source": [
    "---\n",
    "\n",
    "### Exercise 35:\n",
    "Use the `sorted()` function to sort the list `[3, 1, 4, 1, 5, 9]` in ascending order.\n",
    "\n",
    "```python\n",
    "# Exercise 35\n",
    "```"
   ]
  },
  {
   "cell_type": "code",
   "execution_count": 34,
   "id": "a0c99cfd-d3a6-4d50-b942-c6ec9ae835a8",
   "metadata": {},
   "outputs": [
    {
     "data": {
      "text/plain": [
       "[1, 1, 3, 4, 5, 9]"
      ]
     },
     "execution_count": 34,
     "metadata": {},
     "output_type": "execute_result"
    }
   ],
   "source": [
    "liste = [3, 1, 4, 1, 5, 9]\n",
    "liste = sorted(liste)\n",
    "liste"
   ]
  },
  {
   "cell_type": "markdown",
   "id": "c4b3c400-57e3-4ad0-bd72-66ac04f49546",
   "metadata": {
    "id": "bea983a3"
   },
   "source": [
    "### Exercise 36:\n",
    "Write a Python function that takes a list of strings as input and returns the longest string.\n",
    "\n",
    "```python\n",
    "# Exercise 36\n",
    "```"
   ]
  },
  {
   "cell_type": "code",
   "execution_count": 36,
   "id": "7966ac26-4628-4dc6-ab7c-b589a392deb8",
   "metadata": {},
   "outputs": [
    {
     "data": {
      "text/plain": [
       "'Codez, codez, codez, ne dormez pas, ne vous reposez pas, il faut coder'"
      ]
     },
     "execution_count": 36,
     "metadata": {},
     "output_type": "execute_result"
    }
   ],
   "source": [
    "def plus_longue_chaine_liste(liste_chaines):\n",
    "    liste = []\n",
    "    for i in liste_chaines:\n",
    "        liste.append(len(i))\n",
    "    liste = sorted(liste)\n",
    "    longueure_max = liste[-1]\n",
    "    for i in liste_chaines:\n",
    "        if len(i) == longueure_max:\n",
    "            return i # Dans le cas où on a peur d'avoir des chaines qui ont la même taille. On utilise \"print(i)\" au lieu de \"return i\"  \n",
    "\n",
    "\n",
    "# Example teste\n",
    "\n",
    "liste_chaines = [\"Les programmeurs d'élites\", \"La cryptographie la science par excellence\", \"Codez, codez, codez, ne dormez pas, ne vous reposez pas, il faut coder\"]\n",
    "plus_longue_chaine_liste(liste_chaines)"
   ]
  },
  {
   "cell_type": "markdown",
   "id": "25d8dc9e-eda7-4fae-9114-e674e91f0468",
   "metadata": {
    "id": "bea983a3"
   },
   "source": [
    "---\n",
    "\n",
    "### Exercise 37:\n",
    "Check if all the elements in the list `[1, 2, 3, 4, 5]` are greater than 0 using the `all()` function.\n",
    "\n",
    "```python\n",
    "# Exercise 37\n",
    "```"
   ]
  },
  {
   "cell_type": "code",
   "execution_count": 37,
   "id": "750d182b-ac31-4ea4-b72c-0c5aa0fcccbd",
   "metadata": {},
   "outputs": [
    {
     "data": {
      "text/plain": [
       "True"
      ]
     },
     "execution_count": 37,
     "metadata": {},
     "output_type": "execute_result"
    }
   ],
   "source": [
    "all(i > 0 for i in [1, 2, 3, 4, 5])"
   ]
  },
  {
   "cell_type": "markdown",
   "id": "4684783c-6900-4ea4-bbaa-5144c1c6c837",
   "metadata": {
    "id": "bea983a3"
   },
   "source": [
    "---\n",
    "\n",
    "### Exercise 38:\n",
    "Create a list of tuples where each tuple contains a number and its square for numbers from 1 to 5.\n",
    "\n",
    "```python\n",
    "# Exercise 38\n",
    "```"
   ]
  },
  {
   "cell_type": "code",
   "execution_count": 38,
   "id": "745d9bef-8777-4de5-b74f-fa1976ff28df",
   "metadata": {},
   "outputs": [
    {
     "data": {
      "text/plain": [
       "[(1, 1), (2, 4), (3, 9), (4, 16), (5, 25)]"
      ]
     },
     "execution_count": 38,
     "metadata": {},
     "output_type": "execute_result"
    }
   ],
   "source": [
    "liste_tuple = [(i, i**2) for i in range(1, 6)]\n",
    "liste_tuple"
   ]
  },
  {
   "cell_type": "markdown",
   "id": "2b666ca5-ad65-4939-9d6c-04ae22a41f30",
   "metadata": {
    "id": "bea983a3"
   },
   "source": [
    "---\n",
    "\n",
    "### Exercise 39:\n",
    "Write a Python function that takes a list of tuples and returns a list of the second elements from each tuple.\n",
    "\n",
    "```python\n",
    "# Exercise 39\n",
    "```"
   ]
  },
  {
   "cell_type": "code",
   "execution_count": 39,
   "id": "3f5613da-b5d9-4ad1-aedc-8c942d0cea4a",
   "metadata": {},
   "outputs": [
    {
     "data": {
      "text/plain": [
       "[1, 4, 9, 16, 25]"
      ]
     },
     "execution_count": 39,
     "metadata": {},
     "output_type": "execute_result"
    }
   ],
   "source": [
    "def retourne_liste_deuxieme_element_tuple_liste_tuples(liste_tuples):\n",
    "    liste = []\n",
    "    for i in liste_tuples:\n",
    "        liste.append(i[1])\n",
    "    return liste\n",
    "\n",
    "# Example teste\n",
    "liste_tuples = \n"
   ]
  },
  {
   "cell_type": "markdown",
   "id": "b47221bd-cdcd-4e90-8c9f-b22fff6f99fa",
   "metadata": {
    "id": "bea983a3"
   },
   "source": [
    "---\n",
    "\n",
    "### Exercise 40:\n",
    "Write a Python function that flattens a list of lists into a single list.\n",
    "\n",
    "```python\n",
    "# Exercise 40\n",
    "```"
   ]
  },
  {
   "cell_type": "code",
   "execution_count": 43,
   "id": "669c0780-c961-4f27-9cdf-e99f0bd2f033",
   "metadata": {},
   "outputs": [
    {
     "data": {
      "text/plain": [
       "[1, 1, 2, 4, 3, 9, 4, 16, 5, 25]"
      ]
     },
     "execution_count": 43,
     "metadata": {},
     "output_type": "execute_result"
    }
   ],
   "source": [
    "def applatit_liste_de_liste(liste_de_liste):\n",
    "    liste = []\n",
    "    for i in liste_de_liste:\n",
    "        for j in i:\n",
    "            liste.append(j)\n",
    "    return liste\n",
    "\n",
    "# Example teste\n",
    "liste_de_liste = [[1, 1], [2, 4,], [3, 9], [4, 16], [5, 25]]\n",
    "applatit_liste_de_liste(liste_de_liste)  "
   ]
  },
  {
   "cell_type": "markdown",
   "id": "58618bc9-6c58-4d04-881e-257d7b07c065",
   "metadata": {
    "id": "bea983a3"
   },
   "source": [
    "---\n",
    "\n",
    "### Exercise 41:\n",
    "Use the `enumerate()` function to iterate through the list `[\"apple\", \"banana\", \"cherry\"]` and print the index and value.\n",
    "\n",
    "```python\n",
    "# Exercise 41\n",
    "```"
   ]
  },
  {
   "cell_type": "code",
   "execution_count": 49,
   "id": "85e1d5d7-5f47-47cd-a168-134d604a41d5",
   "metadata": {},
   "outputs": [
    {
     "name": "stdout",
     "output_type": "stream",
     "text": [
      "(0, 'apple')\n",
      "(1, 'banana')\n",
      "(2, 'cherry')\n"
     ]
    }
   ],
   "source": [
    "liste = [\"apple\", \"banana\", \"cherry\"]\n",
    "tuple_index_element_liste = enumerate(liste)\n",
    "for i in tuple_index_element_liste:\n",
    "    print(i)"
   ]
  },
  {
   "cell_type": "markdown",
   "id": "5bdada6a-30c7-4802-af59-5a0bc423e605",
   "metadata": {
    "id": "bea983a3"
   },
   "source": [
    "---\n",
    "\n",
    "### Exercise 42:\n",
    "Write a Python program that checks if a tuple is empty.\n",
    "\n",
    "```python\n",
    "# Exercise 42\n",
    "```"
   ]
  },
  {
   "cell_type": "code",
   "execution_count": 50,
   "id": "0ed6252d-31e1-4ef8-b2ea-410bf63cd26b",
   "metadata": {},
   "outputs": [
    {
     "name": "stdout",
     "output_type": "stream",
     "text": [
      "<< Tuple vide >>\n"
     ]
    }
   ],
   "source": [
    "def teste_tuple_vide(mon_tuple):\n",
    "    if len(mon_tuple) == 0:\n",
    "        return 0 # Tuple vide\n",
    "    else:\n",
    "        return 1 # Le tuple n'est pas vide\n",
    "\n",
    "# Example teste\n",
    "\n",
    "mon_tuple = ()\n",
    "if teste_tuple_vide(mon_tuple) == 0:\n",
    "    print(\"<< Tuple vide >>\")\n",
    "else:\n",
    "    print(\"<< Le tuple n'est pas vide >>\")"
   ]
  },
  {
   "cell_type": "markdown",
   "id": "ef8921bf-0530-44b1-a686-39d9097ea63b",
   "metadata": {
    "id": "bea983a3"
   },
   "source": [
    "---\n",
    "\n",
    "### Exercise 43:\n",
    "Create a list of even numbers between 1 and 20 using the `range()` function.\n",
    "\n",
    "```python\n",
    "# Exercise 43\n",
    "```"
   ]
  },
  {
   "cell_type": "code",
   "execution_count": 53,
   "id": "f13ed325-980b-4464-a062-f6a14d2c4c4f",
   "metadata": {},
   "outputs": [
    {
     "data": {
      "text/plain": [
       "[2, 4, 6, 8, 10, 12, 14, 16, 18, 20]"
      ]
     },
     "execution_count": 53,
     "metadata": {},
     "output_type": "execute_result"
    }
   ],
   "source": [
    "liste_nombres_pairs_1_20 = [i for i in range(0, 21, 2) if i != 0]\n",
    "liste_nombres_pairs_1_20"
   ]
  },
  {
   "cell_type": "markdown",
   "id": "9ea7975a-6ecf-4f5a-be04-905f7a9fa885",
   "metadata": {
    "id": "bea983a3"
   },
   "source": [
    "---\n",
    "\n",
    "### Exercise 44:\n",
    "Write a Python function that takes a list of numbers as input and returns the list in reverse order.\n",
    "\n",
    "```python\n",
    "# Exercise 44\n",
    "```"
   ]
  },
  {
   "cell_type": "code",
   "execution_count": 66,
   "id": "1b09d8ae-c621-4a9f-a389-df268883da65",
   "metadata": {},
   "outputs": [
    {
     "data": {
      "text/plain": [
       "[34, 8, 7, 56, 23]"
      ]
     },
     "execution_count": 66,
     "metadata": {},
     "output_type": "execute_result"
    }
   ],
   "source": [
    "def ordre_inverse_liste(liste):\n",
    "    liste_1 = liste\n",
    "    liste_1.reverse()\n",
    "    return liste_1\n",
    "\n",
    "\n",
    "# Example teste\n",
    "\n",
    "liste = [23, 56, 7, 8, 34]\n",
    "ordre_inverse_liste(liste)"
   ]
  },
  {
   "cell_type": "markdown",
   "id": "aa7157f6-5a79-44dc-aa56-2895b42368de",
   "metadata": {
    "id": "bea983a3"
   },
   "source": [
    "---\n",
    "\n",
    "### Exercise 45:\n",
    "Create a dictionary comprehension that maps numbers from 1 to 5 to their cubes.\n",
    "\n",
    "```python\n",
    "# Exercise 45\n",
    "```"
   ]
  },
  {
   "cell_type": "code",
   "execution_count": 67,
   "id": "52e8fda3-9374-422a-9b5e-3f526cb8893d",
   "metadata": {},
   "outputs": [
    {
     "data": {
      "text/plain": [
       "{1: 1, 2: 8, 3: 27, 4: 64, 5: 125}"
      ]
     },
     "execution_count": 67,
     "metadata": {},
     "output_type": "execute_result"
    }
   ],
   "source": [
    "dictionnaire = {i: i**3 for i in range(1, 6)}\n",
    "dictionnaire"
   ]
  },
  {
   "cell_type": "markdown",
   "id": "33cf8173-4f77-40ed-8bf8-14db75e1cf24",
   "metadata": {
    "id": "bea983a3"
   },
   "source": [
    "---\n",
    "\n",
    "### Exercise 46:\n",
    "Write a Python program that creates a new list containing only the unique elements of the list `[1, 2, 2, 3, 4, 4, 5]`.\n",
    "\n",
    "```python\n",
    "# Exercise 46\n",
    "```"
   ]
  },
  {
   "cell_type": "code",
   "execution_count": 68,
   "id": "11bd4373-62df-4d4b-aabe-79d06227a48e",
   "metadata": {},
   "outputs": [
    {
     "data": {
      "text/plain": [
       "[1, 2, 3, 4, 5]"
      ]
     },
     "execution_count": 68,
     "metadata": {},
     "output_type": "execute_result"
    }
   ],
   "source": [
    "liste = [1, 2, 2, 3, 4, 4, 5]\n",
    "liste = list(set(liste))\n",
    "liste"
   ]
  },
  {
   "cell_type": "markdown",
   "id": "496b5118-5315-4444-85e1-76f0ef404be7",
   "metadata": {
    "id": "bea983a3"
   },
   "source": [
    "---\n",
    "\n",
    "### Exercise 47:\n",
    "Write a Python function that takes a list of dictionaries and returns a list of the values for a given key.\n",
    "\n",
    "```python\n",
    "# Exercise 47\n",
    "```"
   ]
  },
  {
   "cell_type": "code",
   "execution_count": 78,
   "id": "55258436-cd78-455f-8dbe-33fb7e6adc3e",
   "metadata": {},
   "outputs": [
    {
     "name": "stdout",
     "output_type": "stream",
     "text": [
      "Voici la liste des clés: ['a', 'b', 'c', 'd']\n"
     ]
    },
    {
     "name": "stdin",
     "output_type": "stream",
     "text": [
      "Entrer une clé:  b\n"
     ]
    },
    {
     "data": {
      "text/plain": [
       "[34, 10, -7]"
      ]
     },
     "execution_count": 78,
     "metadata": {},
     "output_type": "execute_result"
    }
   ],
   "source": [
    "# Écrire une fonction Python qui prend une liste de dictionnaires et renvoie une liste de valeurs pour une clé donnée.\n",
    "\n",
    "def ma_fonction(liste_dictionnaires):\n",
    "    liste_cles = []\n",
    "    for dictionnaire in liste_dictionnaires:\n",
    "        for cle in dictionnaire.keys():\n",
    "            if cle not in liste_cles:\n",
    "                liste_cles.append(cle)\n",
    "    mon_dict = {}\n",
    "    for cle in liste_cles:\n",
    "        liste_valeurs = []\n",
    "        for dictionnaire in liste_dictionnaires:\n",
    "            if cle in dictionnaire.keys():\n",
    "                liste_valeurs.append(dictionnaire[cle])\n",
    "        mon_dict[cle] = liste_valeurs\n",
    "\n",
    "    print(f\"Voici la liste des clés: {liste_cles}\")\n",
    "    cle_entre = input(\"Entrer une clé: \")\n",
    "    while cle_entre not in liste_cles:\n",
    "        print(f\"Voici la liste des clés: {liste_cles}\")\n",
    "        cle_entre = input(\"Entrer une clé: \")\n",
    "    return mon_dict[cle_entre]\n",
    "        \n",
    "# Example teste\n",
    "\n",
    "liste_dictionnaires = [{\"a\": 12, \"b\": 34, \"c\": 8}, {\"a\": 2, \"b\": 10, \"c\": 5}, {\"a\": 0, \"b\": -7, \"c\": -17, \"d\": 56}]\n",
    "ma_fonction(liste_dictionnaires)"
   ]
  },
  {
   "cell_type": "markdown",
   "id": "7260cf63-28db-445a-ad61-01e2530d4676",
   "metadata": {
    "id": "bea983a3"
   },
   "source": [
    "---\n",
    "\n",
    "### Exercise 48:\n",
    "Write a Python function that uses a generator to yield the Fibonacci sequence up to `n` terms.\n",
    "\n",
    "```python\n",
    "# Exercise 48\n",
    "```"
   ]
  },
  {
   "cell_type": "code",
   "execution_count": 117,
   "id": "586c7855-91ac-4faa-9f40-2ae0b5edb662",
   "metadata": {},
   "outputs": [
    {
     "data": {
      "text/plain": [
       "[0, 1, 1, 2, 3, 5, 8, 13, 21, 34, 55, 89, 144, 233, 377]"
      ]
     },
     "execution_count": 117,
     "metadata": {},
     "output_type": "execute_result"
    }
   ],
   "source": [
    "def Fibonacci(n):\n",
    "    if n <= 1:\n",
    "        print(\"Propriété: le paramètre doit être supérieur ou égal à 2 (n ≥ 2) pour obtenir suite de Fibonacci.\")\n",
    "        return 0\n",
    "    liste = [0, 1]\n",
    "    i = len(liste)\n",
    "    while i <= n:\n",
    "        liste.append(liste[-1] + liste[-2])\n",
    "        i = len(liste)\n",
    "    del liste[-1]\n",
    "    return liste\n",
    "\n",
    "\n",
    "# Example teste\n",
    "\n",
    "n = 15\n",
    "Fibonacci(n)"
   ]
  },
  {
   "cell_type": "markdown",
   "id": "5f0d05c2-abee-4a27-ad1d-eb73933a2b0d",
   "metadata": {
    "id": "bea983a3"
   },
   "source": [
    "---\n",
    "\n",
    "### Exercise 49:\n",
    "Write a Python function that takes a string and returns a list of all unique characters in the string.\n",
    "\n",
    "```python\n",
    "# Exercise 49\n",
    "```"
   ]
  },
  {
   "cell_type": "code",
   "execution_count": 85,
   "id": "ab981d26-bc67-4971-b117-4aff59875c2c",
   "metadata": {},
   "outputs": [
    {
     "data": {
      "text/plain": [
       "['L', 'p', 'o', 'g', 'a', 'u', 'd', \"'\", 'A', 'I', 'M', 'S']"
      ]
     },
     "execution_count": 85,
     "metadata": {},
     "output_type": "execute_result"
    }
   ],
   "source": [
    "def caracteres_uniques(chaine):\n",
    "    liste = []\n",
    "    for i in chaine:\n",
    "        if chaine.count(i) == 1:\n",
    "            liste.append(i)\n",
    "    return liste\n",
    "\n",
    "# Example teste\n",
    "\n",
    "chaine = \"Les programmeurs d'AIMS\"\n",
    "caracteres_uniques(chaine)"
   ]
  },
  {
   "cell_type": "markdown",
   "id": "9307fe7d-adf2-4efe-94a6-fc61acf276b4",
   "metadata": {
    "id": "bea983a3"
   },
   "source": [
    "---\n",
    "\n",
    "### Exercise 50:\n",
    "Write a Python function that merges two sorted lists into a single sorted list.\n",
    "\n",
    "```python\n",
    "# Exercise 50\n",
    "```"
   ]
  },
  {
   "cell_type": "code",
   "execution_count": 86,
   "id": "9aa14476-5a4e-4012-89b1-260c0decb2d6",
   "metadata": {},
   "outputs": [
    {
     "data": {
      "text/plain": [
       "[1, 2, 4, 4, 6, 8, 12]"
      ]
     },
     "execution_count": 86,
     "metadata": {},
     "output_type": "execute_result"
    }
   ],
   "source": [
    "def fusionne_listes(liste_1, liste_2):\n",
    "    liste_1 = sorted(liste_1)\n",
    "    liste_2 = sorted(liste_2)\n",
    "    liste = sorted(liste_1 + liste_2)\n",
    "    return liste\n",
    "\n",
    "# Example teste\n",
    "\n",
    "liste_1 = [12, 4, 6]\n",
    "liste_2 = [1,4,2,8]\n",
    "fusionne_listes(liste_1, liste_2)"
   ]
  },
  {
   "cell_type": "markdown",
   "id": "aaa8ab6c-4d22-4e02-8e4e-0193b074078d",
   "metadata": {
    "id": "bea983a3"
   },
   "source": [
    "---\n",
    "\n",
    "### Exercise 51:\n",
    "Use the\n",
    "\n",
    " `filter()` function to filter out odd numbers from the list `[1, 2, 3, 4, 5, 6]`.\n",
    "\n",
    "```python\n",
    "# Exercise 51\n",
    "```"
   ]
  },
  {
   "cell_type": "code",
   "execution_count": 90,
   "id": "1b15803a-2730-46a7-94a4-50e29d476ac6",
   "metadata": {},
   "outputs": [
    {
     "data": {
      "text/plain": [
       "[1, 3, 5]"
      ]
     },
     "execution_count": 90,
     "metadata": {},
     "output_type": "execute_result"
    }
   ],
   "source": [
    "def filtrer_nombres_impairs(nombre):\n",
    "        return nombre%2 != 0\n",
    "\n",
    "########################################\n",
    "\n",
    "liste = list(filter(filtrer_nombres_impairs, [1, 2, 3, 4, 5, 6]))\n",
    "liste"
   ]
  },
  {
   "cell_type": "markdown",
   "id": "6caddd39-57fa-44f0-9feb-f7a02cedd061",
   "metadata": {
    "id": "bea983a3"
   },
   "source": [
    "---\n",
    "\n",
    "### Exercise 52:\n",
    "Write a Python program that converts a list of tuples `[(1, 2), (3, 4), (5, 6)]` into a dictionary.\n",
    "\n",
    "```python\n",
    "# Exercise 52\n",
    "```"
   ]
  },
  {
   "cell_type": "code",
   "execution_count": 91,
   "id": "ff2c28e0-8a4f-42b0-938d-74355cdf7884",
   "metadata": {},
   "outputs": [
    {
     "data": {
      "text/plain": [
       "{1: 2, 3: 4, 5: 6}"
      ]
     },
     "execution_count": 91,
     "metadata": {},
     "output_type": "execute_result"
    }
   ],
   "source": [
    "def convertir_liste_tuples_en_dictionnaire(liste_tuples):\n",
    "    dictionnaire = {}\n",
    "    for i in liste_tuples:\n",
    "        dictionnaire[i[0]] = i[1]\n",
    "    return dictionnaire\n",
    "    \n",
    "####################################\n",
    "\n",
    "liste_tuples = [(1, 2), (3, 4), (5, 6)]\n",
    "convertir_liste_tuples_en_dictionnaire(liste_tuples)"
   ]
  },
  {
   "cell_type": "markdown",
   "id": "9fefe3af-d4d8-4fa4-b09a-f059e27a92bf",
   "metadata": {
    "id": "bea983a3"
   },
   "source": [
    "---\n",
    "\n",
    "### Exercise 53:\n",
    "Write a Python function that takes two sets and returns their symmetric difference.\n",
    "\n",
    "```python\n",
    "# Exercise 53\n",
    "```"
   ]
  },
  {
   "cell_type": "code",
   "execution_count": 95,
   "id": "6f04eb7c-32b9-45a3-8000-484cc5186ffa",
   "metadata": {},
   "outputs": [
    {
     "data": {
      "text/plain": [
       "{2, 4, 23, 45}"
      ]
     },
     "execution_count": 95,
     "metadata": {},
     "output_type": "execute_result"
    }
   ],
   "source": [
    "def difference_symetrique(set_1, set_2):\n",
    "    return set_1 ^ set_2\n",
    "\n",
    "###################################\n",
    "\n",
    "set_1 = {23,45, 56, 98}\n",
    "set_2 = {56, 98, 2, 4}\n",
    "difference_symetrique(set_1, set_2)"
   ]
  },
  {
   "cell_type": "markdown",
   "id": "9261f73d-a658-4a9d-83c7-cfbd0ffb8c0c",
   "metadata": {
    "id": "bea983a3"
   },
   "source": [
    "---\n",
    "\n",
    "### Exercise 54:\n",
    "Write a Python program that finds the common elements in three lists `list1`, `list2`, and `list3`.\n",
    "\n",
    "```python\n",
    "# Exercise 54\n",
    "```"
   ]
  },
  {
   "cell_type": "code",
   "execution_count": 98,
   "id": "1bfa2d32-7c42-4c28-adea-78b965b2c123",
   "metadata": {},
   "outputs": [
    {
     "data": {
      "text/plain": [
       "[2, 4]"
      ]
     },
     "execution_count": 98,
     "metadata": {},
     "output_type": "execute_result"
    }
   ],
   "source": [
    "def elements_communs(liste_1, liste_2, liste_3):\n",
    "    liste = []\n",
    "    for i in liste_1:\n",
    "        if i in liste_2 and i in liste_3:\n",
    "            liste.append(i)\n",
    "    return liste\n",
    "\n",
    "#############################\n",
    "\n",
    "liste_1 = [2, 23, 45, 56, 98, 4]\n",
    "liste_2 = [56, 98, 2, 4]\n",
    "liste_3 = [2, 5, 3, 0, 4]\n",
    "elements_communs(liste_1, liste_2, liste_3)"
   ]
  },
  {
   "cell_type": "markdown",
   "id": "ce44c597-05e6-458e-a64a-361f1270060d",
   "metadata": {
    "id": "bea983a3"
   },
   "source": [
    "---\n",
    "\n",
    "### Exercise 55:\n",
    "Write a Python function that returns the factorial of a number using recursion.\n",
    "\n",
    "```python\n",
    "# Exercise 55\n",
    "```"
   ]
  },
  {
   "cell_type": "code",
   "execution_count": 103,
   "id": "74eb43e3-de48-4363-a959-a870b42b2aa4",
   "metadata": {},
   "outputs": [
    {
     "data": {
      "text/plain": [
       "24"
      ]
     },
     "execution_count": 103,
     "metadata": {},
     "output_type": "execute_result"
    }
   ],
   "source": [
    "def factoriel(n):\n",
    "    if n == 0:\n",
    "        return 1\n",
    "    else:\n",
    "        return n*factoriel(n-1)\n",
    "        \n",
    "#########################\n",
    "\n",
    "n = 4\n",
    "factoriel(n)"
   ]
  },
  {
   "cell_type": "markdown",
   "id": "7af11eef-b003-4c81-beec-389f5c9b4914",
   "metadata": {
    "id": "bea983a3"
   },
   "source": [
    "---\n",
    "\n",
    "### Exercise 56:\n",
    "Write a Python program that removes all empty strings from the list `[\"apple\", \"\", \"banana\", \"\", \"cherry\"]`.\n",
    "\n",
    "```python\n",
    "# Exercise 56\n",
    "```"
   ]
  },
  {
   "cell_type": "code",
   "execution_count": 105,
   "id": "0b852348-9991-4aa4-8043-73f9060b0552",
   "metadata": {},
   "outputs": [
    {
     "data": {
      "text/plain": [
       "['apple', 'banana', 'cherry']"
      ]
     },
     "execution_count": 105,
     "metadata": {},
     "output_type": "execute_result"
    }
   ],
   "source": [
    "liste = [\"apple\", \"\", \"banana\", \"\", \"cherry\"]\n",
    "liste_1 = []\n",
    "for i in range(len(liste)):\n",
    "    if len(liste[i]) != 0:\n",
    "        liste_1.append(liste[i])\n",
    "\n",
    "liste_1"
   ]
  },
  {
   "cell_type": "markdown",
   "id": "2c85a00b-30c4-4aa8-9633-0d413177d020",
   "metadata": {
    "id": "bea983a3"
   },
   "source": [
    "---\n",
    "\n",
    "### Exercise 57:\n",
    "Write a Python function that takes a dictionary and returns a new dictionary with the keys and values swapped.\n",
    "\n",
    "```python\n",
    "# Exercise 57\n",
    "```"
   ]
  },
  {
   "cell_type": "code",
   "execution_count": 106,
   "id": "5267d5bd-854c-4419-ba0d-f3e0ba947b4f",
   "metadata": {},
   "outputs": [
    {
     "data": {
      "text/plain": [
       "{12: 'a', 34: 'b', 8: 'c'}"
      ]
     },
     "execution_count": 106,
     "metadata": {},
     "output_type": "execute_result"
    }
   ],
   "source": [
    "def intervertir_cles_valeurs(dictionnaire):\n",
    "    dictionnaire_1 = {}\n",
    "    for cle in dictionnaire.keys():\n",
    "        dictionnaire_1[dictionnaire[cle]] = cle\n",
    "    return dictionnaire_1\n",
    "\n",
    "\n",
    "# Example teste\n",
    "\n",
    "dictionnaire = {\"a\": 12, \"b\": 34, \"c\": 8}\n",
    "intervertir_cles_valeurs(dictionnaire)"
   ]
  },
  {
   "cell_type": "markdown",
   "id": "1fdefe14-962a-4304-99d7-a1bca9470a88",
   "metadata": {
    "id": "bea983a3"
   },
   "source": [
    "---\n",
    "\n",
    "### Exercise 58:\n",
    "Write a Python function that takes a list of integers and returns a new list with only the even numbers.\n",
    "\n",
    "```python\n",
    "# Exercise 58\n",
    "```"
   ]
  },
  {
   "cell_type": "code",
   "execution_count": 108,
   "id": "ba1b8518-62ee-4c2c-a9f2-aa28ccc24697",
   "metadata": {},
   "outputs": [
    {
     "data": {
      "text/plain": [
       "[34, 54, 2, 6578]"
      ]
     },
     "execution_count": 108,
     "metadata": {},
     "output_type": "execute_result"
    }
   ],
   "source": [
    "def liste_nombres_pairs(liste):\n",
    "    return [i for i in liste if i%2 == 0]\n",
    "\n",
    "# Example teste\n",
    "\n",
    "liste = [23, 34, 54, 5, 2, 6578, 763, 121]\n",
    "liste_nombres_pairs(liste)"
   ]
  },
  {
   "cell_type": "markdown",
   "id": "dcc35b2b-4f48-4ccf-9de6-924f4c91869f",
   "metadata": {
    "id": "bea983a3"
   },
   "source": [
    "---\n",
    "\n",
    "### Exercise 59:\n",
    "Write a Python function that takes a list of tuples and returns a list of the first elements of each tuple.\n",
    "\n",
    "```python\n",
    "# Exercise 59\n",
    "```"
   ]
  },
  {
   "cell_type": "code",
   "execution_count": 109,
   "id": "75b1c06f-75ee-4805-9994-49c922ab2fe5",
   "metadata": {},
   "outputs": [
    {
     "data": {
      "text/plain": [
       "[2, 35, 33]"
      ]
     },
     "execution_count": 109,
     "metadata": {},
     "output_type": "execute_result"
    }
   ],
   "source": [
    "def fonction_liste_tuples(liste_tuples):\n",
    "    liste = []\n",
    "    for i in liste_tuples:\n",
    "        liste.append(i[0])\n",
    "    return liste\n",
    "\n",
    "    # Example teste\n",
    "\n",
    "liste_tuples = [(2,4), (35, 0), (33, 1)]\n",
    "fonction_liste_tuples(liste_tuples)"
   ]
  },
  {
   "cell_type": "markdown",
   "id": "9f5285ff-d18f-4fbc-8337-438c9cb106bc",
   "metadata": {
    "id": "bea983a3"
   },
   "source": [
    "---\n",
    "\n",
    "### Exercise 60:\n",
    "Write a Python program that removes duplicates from a list without changing the order of elements.\n",
    "\n",
    "```python\n",
    "# Exercise 60\n",
    "```"
   ]
  },
  {
   "cell_type": "code",
   "execution_count": 110,
   "id": "cb7981e9-69cb-455c-8982-59d55c8805c5",
   "metadata": {},
   "outputs": [
    {
     "data": {
      "text/plain": [
       "[1, 0, 5, 2]"
      ]
     },
     "execution_count": 110,
     "metadata": {},
     "output_type": "execute_result"
    }
   ],
   "source": [
    "def supprimer(liste):\n",
    "    liste_1 = []\n",
    "    for i in liste:\n",
    "        if i not in liste_1:\n",
    "            liste_1.append(i)\n",
    "    return liste_1\n",
    "\n",
    "# Example reste\n",
    "\n",
    "liste = [1,1,0,0,5,5,5,2,2,2]\n",
    "supprimer(liste)"
   ]
  },
  {
   "cell_type": "markdown",
   "id": "1e0fc56f-11c8-4ad6-9a80-9706e8228eb4",
   "metadata": {
    "id": "bea983a3"
   },
   "source": [
    "---\n",
    "\n",
    "### Exercise 61:\n",
    "Use the `map()` function to convert a list of strings to a list of their lengths.\n",
    "\n",
    "```python\n",
    "# Exercise 61\n",
    "```"
   ]
  },
  {
   "cell_type": "code",
   "execution_count": 113,
   "id": "aac53f22-b16b-4728-8e84-8fea8c1644de",
   "metadata": {},
   "outputs": [
    {
     "data": {
      "text/plain": [
       "[23, 17, 18]"
      ]
     },
     "execution_count": 113,
     "metadata": {},
     "output_type": "execute_result"
    }
   ],
   "source": [
    "def longueure_chaine(chaine):\n",
    "    return len(chaine)\n",
    "\n",
    "###########################\n",
    "liste_chaines = [\"Les programmeurs d'AIMS\", \"Le codeur d'élite\", \"L'expert en python\"]\n",
    "liste_longueure_chaines = list(map(longueure_chaine, liste_chaines))\n",
    "liste_longueure_chaines"
   ]
  },
  {
   "cell_type": "markdown",
   "id": "1d6fb50f-fa10-4e94-8237-3dce260198e8",
   "metadata": {
    "id": "bea983a3"
   },
   "source": [
    "---\n",
    "\n",
    "### Exercise 62:\n",
    "Write a Python program that calculates the average of a list of numbers.\n",
    "\n",
    "```python\n",
    "# Exercise 62\n",
    "```"
   ]
  },
  {
   "cell_type": "code",
   "execution_count": 115,
   "id": "2a525c61-ed9b-4508-9ee4-591eb8125337",
   "metadata": {},
   "outputs": [
    {
     "data": {
      "text/plain": [
       "14.666666666666666"
      ]
     },
     "execution_count": 115,
     "metadata": {},
     "output_type": "execute_result"
    }
   ],
   "source": [
    "def moyenne(liste_nombres):\n",
    "    a = 0\n",
    "    for i in liste_nombres:\n",
    "        a += i\n",
    "    return a/len(liste_nombres)\n",
    "\n",
    "# Example teste\n",
    "\n",
    "liste_nombres = [12, 15, 17]\n",
    "moyenne(liste_nombres)"
   ]
  },
  {
   "cell_type": "markdown",
   "id": "08c786ac-26d1-4e71-9053-6bbe250550ff",
   "metadata": {
    "id": "bea983a3"
   },
   "source": [
    "---\n",
    "\n",
    "### Exercise 63:\n",
    "Write a Python function that generates a list of the first `n` Fibonacci numbers.\n",
    "\n",
    "```python\n",
    "# Exercise 63\n",
    "```"
   ]
  },
  {
   "cell_type": "code",
   "execution_count": 118,
   "id": "54a22ea6-1658-4440-8635-4ec39242216c",
   "metadata": {},
   "outputs": [
    {
     "data": {
      "text/plain": [
       "[0, 1, 1, 2, 3, 5, 8, 13, 21, 34]"
      ]
     },
     "execution_count": 118,
     "metadata": {},
     "output_type": "execute_result"
    }
   ],
   "source": [
    "def Fibonacci_1(n):\n",
    "    if n <= 1:\n",
    "        print(\"Propriété: le paramètre doit être supérieur ou égal à 2 (n ≥ 2) pour obtenir suite de Fibonacci.\")\n",
    "        return 0\n",
    "    liste = [0, 1]\n",
    "    i = len(liste)\n",
    "    while i <= n:\n",
    "        liste.append(liste[-1] + liste[-2])\n",
    "        i = len(liste)\n",
    "    del liste[-1]\n",
    "    return liste\n",
    "\n",
    "    \n",
    "# Example teste\n",
    "n = 10\n",
    "Fibonacci_1(n)"
   ]
  },
  {
   "cell_type": "markdown",
   "id": "018b27de-b2b4-4dd3-adca-e2bd039485eb",
   "metadata": {
    "id": "bea983a3"
   },
   "source": [
    "---\n",
    "\n",
    "### Exercise 64:\n",
    "Write a Python program that counts how many times each element appears in the list `[\"apple\", \"banana\", \"apple\", \"cherry\"]`.\n",
    "\n",
    "```python\n",
    "# Exercise 64\n",
    "```"
   ]
  },
  {
   "cell_type": "code",
   "execution_count": 120,
   "id": "e661f425-b567-4003-8da6-480e34532c9e",
   "metadata": {},
   "outputs": [
    {
     "data": {
      "text/plain": [
       "{'apple': 2, 'banana': 1, 'cherry': 1}"
      ]
     },
     "execution_count": 120,
     "metadata": {},
     "output_type": "execute_result"
    }
   ],
   "source": [
    "liste = [\"apple\", \"banana\", \"apple\", \"cherry\"]\n",
    "dict_occurence_element_liste = {}\n",
    "for i in liste:\n",
    "   dict_occurence_element_liste[i] = liste.count(i)\n",
    "dict_occurence_element_liste"
   ]
  },
  {
   "cell_type": "markdown",
   "id": "54b428b3-7d94-48fe-8150-5dec43a2ee09",
   "metadata": {
    "id": "bea983a3"
   },
   "source": [
    "---\n",
    "\n",
    "### Exercise 65:\n",
    "Write a Python program that removes all occurrences of a specific value from a list.\n",
    "\n",
    "```python\n",
    "# Exercise 65\n",
    "```"
   ]
  },
  {
   "cell_type": "code",
   "execution_count": 122,
   "id": "66303c03-c3f6-4495-adad-b75885dd93bd",
   "metadata": {},
   "outputs": [
    {
     "data": {
      "text/plain": [
       "[1, 2]"
      ]
     },
     "execution_count": 122,
     "metadata": {},
     "output_type": "execute_result"
    }
   ],
   "source": [
    "def supprime_occurence(element, occurence, liste):\n",
    "    a = 0\n",
    "    while a < occurence - 1:\n",
    "        del liste[liste.index(element)]\n",
    "        a += 1\n",
    "    return liste\n",
    "\n",
    "# Example teste\n",
    "liste = [1,2,2,2,2]\n",
    "supprime_occurence(2, 4, liste)"
   ]
  },
  {
   "cell_type": "markdown",
   "id": "90425fb1-08ce-4b2d-9960-c22fb19ba535",
   "metadata": {
    "id": "bea983a3"
   },
   "source": [
    "---\n",
    "\n",
    "### Exercise 66:\n",
    "Write a Python function that takes a list of strings and returns a list of the strings that start with a vowel.\n",
    "\n",
    "```python\n",
    "# Exercise 66\n",
    "```"
   ]
  },
  {
   "cell_type": "code",
   "execution_count": 125,
   "id": "ada0bcbf-e574-4106-8a34-a0f86ec551df",
   "metadata": {},
   "outputs": [
    {
     "data": {
      "text/plain": [
       "['apple', 'Ananas', 'Algèbre', 'Urologie', 'Ismaïla']"
      ]
     },
     "execution_count": 125,
     "metadata": {},
     "output_type": "execute_result"
    }
   ],
   "source": [
    "def listes_commencant_par_une_voyelle(liste_chaines):\n",
    "    liste = []\n",
    "    chaine_voyelles = \"iuoaey\"\n",
    "    for i in liste_chaines:\n",
    "        if i[0].lower() in chaine_voyelles:\n",
    "            liste.append(i)\n",
    "    return liste\n",
    "\n",
    "# Example teste\n",
    "\n",
    "liste_chaines = [\"apple\", \"banana\", \"Ananas\", \"Algèbre\", \"Urologie\", \"Medecine\", \"Ismaïla\"]\n",
    "listes_commencant_par_une_voyelle(liste_chaines)"
   ]
  },
  {
   "cell_type": "markdown",
   "id": "1080eed0-093d-4960-8acf-730329dddff0",
   "metadata": {
    "id": "bea983a3"
   },
   "source": [
    "---\n",
    "\n",
    "### Exercise 67:\n",
    "Write a Python program that finds the intersection of two sets `set1` and `set2`.\n",
    "\n",
    "```python\n",
    "# Exercise 67\n",
    "```"
   ]
  },
  {
   "cell_type": "code",
   "execution_count": 127,
   "id": "396d7b64-6cd7-4079-8a1c-c5d580ea97fd",
   "metadata": {},
   "outputs": [
    {
     "data": {
      "text/plain": [
       "{56, 98}"
      ]
     },
     "execution_count": 127,
     "metadata": {},
     "output_type": "execute_result"
    }
   ],
   "source": [
    "set_1 = {23,45, 56, 98}\n",
    "set_2 = {56, 98, 2, 4}\n",
    "set_1.intersection(set_2)"
   ]
  },
  {
   "cell_type": "markdown",
   "id": "f1f0eeb5-77b6-4517-9802-fbca5ddbeb7b",
   "metadata": {
    "id": "bea983a3"
   },
   "source": [
    "---\n",
    "\n",
    "### Exercise 68:\n",
    "Write a Python function that flattens a nested list.\n",
    "\n",
    "```python\n",
    "# Exercise 68\n",
    "```"
   ]
  },
  {
   "cell_type": "code",
   "execution_count": 128,
   "id": "cc637e56-b01a-41cf-8025-edfbe4a6fe7d",
   "metadata": {},
   "outputs": [
    {
     "data": {
      "text/plain": [
       "[1, 2, 3, 4, 5, 6]"
      ]
     },
     "execution_count": 128,
     "metadata": {},
     "output_type": "execute_result"
    }
   ],
   "source": [
    "def applatir_liste_imbriquee(liste_imbriquee): # liste_imbriquee := liste_de_listes\n",
    "    liste = []\n",
    "    for i in liste_imbriquee:\n",
    "        for j in i:\n",
    "            liste.append(j)\n",
    "    return liste\n",
    "\n",
    "\n",
    "# Example teste\n",
    "\n",
    "liste_imbriquee = [[1,2], [3,4], [5,6]]\n",
    "applatir_liste_imbriquee(liste_imbriquee)"
   ]
  },
  {
   "cell_type": "markdown",
   "id": "2e6e4a15-64f6-460a-b9a7-fb20461fdd48",
   "metadata": {
    "id": "bea983a3"
   },
   "source": [
    "---\n",
    "\n",
    "### Exercise 69:\n",
    "Write a Python program that checks if all the elements in a list are unique.\n",
    "\n",
    "```python\n",
    "# Exercise 69\n",
    "```"
   ]
  },
  {
   "cell_type": "code",
   "execution_count": 135,
   "id": "17e5a1f3-0eeb-4749-b5f5-698e9cbfb8cc",
   "metadata": {},
   "outputs": [
    {
     "name": "stdout",
     "output_type": "stream",
     "text": [
      "Tous les éléments de la liste sont uniques.\n",
      "\n",
      "=======================\n",
      "\n",
      "Tous les éléments de la liste ne sont pas uniques.\n"
     ]
    }
   ],
   "source": [
    "def teste_elements_uniques_liste(liste):\n",
    "    a = 0\n",
    "    for i in liste:\n",
    "        if liste.count(i) >= 2:\n",
    "            a += 1\n",
    "    if a != 0:\n",
    "        print(\"Tous les éléments de la liste ne sont pas uniques.\")\n",
    "    else:\n",
    "        print(\"Tous les éléments de la liste sont uniques.\")\n",
    "\n",
    "# Example teste\n",
    "\n",
    "liste_1 = [2, 3, 45, 56]\n",
    "teste_elements_uniques_liste(liste_1)\n",
    "print(\"\\n=======================\\n\")\n",
    "liste_2 = [2, 3, 45, 56, 2, 3]\n",
    "teste_elements_uniques_liste(liste_2)"
   ]
  },
  {
   "cell_type": "markdown",
   "id": "4cd6edcf-c09f-4270-b52f-bc158c8a6534",
   "metadata": {
    "id": "bea983a3"
   },
   "source": [
    "---\n",
    "\n",
    "### Exercise 70:\n",
    "Use the `reduce()` function from the `functools` module to multiply all elements in a list.\n",
    "\n",
    "```python\n",
    "# Exercise 70\n",
    "```"
   ]
  },
  {
   "cell_type": "code",
   "execution_count": 146,
   "id": "f73149cb-ef71-4760-8167-d835e0a01d61",
   "metadata": {},
   "outputs": [
    {
     "data": {
      "text/plain": [
       "120"
      ]
     },
     "execution_count": 146,
     "metadata": {},
     "output_type": "execute_result"
    }
   ],
   "source": [
    "from functools import reduce\n",
    "\n",
    "liste = [2,3,4,5]\n",
    "resultat_produit_elements = reduce(lambda x,y: x * y, liste)\n",
    "resultat_produit_elements"
   ]
  },
  {
   "cell_type": "markdown",
   "id": "3f89ac3d-9e06-4588-b5ae-8b27f6ec4f9c",
   "metadata": {
    "id": "bea983a3"
   },
   "source": [
    "---\n",
    "\n",
    "### Exercise 71:\n",
    "Write a Python function that takes a list of strings and returns a dictionary where keys are strings and values are their lengths.\n",
    "\n",
    "```python\n",
    "# Exercise 71\n",
    "```"
   ]
  },
  {
   "cell_type": "code",
   "execution_count": 149,
   "id": "78534c70-43de-4811-a647-b39d6a451242",
   "metadata": {},
   "outputs": [
    {
     "data": {
      "text/plain": [
       "{'apple': 5, 'banana': 6, 'cherry': 6}"
      ]
     },
     "execution_count": 149,
     "metadata": {},
     "output_type": "execute_result"
    }
   ],
   "source": [
    "def creation_dictionnaire(liste_chaine):\n",
    "    dict_element_liste_longueure = {}\n",
    "    for i in liste_chaine:\n",
    "        dict_element_liste_longueure[i] = len(i)\n",
    "    return dict_element_liste_longueure\n",
    "\n",
    "# Example teste\n",
    "liste_chaine = [\"apple\", \"banana\", \"apple\", \"cherry\"]\n",
    "creation_dictionnaire(liste_chaine)"
   ]
  },
  {
   "cell_type": "markdown",
   "id": "6bdea748-a7bb-4e22-8d4c-5b83128375d9",
   "metadata": {
    "id": "bea983a3"
   },
   "source": [
    "---\n",
    "\n",
    "### Exercise 72:\n",
    "Write a Python program that counts the number of vowels in a string.\n",
    "\n",
    "```python\n",
    "# Exercise 72\n",
    "```"
   ]
  },
  {
   "cell_type": "code",
   "execution_count": 150,
   "id": "8105e1e5-46bf-4009-967b-37e4f7500d19",
   "metadata": {},
   "outputs": [
    {
     "name": "stdout",
     "output_type": "stream",
     "text": [
      "Ls chaine \"Les codeurs d'AIMS\" a 6 voyelle(s)\n"
     ]
    }
   ],
   "source": [
    "chaine = \"Les codeurs d'AIMS\"\n",
    "chaine_voyelles = \"iuoaey\"\n",
    "a = 0\n",
    "for i in chaine:\n",
    "    if i.lower() in chaine_voyelles:\n",
    "        a += 1\n",
    "print(f\"Ls chaine \\\"{chaine}\\\" a {a} voyelle(s)\")"
   ]
  },
  {
   "cell_type": "markdown",
   "id": "91c41cbc-e413-4d20-8dd3-8176b03f5ea0",
   "metadata": {
    "id": "bea983a3"
   },
   "source": [
    "---\n",
    "\n",
    "### Exercise 73:\n",
    "Create a list of tuples where each tuple contains a number from 1 to 5 and its factorial.\n",
    "\n",
    "```python\n",
    "# Exercise 73\n",
    "```"
   ]
  },
  {
   "cell_type": "markdown",
   "id": "2b23d444-eec8-4a14-8542-3352e94a89f7",
   "metadata": {},
   "source": [
    "### Answer Exercise 73: this exercise is badly posed"
   ]
  },
  {
   "cell_type": "markdown",
   "id": "3b9d517b-00b5-4f24-a1f4-4cc75ac18a97",
   "metadata": {
    "id": "bea983a3"
   },
   "source": [
    "---\n",
    "\n",
    "### Exercise 74:\n",
    "Write a Python program that converts a list of dictionaries into a single dictionary by merging them.\n",
    "\n",
    "```python\n",
    "# Exercise 74\n",
    "```"
   ]
  },
  {
   "cell_type": "code",
   "execution_count": 151,
   "id": "67e3529e-4031-464d-a91e-616aea930355",
   "metadata": {},
   "outputs": [
    {
     "data": {
      "text/plain": [
       "{'a': 12,\n",
       " 'b': 34,\n",
       " 'c': 38,\n",
       " 'e': 12,\n",
       " 'f': 374,\n",
       " 'g': 8,\n",
       " 'h': 12,\n",
       " 'i': 34,\n",
       " 'j': 8}"
      ]
     },
     "execution_count": 151,
     "metadata": {},
     "output_type": "execute_result"
    }
   ],
   "source": [
    "mon_liste_dict = [{\"a\": 12, \"b\": 34, \"c\": 38}, {\"e\": 12, \"f\": 374, \"g\": 8}, {\"h\": 12, \"i\": 34, \"j\": 8}]\n",
    "mon_dict = {}\n",
    "for i in mon_liste_dict:\n",
    "    mon_dict.update(i)\n",
    "mon_dict"
   ]
  },
  {
   "cell_type": "markdown",
   "id": "d01b44be-54d6-4ad6-a7fa-2f5831b3a603",
   "metadata": {
    "id": "bea983a3"
   },
   "source": [
    "---\n",
    "\n",
    "### Exercise 75:\n",
    "Write a Python function that checks if a set is a subset of another set.\n",
    "\n",
    "```python\n",
    "# Exercise 75\n",
    "```"
   ]
  },
  {
   "cell_type": "code",
   "execution_count": 156,
   "id": "20620987-1d3f-435d-acb3-ad312883ec8f",
   "metadata": {},
   "outputs": [
    {
     "name": "stdout",
     "output_type": "stream",
     "text": [
      "{1, 3} est un sous-ensemble de {1, 2, 3}\n"
     ]
    }
   ],
   "source": [
    "def verif_sous_ensemble(sous_ensemble, ensemble):\n",
    "    if sous_ensemble.issubset(ensemble) == True:\n",
    "        print(f\"{sous_ensemble} est un sous-ensemble de {ensemble}\")\n",
    "    else:\n",
    "        print(f\"{sous_ensemble} n'est pas un sous-ensemble de {ensemble}\")\n",
    "     \n",
    "\n",
    "# Example teste\n",
    "\n",
    "ensemble = {1,2,3}\n",
    "sous_ensemble = {1,3}\n",
    "verif_sous_ensemble(sous_ensemble, ensemble)"
   ]
  },
  {
   "cell_type": "markdown",
   "id": "7f07bc38-ca4d-43a6-833e-dd879e541336",
   "metadata": {
    "id": "bea983a3"
   },
   "source": [
    "---\n",
    "\n",
    "### Exercise 76:\n",
    "Write a Python program that sorts a list of tuples based on the second element in each tuple.\n",
    "\n",
    "```python\n",
    "# Exercise 76\n",
    "```"
   ]
  },
  {
   "cell_type": "code",
   "execution_count": 190,
   "id": "4998de00-df26-4e50-98ca-934775f4108f",
   "metadata": {},
   "outputs": [
    {
     "data": {
      "text/plain": [
       "[(6, 0), (3, 12), (3, 12), (1, 34)]"
      ]
     },
     "execution_count": 190,
     "metadata": {},
     "output_type": "execute_result"
    }
   ],
   "source": [
    "def trie_liste_tuples(liste_tuples):\n",
    "    liste = []\n",
    "    for i in liste_tuples:\n",
    "        liste.append(i[1])\n",
    "    liste_1 = sorted(liste)\n",
    "    liste_2 = []\n",
    "    for i in liste_1:\n",
    "        if i not in liste_2:\n",
    "            liste_2.append(i)\n",
    "    liste_trier = []\n",
    "    for i in liste_2:\n",
    "        for j in liste_tuples:\n",
    "            if j[1] == i:\n",
    "                liste_trier.append(j)  \n",
    "    return liste_trier\n",
    "\n",
    "# Example teste\n",
    "\n",
    "liste_tuples = [(1,34), (3,12), (6,0), (3,12)]\n",
    "trie_liste_tuples(liste_tuples)"
   ]
  },
  {
   "cell_type": "markdown",
   "id": "1b8f76f8-bb01-4370-8e60-791afdbb102e",
   "metadata": {
    "id": "bea983a3"
   },
   "source": [
    "---\n",
    "\n",
    "### Exercise 77:\n",
    "Write a Python function that takes a list of integers and returns a new list with only the positive integers.\n",
    "\n",
    "```python\n",
    "# Exercise 77\n",
    "```"
   ]
  },
  {
   "cell_type": "code",
   "execution_count": 177,
   "id": "d93d5eb8-4a57-4fd7-be0b-ec20f757386b",
   "metadata": {},
   "outputs": [
    {
     "data": {
      "text/plain": [
       "[2, 56, 7]"
      ]
     },
     "execution_count": 177,
     "metadata": {},
     "output_type": "execute_result"
    }
   ],
   "source": [
    "def entiesr_positifs_liste(liste):\n",
    "    liste_1 = [i for i in liste if i > 0]\n",
    "    return liste_1\n",
    "\n",
    "# Example teste\n",
    "\n",
    "liste = [2, -4, 56, 7, -9]\n",
    "entiesr_positifs_liste(liste)"
   ]
  },
  {
   "cell_type": "markdown",
   "id": "b6c6c68d-750d-4bac-b601-f5d02f1f1166",
   "metadata": {
    "id": "bea983a3"
   },
   "source": [
    "---\n",
    "\n",
    "### Exercise 78:\n",
    "Write a Python function that takes two sets and returns their union.\n",
    "\n",
    "```python\n",
    "# Exercise 78\n",
    "```"
   ]
  },
  {
   "cell_type": "code",
   "execution_count": 180,
   "id": "b835388a-c77e-4675-ba8e-4942beed40b7",
   "metadata": {},
   "outputs": [
    {
     "data": {
      "text/plain": [
       "{2, 4, 23, 45, 56, 98}"
      ]
     },
     "execution_count": 180,
     "metadata": {},
     "output_type": "execute_result"
    }
   ],
   "source": [
    "def union_ensemble(set_1, set_2):\n",
    "    return set_1.union(set_2)\n",
    "\n",
    "# Example teste\n",
    "\n",
    "set_1 = {23,45, 56, 98}\n",
    "set_2 = {56, 98, 2, 4}\n",
    "union_ensemble(set_1, set_2)"
   ]
  },
  {
   "cell_type": "markdown",
   "id": "47577d02-bb0b-4cc8-8feb-6ba2628eff0d",
   "metadata": {
    "id": "bea983a3"
   },
   "source": [
    "---\n",
    "\n",
    "### Exercise 79:\n",
    "Write a Python function that takes a list of numbers and returns the product of all the numbers.\n",
    "\n",
    "```python\n",
    "# Exercise 79\n",
    "```"
   ]
  },
  {
   "cell_type": "code",
   "execution_count": 181,
   "id": "de54a86a-47bc-4b7b-83fc-be055cfabdf1",
   "metadata": {},
   "outputs": [
    {
     "data": {
      "text/plain": [
       "64"
      ]
     },
     "execution_count": 181,
     "metadata": {},
     "output_type": "execute_result"
    }
   ],
   "source": [
    "def produit_elements_liste(liste):\n",
    "    a = 1\n",
    "    for i in liste:\n",
    "        a *= i\n",
    "    return a\n",
    "\n",
    "# Example teste\n",
    "\n",
    "liste = [2 , 4, 8]\n",
    "produit_elements_liste(liste)"
   ]
  },
  {
   "cell_type": "markdown",
   "id": "9652a5ca-f99b-41f2-b1d1-6bb8ba83a4f4",
   "metadata": {
    "id": "bea983a3"
   },
   "source": [
    "---\n",
    "\n",
    "### Exercise 80:\n",
    "Write a Python program that converts a list of characters into a string.\n",
    "\n",
    "```python\n",
    "# Exercise 80\n",
    "```"
   ]
  },
  {
   "cell_type": "code",
   "execution_count": 182,
   "id": "b1089ac8-bedb-4d29-a00b-744985fb1bb6",
   "metadata": {},
   "outputs": [
    {
     "data": {
      "text/plain": [
       "'AIMS'"
      ]
     },
     "execution_count": 182,
     "metadata": {},
     "output_type": "execute_result"
    }
   ],
   "source": [
    "def liste_caracteres_vers_chaine_caracteres(liste_caracteres):\n",
    "    chaine = \"\".join(liste_caracteres)\n",
    "    return chaine\n",
    "\n",
    "# Example teste\n",
    "\n",
    "liste_caracteres = [\"A\", \"I\", \"M\", \"S\"]\n",
    "liste_caracteres_vers_chaine_caracteres(liste_caracteres)"
   ]
  },
  {
   "cell_type": "markdown",
   "id": "30e7dfbf-b126-4b59-99a1-5f7a38d8b6a6",
   "metadata": {
    "id": "bea983a3"
   },
   "source": [
    "---\n",
    "\n",
    "### Exercise 81:\n",
    "Write a Python program that finds the second largest number in a list of integers.\n",
    "\n",
    "```python\n",
    "# Exercise 81\n",
    "```"
   ]
  },
  {
   "cell_type": "code",
   "execution_count": 185,
   "id": "14ab73d0-9503-4818-bd81-83183cff05cf",
   "metadata": {},
   "outputs": [
    {
     "data": {
      "text/plain": [
       "90"
      ]
     },
     "execution_count": 185,
     "metadata": {},
     "output_type": "execute_result"
    }
   ],
   "source": [
    "liste = [23, 45, 6, 8, 90, 345]\n",
    "liste = sorted(liste)\n",
    "liste[-2]"
   ]
  },
  {
   "cell_type": "markdown",
   "id": "c1e6f15e-56d8-4596-8e7d-e28a4c24fe20",
   "metadata": {
    "id": "bea983a3"
   },
   "source": [
    "---\n",
    "\n",
    "### Exercise 82:\n",
    "Write a Python function that takes a dictionary and returns a list of its keys in sorted order.\n",
    "\n",
    "```python\n",
    "# Exercise 82\n",
    "```"
   ]
  },
  {
   "cell_type": "code",
   "execution_count": 186,
   "id": "0dac342e-a854-48c7-acc4-c2f6aee79ea8",
   "metadata": {},
   "outputs": [
    {
     "data": {
      "text/plain": [
       "['a', 'b', 'c']"
      ]
     },
     "execution_count": 186,
     "metadata": {},
     "output_type": "execute_result"
    }
   ],
   "source": [
    "def ord_cles_dict(dictionnaire):\n",
    "    liste_cles = []\n",
    "    for i in dictionnaire.keys():\n",
    "        liste_cles.append(i)\n",
    "    liste_cles.sort()\n",
    "    return liste_cles\n",
    "\n",
    "# Example teste\n",
    "\n",
    "dictionnaire = {\"b\": 34, \"c\": 38, \"a\": 12}\n",
    "ord_cles_dict(dictionnaire)"
   ]
  },
  {
   "cell_type": "markdown",
   "id": "034f3638-cb91-42f7-806a-f28bd069955c",
   "metadata": {
    "id": "bea983a3"
   },
   "source": [
    "### Exercise 83:\n",
    "Write a Python program that finds the most common element in a list.\n",
    "\n",
    "```python\n",
    "# Exercise 83\n",
    "```"
   ]
  },
  {
   "cell_type": "markdown",
   "id": "057cd65b-272f-452e-8fd7-ffca3670a369",
   "metadata": {},
   "source": [
    "### Exercise 83: problem badly posed"
   ]
  },
  {
   "cell_type": "markdown",
   "id": "90b25f12-23d5-45ac-8d3d-0c26d2808b7a",
   "metadata": {
    "id": "bea983a3"
   },
   "source": [
    "---\n",
    "\n",
    "### Exercise 84:\n",
    "Write a Python function that takes a list of tuples and returns a list of the tuples sorted by the first element.\n",
    "\n",
    "```python\n",
    "# Exercise 84\n",
    "```"
   ]
  },
  {
   "cell_type": "code",
   "execution_count": 189,
   "id": "58ac29d6-e117-4fed-ba00-a6aadf9cea56",
   "metadata": {},
   "outputs": [
    {
     "data": {
      "text/plain": [
       "[(1, 34), (3, 12), (3, 12), (6, 0)]"
      ]
     },
     "execution_count": 189,
     "metadata": {},
     "output_type": "execute_result"
    }
   ],
   "source": [
    "def trie_liste_tuples_1(liste_tuples):\n",
    "    liste = []\n",
    "    for i in liste_tuples:\n",
    "        liste.append(i[0])\n",
    "    liste_1 = sorted(liste)\n",
    "    liste_2 = []\n",
    "    for i in liste_1:\n",
    "        if i not in liste_2:\n",
    "            liste_2.append(i)\n",
    "    liste_trier = []\n",
    "    for i in liste_2:\n",
    "        for j in liste_tuples:\n",
    "            if j[0] == i:\n",
    "                liste_trier.append(j)  \n",
    "    return liste_trier\n",
    "\n",
    "# Example teste\n",
    "\n",
    "liste_tuples = [(1,34), (3,12), (6,0), (3,12)]\n",
    "trie_liste_tuples_1(liste_tuples)"
   ]
  },
  {
   "cell_type": "markdown",
   "id": "5292633f-d609-46f9-b8ab-eaf0c5f9d5db",
   "metadata": {
    "id": "bea983a3"
   },
   "source": [
    "---\n",
    "\n",
    "### Exercise 85:\n",
    "Write a Python program that removes duplicates from a list of dictionaries."
   ]
  },
  {
   "cell_type": "code",
   "execution_count": 191,
   "id": "8e86739e-522f-4f81-95ef-0cf48d0e69e4",
   "metadata": {},
   "outputs": [
    {
     "data": {
      "text/plain": [
       "[(1, 34), (3, 12), (6, 0)]"
      ]
     },
     "execution_count": 191,
     "metadata": {},
     "output_type": "execute_result"
    }
   ],
   "source": [
    "def suppr_doublon_liste_dict(liste_dict):\n",
    "    liste = []\n",
    "    for i in liste_dict:\n",
    "        if i not in liste:\n",
    "            liste.append(i)\n",
    "    return liste\n",
    "\n",
    "# Example teste\n",
    "\n",
    "liste_dict = [(1, 34), (3, 12), (3, 12), (6, 0)]\n",
    "suppr_doublon_liste_dict(liste_dict)"
   ]
  },
  {
   "cell_type": "markdown",
   "id": "3e4cf0f1-833a-4c3e-87a4-6c61b6d2a763",
   "metadata": {
    "id": "bea983a3"
   },
   "source": [
    "### Exercise 86:\n",
    "Write a Python function that takes a list of numbers and returns the minimum and maximum numbers in the list.\n",
    "\n",
    "```python\n",
    "# Exercise 86\n",
    "```"
   ]
  },
  {
   "cell_type": "code",
   "execution_count": 192,
   "id": "9af478ae-0e86-4f46-94be-ed1ba0d8bad3",
   "metadata": {},
   "outputs": [
    {
     "data": {
      "text/plain": [
       "[4, 67]"
      ]
     },
     "execution_count": 192,
     "metadata": {},
     "output_type": "execute_result"
    }
   ],
   "source": [
    "def minimum_et_maximum_liste(liste):\n",
    "    liste_1 = sorted(liste)\n",
    "    return [liste_1[0], liste_1[-1]]\n",
    "\n",
    "\n",
    "# Example teste\n",
    "\n",
    "liste = [23, 4, 45, 67, 12]\n",
    "minimum_et_maximum_liste(liste)"
   ]
  },
  {
   "cell_type": "markdown",
   "id": "189007db-e141-49b1-b517-cb49d2ed10fa",
   "metadata": {
    "id": "bea983a3"
   },
   "source": [
    "---\n",
    "\n",
    "### Exercise 87:\n",
    "Write a Python program that creates a list of tuples from two lists.\n",
    "\n",
    "```python\n",
    "# Exercise 87\n",
    "```"
   ]
  },
  {
   "cell_type": "code",
   "execution_count": 194,
   "id": "75b5c127-4ab4-4eea-b600-30f377044f24",
   "metadata": {},
   "outputs": [
    {
     "data": {
      "text/plain": [
       "[(23, 3), (4, -1), (45, -5), (67, 0), (12, 3)]"
      ]
     },
     "execution_count": 194,
     "metadata": {},
     "output_type": "execute_result"
    }
   ],
   "source": [
    "liste_1 = [23, 4, 45, 67, 12]\n",
    "liste_2 = [3, -1, -5, 0, 3]\n",
    "liste_tuples = []\n",
    "for i in range(len(liste_1)):\n",
    "    liste_tuples.append((liste_1[i], liste_2[i]))\n",
    "\n",
    "liste_tuples"
   ]
  },
  {
   "cell_type": "markdown",
   "id": "a77d7b2b-9d28-4171-bb89-7e2d02b72105",
   "metadata": {
    "id": "bea983a3"
   },
   "source": [
    "---\n",
    "\n",
    "### Exercise 88:\n",
    "Write a Python function that takes a list of strings and returns a list of the strings in reverse order.\n",
    "\n",
    "```python\n",
    "# Exercise 88\n",
    "```"
   ]
  },
  {
   "cell_type": "code",
   "execution_count": 196,
   "id": "6be46057-f925-4637-af2b-a9fcd526a347",
   "metadata": {},
   "outputs": [
    {
     "data": {
      "text/plain": [
       "['Hackeur', 'Pentesteur', 'Mathématicien', 'Programmeur']"
      ]
     },
     "execution_count": 196,
     "metadata": {},
     "output_type": "execute_result"
    }
   ],
   "source": [
    "def inverse_liste_chaines(liste_chaines):\n",
    "    liste = []\n",
    "    for i in range(1, len(liste_chaines) + 1):\n",
    "        liste.append(liste_chaines[-i])\n",
    "    return liste\n",
    "\n",
    "# Example teste\n",
    "\n",
    "liste_chaines = [\"Programmeur\", \"Mathématicien\", \"Pentesteur\", \"Hackeur\"]\n",
    "inverse_liste_chaines(liste_chaines)"
   ]
  },
  {
   "cell_type": "markdown",
   "id": "c16933c7-c313-4c16-9456-27f2d23fd1d4",
   "metadata": {
    "id": "bea983a3"
   },
   "source": [
    "---\n",
    "\n",
    "### Exercise 89:\n",
    "Write a Python function that takes a list of integers and returns the sum of all odd numbers.\n",
    "\n",
    "```python\n",
    "# Exercise 89\n",
    "```"
   ]
  },
  {
   "cell_type": "code",
   "execution_count": 199,
   "id": "90c18a9e-469a-4ec2-8b21-57e9d7574557",
   "metadata": {},
   "outputs": [
    {
     "data": {
      "text/plain": [
       "59"
      ]
     },
     "execution_count": 199,
     "metadata": {},
     "output_type": "execute_result"
    }
   ],
   "source": [
    "def somme_nombres_impairs_liste(liste):\n",
    "    return sum([i for i in liste if i%2 != 0]) \n",
    "\n",
    "# Example test\n",
    "\n",
    "liste = [1,2,4,5,9,7,37]\n",
    "somme_nombres_impairs_liste(liste)"
   ]
  },
  {
   "cell_type": "markdown",
   "id": "81a7d4aa-4e85-48d6-bf30-b8ac3b74dffa",
   "metadata": {
    "id": "bea983a3"
   },
   "source": [
    "---\n",
    "\n",
    "### Exercise 90:\n",
    "Write a Python program that checks if a string is a palindrome.\n",
    "\n",
    "```python\n",
    "# Exercise 90\n",
    "```"
   ]
  },
  {
   "cell_type": "code",
   "execution_count": 201,
   "id": "9b84e2c0-ac1b-4584-a9f0-51641634d111",
   "metadata": {},
   "outputs": [
    {
     "name": "stdout",
     "output_type": "stream",
     "text": [
      "Matam est un palindrome\n"
     ]
    }
   ],
   "source": [
    "def palindrome(mot):\n",
    "    mot_1 = mot[::-1]\n",
    "    if mot.lower() == mot_1.lower():\n",
    "        print(f\"{mot} est un palindrome\")\n",
    "    else:\n",
    "        print(f\"{mot} n'est pas un palindrome\")\n",
    "\n",
    "### Teste\n",
    "\n",
    "mot = \"Matam\"\n",
    "palindrome(mot)"
   ]
  },
  {
   "cell_type": "markdown",
   "id": "2811b950-3496-4224-b8b1-f7f2a9b09acf",
   "metadata": {
    "id": "bea983a3"
   },
   "source": [
    "---\n",
    "\n",
    "### Exercise 91:\n",
    "Write a Python program that finds the median of a list of numbers.\n",
    "\n",
    "```python\n",
    "# Exercise 91\n",
    "```"
   ]
  },
  {
   "cell_type": "code",
   "execution_count": 205,
   "id": "cd955dde-8a21-4f40-8052-b8250c9da667",
   "metadata": {},
   "outputs": [
    {
     "name": "stdout",
     "output_type": "stream",
     "text": [
      "[2, 2, 3, 5, 7, 9, 10, 11]\n"
     ]
    },
    {
     "data": {
      "text/plain": [
       "6.0"
      ]
     },
     "execution_count": 205,
     "metadata": {},
     "output_type": "execute_result"
    }
   ],
   "source": [
    "def mediane_liste_nombres(liste_nombres):\n",
    "    liste = sorted(liste_nombres)\n",
    "    if len(liste) % 2 == 0:\n",
    "        print(liste)\n",
    "        mediane = (liste[len(liste)//2 - 1] + liste[len(liste)//2]) / 2\n",
    "        return mediane \n",
    "    else:\n",
    "        print(liste)\n",
    "        mediane = liste[len(liste)//2 + 1]\n",
    "        return mediane\n",
    "\n",
    "\n",
    "## Tese\n",
    "\n",
    "liste_nombres = [3, 11, 7, 2, 5, 9, 2, 10]\n",
    "mediane_liste_nombres(liste_nombres)"
   ]
  },
  {
   "cell_type": "markdown",
   "id": "fe3e3b65-d6af-457f-a5bd-898096e8c318",
   "metadata": {
    "id": "bea983a3"
   },
   "source": [
    "---\n",
    "\n",
    "### Exercise 92:\n",
    "Write a Python function that takes a list of dictionaries and returns a dictionary with the total value for each key.\n",
    "\n",
    "```python\n",
    "# Exercise 92\n",
    "```"
   ]
  },
  {
   "cell_type": "code",
   "execution_count": 217,
   "id": "2115c041-bf8b-42e6-b3d1-6aa17598b081",
   "metadata": {},
   "outputs": [
    {
     "data": {
      "text/plain": [
       "{'a': 36, 'b': 102, 'c': 114, 'd': 45}"
      ]
     },
     "execution_count": 217,
     "metadata": {},
     "output_type": "execute_result"
    }
   ],
   "source": [
    "def sum_valeurs_cles_dict(liste_dict):\n",
    "    liste_cles = []\n",
    "    for i in liste_dict:\n",
    "        for j in i.keys():\n",
    "            if j not in liste_cles:\n",
    "                liste_cles.append(j)\n",
    "                \n",
    "    mon_dict = {}\n",
    "    for i in liste_cles:\n",
    "        a = 0\n",
    "        for dictionnaire in liste_dict:\n",
    "            if i in dictionnaire.keys():\n",
    "                a += dictionnaire[i]\n",
    "        mon_dict[i] = a\n",
    "    return mon_dict\n",
    "\n",
    "\n",
    "### Teste\n",
    "\n",
    "liste_dict = [{\"a\": 12, \"b\": 34, \"c\": 38}, {\"a\": 12, \"b\": 34, \"c\": 38, \"d\": 45}, {\"a\": 12, \"b\": 34, \"c\": 38}]\n",
    "sum_valeurs_cles_dict(liste_dict)"
   ]
  },
  {
   "cell_type": "markdown",
   "id": "2c4b0d65-06cb-4546-9369-8c6dfbb12bc4",
   "metadata": {
    "id": "bea983a3"
   },
   "source": [
    "---\n",
    "\n",
    "### Exercise 93:\n",
    "Write a Python program that calculates the mode of a list of numbers.\n",
    "\n",
    "```python\n",
    "# Exercise 93\n",
    "```"
   ]
  },
  {
   "cell_type": "code",
   "execution_count": 224,
   "id": "c256b98d-a1e3-4100-b4c0-0c9a521dbb02",
   "metadata": {},
   "outputs": [
    {
     "data": {
      "text/plain": [
       "[4, 5]"
      ]
     },
     "execution_count": 224,
     "metadata": {},
     "output_type": "execute_result"
    }
   ],
   "source": [
    "liste = [2,3,4,4,4,5,5,5,5,6,2,3,4]\n",
    "\n",
    "liste_1 = [liste.count(i) for i in liste]\n",
    "liste_2 = list(set(sorted(liste_1)))\n",
    "liste_3 = list(set(sorted(liste)))\n",
    "mode_liste = [i for i in liste_3 if liste.count(i) == liste_2[-1]]\n",
    "mode_liste"
   ]
  },
  {
   "cell_type": "markdown",
   "id": "de8ca051-56d4-4d8a-84f7-a38c28da2f9e",
   "metadata": {
    "id": "bea983a3"
   },
   "source": [
    "---\n",
    "\n",
    "### Exercise 94:\n",
    "Write a Python function that takes a list of numbers and returns the sum of the squares of all the numbers.\n",
    "\n",
    "```python\n",
    "# Exercise 94\n",
    "```"
   ]
  },
  {
   "cell_type": "code",
   "execution_count": 226,
   "id": "2730c96b-de7c-488b-a6e9-d92c38813c33",
   "metadata": {},
   "outputs": [
    {
     "data": {
      "text/plain": [
       "29"
      ]
     },
     "execution_count": 226,
     "metadata": {},
     "output_type": "execute_result"
    }
   ],
   "source": [
    "def somme_carre_element_liste(liste_nombres):\n",
    "    somme = sum([i**2 for i in liste_nombres])\n",
    "    return somme\n",
    "\n",
    "# TESTE\n",
    "\n",
    "liste_nombres = [2, -4, 3]\n",
    "somme_carre_element_liste(liste_nombres)"
   ]
  },
  {
   "cell_type": "markdown",
   "id": "611a5c32-9f31-4119-b625-3cb3e48856c7",
   "metadata": {
    "id": "bea983a3"
   },
   "source": [
    "---\n",
    "\n",
    "### Exercise 95:\n",
    "Write a Python program that creates a list of tuples, where each tuple contains a number and its cube for numbers from 1 to 5.\n",
    "\n",
    "```python\n",
    "# Exercise 95\n",
    "```"
   ]
  },
  {
   "cell_type": "code",
   "execution_count": 1,
   "id": "0690d568-a3da-42aa-9452-87a1d249ea02",
   "metadata": {},
   "outputs": [
    {
     "data": {
      "text/plain": [
       "[(1, 1), (2, 8), (3, 27), (4, 64), (5, 125)]"
      ]
     },
     "execution_count": 1,
     "metadata": {},
     "output_type": "execute_result"
    }
   ],
   "source": [
    "liste = [(i, i**3) for i in range(1, 6)]\n",
    "liste"
   ]
  },
  {
   "cell_type": "markdown",
   "id": "1c667e71-3c03-4c4a-acc4-2a1f8cae1a3e",
   "metadata": {
    "id": "bea983a3"
   },
   "source": [
    "---\n",
    "\n",
    "### Exercise 96:\n",
    "Write a Python function that returns a list of all prime numbers up to `n`.\n",
    "\n",
    "```python\n",
    "# Exercise 96\n",
    "```"
   ]
  },
  {
   "cell_type": "code",
   "execution_count": 3,
   "id": "9acdf22b-7d61-463e-b56b-567af5c039ef",
   "metadata": {},
   "outputs": [
    {
     "data": {
      "text/plain": [
       "[2, 3, 5, 7, 11, 13, 17, 19, 23, 29, 31, 37]"
      ]
     },
     "execution_count": 3,
     "metadata": {},
     "output_type": "execute_result"
    }
   ],
   "source": [
    "def is_prime(nombre):\n",
    "    a = 0\n",
    "    for i in range(2, nombre):\n",
    "        if nombre % i == 0:\n",
    "            a += 1\n",
    "    if a == 0:\n",
    "        return 1 # Le paramètre de la fonction est un nombre premier.\n",
    "    else:\n",
    "        return 0 # Le paramètre de la fonction n'est pas un nombre premier.\n",
    "\n",
    "############################################\n",
    "\n",
    "def les_n_nombres_premiers(n):\n",
    "    liste_nombres_premiers = []\n",
    "    a = 2\n",
    "    while len(liste_nombres_premiers) != n:\n",
    "        if is_prime(a) == 1:\n",
    "            liste_nombres_premiers.append(a)\n",
    "            a += 1\n",
    "        else:\n",
    "            a += 1\n",
    "    return liste_nombres_premiers\n",
    "\n",
    "\n",
    "# TESTE\n",
    "\n",
    "n = 12\n",
    "les_n_nombres_premiers(n)"
   ]
  },
  {
   "cell_type": "markdown",
   "id": "dda6f3f3-cdc3-4805-8b9f-5a7b326e42db",
   "metadata": {
    "id": "bea983a3"
   },
   "source": [
    "---\n",
    "\n",
    "### Exercise 97:\n",
    "Write a Python program that finds the common keys between two dictionaries.\n",
    "\n",
    "```python\n",
    "# Exercise 97\n",
    "```"
   ]
  },
  {
   "cell_type": "code",
   "execution_count": 4,
   "id": "281effbe-9e2c-477a-afa1-12878768ca87",
   "metadata": {},
   "outputs": [
    {
     "data": {
      "text/plain": [
       "['a', 'b', 'e', 'f']"
      ]
     },
     "execution_count": 4,
     "metadata": {},
     "output_type": "execute_result"
    }
   ],
   "source": [
    "def cles_communs_deux_dicts(dict_1, dict_2):\n",
    "    liste_cles_communs = []\n",
    "    for i in dict_1.keys():\n",
    "        if i in dict_2:\n",
    "            liste_cles_communs.append(i)\n",
    "    return liste_cles_communs\n",
    "\n",
    "## Teste\n",
    "\n",
    "dict_1 = {\"a\": 34, \"b\": 304, \"c\": 134, \"d\": 3, \"e\": 0, \"f\": -12}\n",
    "dict_2 = {\"a\": -2, \"b\": 12, \"e\": 40, \"f\": 12}\n",
    "cles_communs_deux_dicts(dict_1, dict_2)"
   ]
  },
  {
   "cell_type": "markdown",
   "id": "5e92cd3b-76df-47a5-91d5-cb9765b7b268",
   "metadata": {
    "id": "bea983a3"
   },
   "source": [
    "---\n",
    "\n",
    "### Exercise 98:\n",
    "Write a Python function that takes a list of strings and returns a list of the strings that contain more than 5 characters.\n",
    "\n",
    "```python\n",
    "# Exercise 98\n",
    "```"
   ]
  },
  {
   "cell_type": "code",
   "execution_count": 5,
   "id": "a49a9b8e-e13b-4968-a7b3-f45b08fb8392",
   "metadata": {},
   "outputs": [
    {
     "data": {
      "text/plain": [
       "['Programmeur', 'Pentesteur', 'Python']"
      ]
     },
     "execution_count": 5,
     "metadata": {},
     "output_type": "execute_result"
    }
   ],
   "source": [
    "def renvoie_liste_chaines_plus_de_5_caracteres(liste_chaines):\n",
    "    liste_chaines_plus_de_5_caracteres = []\n",
    "    for i in liste_chaines:\n",
    "        if len(i) > 5:\n",
    "            liste_chaines_plus_de_5_caracteres.append(i)\n",
    "    return liste_chaines_plus_de_5_caracteres\n",
    "\n",
    "## Teste\n",
    "\n",
    "liste_chaines = [\"Programmeur\", \"Pentesteur\", \"Pi\", \"Maths\", \"Python\"]\n",
    "renvoie_liste_chaines_plus_de_5_caracteres(liste_chaines)"
   ]
  },
  {
   "cell_type": "markdown",
   "id": "68a39c59-a828-4529-af92-2edb43fb988f",
   "metadata": {
    "id": "bea983a3"
   },
   "source": [
    "---\n",
    "\n",
    "### Exercise 99:\n",
    "Write a Python program that converts a list of strings into a list of tuples, where each tuple contains the string and its length.\n",
    "\n",
    "```python\n",
    "# Exercise 99\n",
    "```"
   ]
  },
  {
   "cell_type": "code",
   "execution_count": 1,
   "id": "ff185c71-1ad3-4fa6-b9db-5740dc631b0c",
   "metadata": {},
   "outputs": [
    {
     "name": "stdout",
     "output_type": "stream",
     "text": [
      "[('Programmeur', 11), ('Pentesteur', 10), ('Pi', 2), ('Maths', 5), ('Python', 6)]\n"
     ]
    }
   ],
   "source": [
    "liste_chaines = [\"Programmeur\", \"Pentesteur\", \"Pi\", \"Maths\", \"Python\"]\n",
    "liste_tuples = []\n",
    "for i in liste_chaines:\n",
    "    liste_tuples.append((i, len(i)))\n",
    "print(liste_tuples)"
   ]
  },
  {
   "cell_type": "markdown",
   "id": "b4c66464-7bf5-44c5-8946-b2a18dddad17",
   "metadata": {
    "id": "bea983a3"
   },
   "source": [
    "---\n",
    "\n",
    "### Exercise 100:\n",
    "Write a Python function that takes a list of dictionaries and returns a new dictionary by summing the values of each key across all dictionaries.\n",
    "\n",
    "```python\n",
    "# Exercise 100\n",
    "```"
   ]
  },
  {
   "cell_type": "code",
   "execution_count": 28,
   "id": "f419fee2-1db4-44c6-b6fe-8978f8983149",
   "metadata": {
    "id": "bea983a3"
   },
   "outputs": [
    {
     "data": {
      "text/plain": [
       "[{'a': 11, 'b': 11, 'c': 11, 'd': 11, 'e': 11, 'f': 11},\n",
       " {'a': 11, 'b': 11, 'e': 11, 'f': 11}]"
      ]
     },
     "execution_count": 28,
     "metadata": {},
     "output_type": "execute_result"
    }
   ],
   "source": [
    "def fonction_dict(liste_dict):\n",
    "    liste_valeurs_cles_des_dicts = []\n",
    "    for dictionnaire in liste_dict:\n",
    "        for j in dictionnaire.values():\n",
    "            liste_valeurs_cles_des_dicts.append(j)\n",
    "\n",
    "    liste_finale = []\n",
    "    for dictionnaire in liste_dict:\n",
    "        dict_final = {}\n",
    "        for cle in dictionnaire.keys():\n",
    "            dict_final[cle] = dictionnaire[cle] + sum(liste_valeurs_cles_des_dicts)\n",
    "        liste_finale.append(dict_final)\n",
    "    return liste_finale\n",
    "\n",
    "    \n",
    "# Teste\n",
    "\n",
    "liste_dict = [{\"a\": 1, \"b\": 1, \"c\": 1, \"d\": 1, \"e\": 1, \"f\": 1}, {\"a\": 1, \"b\": 1, \"e\": 1, \"f\": 1}]\n",
    "fonction_dict(liste_dict)"
   ]
  }
 ],
 "metadata": {
  "colab": {
   "provenance": []
  },
  "kernelspec": {
   "display_name": "Python [conda env:base] *",
   "language": "python",
   "name": "conda-base-py"
  },
  "language_info": {
   "codemirror_mode": {
    "name": "ipython",
    "version": 3
   },
   "file_extension": ".py",
   "mimetype": "text/x-python",
   "name": "python",
   "nbconvert_exporter": "python",
   "pygments_lexer": "ipython3",
   "version": "3.13.5"
  }
 },
 "nbformat": 4,
 "nbformat_minor": 5
}
