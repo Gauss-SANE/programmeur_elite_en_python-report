{
 "cells": [
  {
   "cell_type": "markdown",
   "id": "d68c1dee",
   "metadata": {
    "id": "d68c1dee"
   },
   "source": [
    "# Practical_2: String and files"
   ]
  },
  {
   "cell_type": "markdown",
   "id": "1e3e93cb-0843-4282-ad9e-1e553cd7609d",
   "metadata": {
    "id": "bea983a3"
   },
   "source": [
    "---\n",
    "\n",
    "### Exercise 1:\n",
    "Create a string variable `text` and assign it the value `\"Python is amazing!\"`.\n",
    "\n",
    "```python\n",
    "# Exercise 1\n",
    "```"
   ]
  },
  {
   "cell_type": "code",
   "execution_count": 1,
   "id": "bdf9c6a4-7859-490c-b237-8cf7ebbada9a",
   "metadata": {},
   "outputs": [
    {
     "data": {
      "text/plain": [
       "str"
      ]
     },
     "execution_count": 1,
     "metadata": {},
     "output_type": "execute_result"
    }
   ],
   "source": [
    "text = \"Python is amazing\"\n",
    "type(text)"
   ]
  },
  {
   "cell_type": "markdown",
   "id": "852b332a-7881-4095-9b6d-6a0e922c7678",
   "metadata": {
    "id": "bea983a3"
   },
   "source": [
    "---\n",
    "\n",
    "### Exercise 2:\n",
    "Find the length of the string `\"Hello, World!\"` and store it in a variable `length`.\n",
    "\n",
    "```python\n",
    "# Exercise 2\n",
    "```"
   ]
  },
  {
   "cell_type": "code",
   "execution_count": 3,
   "id": "6ef2d0bd-aa55-4a16-8cdd-098588cf31d1",
   "metadata": {},
   "outputs": [
    {
     "name": "stdout",
     "output_type": "stream",
     "text": [
      "13\n"
     ]
    },
    {
     "data": {
      "text/plain": [
       "int"
      ]
     },
     "execution_count": 3,
     "metadata": {},
     "output_type": "execute_result"
    }
   ],
   "source": [
    "chaine = \"Hello, world!\"\n",
    "length = len(chaine)\n",
    "print(length)\n",
    "type(length)"
   ]
  },
  {
   "cell_type": "markdown",
   "id": "a48e9c50-deea-422f-a3f8-d4c8a6d15eb8",
   "metadata": {
    "id": "bea983a3"
   },
   "source": [
    "---\n",
    "\n",
    "### Exercise 3:\n",
    "Convert the string `\"python programming\"` to uppercase and store it in a variable `upper_text`.\n",
    "\n",
    "```python\n",
    "# Exercise 3\n",
    "```"
   ]
  },
  {
   "cell_type": "code",
   "execution_count": 5,
   "id": "2e27b545-1bb5-4299-b5e9-3c7596241fa7",
   "metadata": {},
   "outputs": [
    {
     "name": "stdout",
     "output_type": "stream",
     "text": [
      "PYTHON PROGRAMMING\n"
     ]
    }
   ],
   "source": [
    "chaine = \"python programming\"\n",
    "upper_text = chaine.upper()\n",
    "print(upper_text)"
   ]
  },
  {
   "cell_type": "markdown",
   "id": "16b1029b-1214-4438-8be3-b22b4908d2f6",
   "metadata": {
    "id": "bea983a3"
   },
   "source": [
    "---\n",
    "\n",
    "### Exercise 4:\n",
    "Extract the first 5 characters from the string `\"Artificial Intelligence\"`.\n",
    "\n",
    "```python\n",
    "# Exercise 4\n",
    "```"
   ]
  },
  {
   "cell_type": "code",
   "execution_count": 8,
   "id": "56feb49a-2ecd-4e12-ae3a-12f0a46579e2",
   "metadata": {},
   "outputs": [
    {
     "name": "stdout",
     "output_type": "stream",
     "text": [
      "Artif\n"
     ]
    }
   ],
   "source": [
    "my_string = \"Artificial Intelligence\"\n",
    "first_5_characters = my_string[:5]\n",
    "print(first_5_characters)"
   ]
  },
  {
   "cell_type": "markdown",
   "id": "0284607e-1f29-43c3-a52c-709435a03f30",
   "metadata": {
    "id": "bea983a3"
   },
   "source": [
    "---\n",
    "\n",
    "### Exercise 5:\n",
    "Concatenate the strings `\"Hello\"` and `\"World\"` with a space in between.\n",
    "\n",
    "```python\n",
    "# Exercise 5\n",
    "```"
   ]
  },
  {
   "cell_type": "code",
   "execution_count": 9,
   "id": "57fd7aa5-2720-4782-b3d5-f47288285830",
   "metadata": {},
   "outputs": [
    {
     "name": "stdout",
     "output_type": "stream",
     "text": [
      "Hello world\n"
     ]
    }
   ],
   "source": [
    "hello = \"Hello\"\n",
    "world = \"world\"\n",
    "concatenate_strings = hello + \" \" + world\n",
    "print(concatenate_strings)"
   ]
  },
  {
   "cell_type": "markdown",
   "id": "d62512fd-8c8a-4c50-9be4-5665a805659f",
   "metadata": {
    "id": "bea983a3"
   },
   "source": [
    "---\n",
    "\n",
    "### Exercise 6:\n",
    "Replace the word `\"dog\"` with `\"cat\"` in the string `\"The quick brown dog jumps over the lazy dog.\"`.\n",
    "\n",
    "```python\n",
    "# Exercise 6\n",
    "```"
   ]
  },
  {
   "cell_type": "code",
   "execution_count": 1,
   "id": "dbba385f-643f-470f-8be5-cd3098806052",
   "metadata": {},
   "outputs": [
    {
     "name": "stdout",
     "output_type": "stream",
     "text": [
      "['The', 'quick', 'brown', 'dog', 'jumps', 'over', 'the', 'lazy', 'dog.']\n",
      "['The', 'quick', 'brown', 'cat', 'jumps', 'over', 'the', 'lazy', 'cat']\n",
      "The quick brown cat jumps over the lazy cat\n"
     ]
    }
   ],
   "source": [
    "my_string_replace = \"The quick brown dog jumps over the lazy dog.\"\n",
    "liste_string = my_string_replace.split(\" \")\n",
    "print(liste_string)\n",
    "liste_string[liste_string.index('dog')] = \"cat\"\n",
    "liste_string[-1] = \"cat\"\n",
    "\n",
    "print(liste_string)\n",
    "my_string_replace = \" \".join(liste_string)\n",
    "print(my_string_replace)"
   ]
  },
  {
   "cell_type": "markdown",
   "id": "d1a422d4-9266-46b0-8c73-6f146b5121b4",
   "metadata": {
    "id": "bea983a3"
   },
   "source": [
    "---\n",
    "\n",
    "### Exercise 7:\n",
    "Split the string `\"apple,banana,orange\"` by commas and store the result in a list `fruits_list`.\n",
    "\n",
    "```python\n",
    "# Exercise 7\n",
    "```"
   ]
  },
  {
   "cell_type": "code",
   "execution_count": 14,
   "id": "2578c8b1-8d09-4dae-8abe-adf9ae1d808c",
   "metadata": {},
   "outputs": [
    {
     "name": "stdout",
     "output_type": "stream",
     "text": [
      "['apple', 'banana', 'orange']\n"
     ]
    }
   ],
   "source": [
    "fruits_string = \"apple,banana,orange\"\n",
    "fruits_list = fruits_string.split(\",\")\n",
    "print(fruits_list)"
   ]
  },
  {
   "cell_type": "markdown",
   "id": "84ebfa9a-9f25-4ce7-a689-562e339bc387",
   "metadata": {
    "id": "bea983a3"
   },
   "source": [
    "---\n",
    "\n",
    "### Exercise 8:\n",
    "Use string formatting to create the sentence `\"My name is Alice and I am 25 years old.\"`, where the name and age are variables.\n",
    "\n",
    "```python\n",
    "# Exercise 8\n",
    "```"
   ]
  },
  {
   "cell_type": "code",
   "execution_count": 15,
   "id": "1d9e2b67-4881-4224-8df1-dd2fc17e8f53",
   "metadata": {},
   "outputs": [
    {
     "name": "stdout",
     "output_type": "stream",
     "text": [
      "My name is Alice and I am 25 years old.\n"
     ]
    }
   ],
   "source": [
    "name = \"Alice\"\n",
    "age = 25\n",
    "sentence = \"My name is {} and I am {} years old.\".format(name, age) \n",
    "print(sentence)"
   ]
  },
  {
   "cell_type": "markdown",
   "id": "6fb07853-2ab4-4a51-a41a-3687cfa3d5f2",
   "metadata": {
    "id": "bea983a3"
   },
   "source": [
    "---\n",
    "\n",
    "### Exercise 9:\n",
    "Check if the string `\"python\"` is present in the sentence `\"I love python programming\"`.\n",
    "\n",
    "```python\n",
    "# Exercise 9\n",
    "```"
   ]
  },
  {
   "cell_type": "code",
   "execution_count": 29,
   "id": "1b6a0e5a-5a73-4ffb-ab2c-ffec8a50059f",
   "metadata": {},
   "outputs": [
    {
     "name": "stdout",
     "output_type": "stream",
     "text": [
      "\"python\" is present in the sentence \"I love python programming\"\n"
     ]
    }
   ],
   "source": [
    "sentence = \"I love python programming\"\n",
    "str_chr = \"python\"\n",
    "if str_chr in sentence.split(\" \"):\n",
    "    print(\"\\\"{}\\\" is present in the sentence \\\"{}\\\"\".format(str_chr, sentence))\n",
    "else:\n",
    "    print(\"\\\"{}\\\" is not present in the sentence \\\"{}\\\"\".format(str_chr, sentence))"
   ]
  },
  {
   "cell_type": "markdown",
   "id": "26250293-8269-4d16-8860-d0421252d559",
   "metadata": {
    "id": "bea983a3"
   },
   "source": [
    "---\n",
    "\n",
    "### Exercise 10:\n",
    "Count the number of occurrences of the letter `\"e\"` in the string `\"Elephant is an elegant animal\"`.\n",
    "\n",
    "```python\n",
    "# Exercise 10\n",
    "```"
   ]
  },
  {
   "cell_type": "code",
   "execution_count": 31,
   "id": "aaf689e5-2b80-452e-9220-0b329e67410f",
   "metadata": {},
   "outputs": [
    {
     "name": "stdout",
     "output_type": "stream",
     "text": [
      "The number of occurrences of the letter \"e\" is 3\n"
     ]
    }
   ],
   "source": [
    "my_string = \"Elephant is an elegant animal\"\n",
    "letter = \"e\"\n",
    "number = my_string.count(\"e\")\n",
    "print(\"The number of occurrences of the letter \\\"e\\\" is {}\".format(number))"
   ]
  },
  {
   "cell_type": "markdown",
   "id": "c15e6273-4abc-4871-8db2-897fbdaa99b7",
   "metadata": {
    "id": "bea983a3"
   },
   "source": [
    "---\n",
    "\n",
    "### Exercise 11:\n",
    "Remove any leading and trailing spaces from the string `\"   Data Science   \"`.\n",
    "\n",
    "```python\n",
    "# Exercise 11\n",
    "```"
   ]
  },
  {
   "cell_type": "code",
   "execution_count": 63,
   "id": "50b0212f-54ae-4d3f-a6e0-b5b5b997e648",
   "metadata": {},
   "outputs": [
    {
     "data": {
      "text/plain": [
       "'Data Science'"
      ]
     },
     "execution_count": 63,
     "metadata": {},
     "output_type": "execute_result"
    }
   ],
   "source": [
    "my_string = \"    Data Science   \"\n",
    "my_string = my_string.strip()\n",
    "my_string"
   ]
  },
  {
   "cell_type": "markdown",
   "id": "4ce3c5c9-bb87-4f83-8ee6-529dfdd098e7",
   "metadata": {
    "id": "bea983a3"
   },
   "source": [
    "---\n",
    "\n",
    "### Exercise 12:\n",
    "Convert the string `\"100\"` into an integer and store it in a variable `int_value`.\n",
    "\n",
    "```python\n",
    "# Exercise 12\n",
    "```"
   ]
  },
  {
   "cell_type": "code",
   "execution_count": 66,
   "id": "7e1c480a-472a-4e9a-9f41-cee7af639378",
   "metadata": {},
   "outputs": [
    {
     "data": {
      "text/plain": [
       "int"
      ]
     },
     "execution_count": 66,
     "metadata": {},
     "output_type": "execute_result"
    }
   ],
   "source": [
    "number_string = \"100\"\n",
    "int_value = int(number_string)\n",
    "type(int_value)"
   ]
  },
  {
   "cell_type": "markdown",
   "id": "e9bb3a30-6b5f-40b7-95b3-433cdd31c8d7",
   "metadata": {
    "id": "bea983a3"
   },
   "source": [
    "---\n",
    "\n",
    "### Exercise 13:\n",
    "Extract the substring `\"pro\"` from the string `\"programming\"`.\n",
    "\n",
    "```python\n",
    "# Exercise 13\n",
    "```"
   ]
  },
  {
   "cell_type": "code",
   "execution_count": 67,
   "id": "fc1d0664-334d-4384-b1a8-7be6c1b19b9b",
   "metadata": {},
   "outputs": [
    {
     "data": {
      "text/plain": [
       "'pro'"
      ]
     },
     "execution_count": 67,
     "metadata": {},
     "output_type": "execute_result"
    }
   ],
   "source": [
    "my_stirng = \"programming\"\n",
    "my_stirng[:3]"
   ]
  },
  {
   "cell_type": "markdown",
   "id": "1e1b75f8-ac4e-45e2-8269-f331895a787b",
   "metadata": {
    "id": "bea983a3"
   },
   "source": [
    "---\n",
    "\n",
    "### Exercise 14:\n",
    "Check if the string `\"data\"` starts with `\"da\"` and ends with `\"ta\"`.\n",
    "\n",
    "```python\n",
    "# Exercise 14\n",
    "```"
   ]
  },
  {
   "cell_type": "code",
   "execution_count": 3,
   "id": "c10bfd0d-6cf6-4659-8b73-32d8f4dc5682",
   "metadata": {},
   "outputs": [
    {
     "name": "stdout",
     "output_type": "stream",
     "text": [
      "The string \"data\" starts with \"da\" and ends with \"ta\"\n"
     ]
    }
   ],
   "source": [
    "my_string = \"data\"\n",
    "da = my_string[:2]\n",
    "ta = my_string[len(my_string) - 2:]\n",
    "if da == \"da\" and ta == \"ta\":\n",
    "    print(\"The string \\\"data\\\" starts with \\\"da\\\" and ends with \\\"ta\\\"\")\n",
    "else:\n",
    "    print(\"The string \\\"data\\\" does not start with \\\"da\\\" or end with \\\"ta\\\"\")"
   ]
  },
  {
   "cell_type": "markdown",
   "id": "fa3e6da0-4b4c-41bf-96e0-fd9933a52800",
   "metadata": {
    "id": "bea983a3"
   },
   "source": [
    "---\n",
    "\n",
    "### Exercise 15:\n",
    "Reverse the string `\"machine learning\"` and store the result in `reversed_text`.\n",
    "\n",
    "```python\n",
    "# Exercise 15\n",
    "```"
   ]
  },
  {
   "cell_type": "code",
   "execution_count": 5,
   "id": "3f3a582f-e9f6-4283-9361-ea4293cbbee2",
   "metadata": {},
   "outputs": [
    {
     "data": {
      "text/plain": [
       "'gninrael enihcam'"
      ]
     },
     "execution_count": 5,
     "metadata": {},
     "output_type": "execute_result"
    }
   ],
   "source": [
    "my_string = \"machine learning\"\n",
    "reversed_text = \"\"\n",
    "for i in range(1, len(my_string) + 1):\n",
    "    reversed_text += my_string[-i]\n",
    "    \n",
    "reversed_text"
   ]
  },
  {
   "cell_type": "markdown",
   "id": "c223124d-520c-460f-90e4-05f49861a708",
   "metadata": {
    "id": "bea983a3"
   },
   "source": [
    "---\n",
    "\n",
    "### Exercise 16:\n",
    "Convert the first letter of each word in the string `\"machine learning is fun\"` to uppercase.\n",
    "\n",
    "```python\n",
    "# Exercise 16\n",
    "```"
   ]
  },
  {
   "cell_type": "code",
   "execution_count": 21,
   "id": "fa90c4a2-29a9-49d6-b963-5d928dbd2d29",
   "metadata": {},
   "outputs": [
    {
     "data": {
      "text/plain": [
       "'Machine Learning Is Fun'"
      ]
     },
     "execution_count": 21,
     "metadata": {},
     "output_type": "execute_result"
    }
   ],
   "source": [
    "my_string = \"machine learning is fun\"\n",
    "my_string_list = my_string.split(\" \")\n",
    "liste = []\n",
    "for i in my_string_list:\n",
    "    my_string_1 = \"\"\n",
    "    my_string_1 += (i[0]).upper()\n",
    "    for j in range(1, len(i)):\n",
    "        my_string_1 += i[j]\n",
    "    liste.append(my_string_1)\n",
    "\n",
    "my_string = \" \".join(liste)\n",
    "my_string"
   ]
  },
  {
   "cell_type": "markdown",
   "id": "3411dfd7-47b8-4309-921b-acb7297f0003",
   "metadata": {
    "id": "bea983a3"
   },
   "source": [
    "---\n",
    "\n",
    "### Exercise 17:\n",
    "Create a multiline string representing a poem and store it in a variable `poem`.\n",
    "\n",
    "```python\n",
    "# Exercise 17\n",
    "```"
   ]
  },
  {
   "cell_type": "code",
   "execution_count": 17,
   "id": "4821c853-a678-41d7-bdbc-215e36a3d226",
   "metadata": {},
   "outputs": [
    {
     "data": {
      "text/plain": [
       "'Demain, dès l’aube, à l’heure où blanchit la campagneJe partirai. Vois-tu, je sais que tu m’attends.J’irai par la forêt, j’irai par la montagne.Je ne puis demeurer loin de toi plus longtemps.'"
      ]
     },
     "execution_count": 17,
     "metadata": {},
     "output_type": "execute_result"
    }
   ],
   "source": [
    "poem = \"Demain, dès l’aube, à l’heure où blanchit la campagne\\\n",
    "Je partirai. Vois-tu, je sais que tu m’attends.\\\n",
    "J’irai par la forêt, j’irai par la montagne.\\\n",
    "Je ne puis demeurer loin de toi plus longtemps.\"\n",
    "poem"
   ]
  },
  {
   "cell_type": "markdown",
   "id": "7727bcaf-85b4-4a92-a039-2c050224395c",
   "metadata": {
    "id": "bea983a3"
   },
   "source": [
    "---\n",
    "\n",
    "### Exercise 18:\n",
    "Write a string to a file named `\"output.txt\"`.\n",
    "\n",
    "```python\n",
    "# Exercise 18\n",
    "```"
   ]
  },
  {
   "cell_type": "code",
   "execution_count": null,
   "id": "c32bc8fb-1790-495a-b3b2-0aac4ffa1155",
   "metadata": {
    "id": "bea983a3"
   },
   "outputs": [],
   "source": [
    "file = open(\"output.txt\", \"w\")\n",
    "file.write(\"Les programmeurs d'AIMS\")\n",
    "file.close()"
   ]
  },
  {
   "cell_type": "markdown",
   "id": "14c15524-5065-4115-af26-3e359c2c7d09",
   "metadata": {
    "id": "bea983a3"
   },
   "source": [
    "---\n",
    "\n",
    "### Exercise 19:\n",
    "Read the contents of a file named `\"data.txt\"` and print it line by line.\n",
    "\n",
    "```python\n",
    "# Exercise 19\n",
    "```"
   ]
  },
  {
   "cell_type": "code",
   "execution_count": 6,
   "id": "bdabd8f3-d1ad-4eda-b407-12385fc32f90",
   "metadata": {},
   "outputs": [
    {
     "name": "stdout",
     "output_type": "stream",
     "text": [
      "1. L'imagination est plus importante que le savoir. \n",
      "\n",
      "2. La logique vous mÃ¨nera d'un point A Ã  un point B, l'imagination vous mÃ¨nera absolument partout.\n",
      "\n",
      "3. Le vÃ©ritable signe de l'intelligence, ce n'est pas la connaissance mais l'imagination. \n",
      "\n",
      "4. La vie, c'est comme une bicyclette, il faut avancer pour ne pas perdre l'Ã©quilibre. \n",
      "\n",
      "5. La folie, c'est de faire toujours la mÃªme chose et de s'attendre Ã  un rÃ©sultat diffÃ©rent. \n",
      "\n",
      "6. Si tu veux vivre une vie heureuse, attache-la Ã  un but, pas Ã  des personnes ou Ã  des choses. \n"
     ]
    }
   ],
   "source": [
    "with open(\"data.txt\", \"r\") as file:\n",
    "    for i in file.readlines():\n",
    "        print(i)"
   ]
  },
  {
   "cell_type": "markdown",
   "id": "1f71bf6d-66b2-48f8-b730-2ca54a237122",
   "metadata": {
    "id": "bea983a3"
   },
   "source": [
    "---\n",
    "\n",
    "### Exercise 20:\n",
    "Check if a file `\"example.txt\"` exists before opening it.\n",
    "\n",
    "```python\n",
    "# Exercise 20\n",
    "```"
   ]
  },
  {
   "cell_type": "code",
   "execution_count": 8,
   "id": "708b30e2-c038-4e50-9436-69613bfb7e33",
   "metadata": {},
   "outputs": [
    {
     "name": "stdout",
     "output_type": "stream",
     "text": [
      "The file does not exist\n"
     ]
    }
   ],
   "source": [
    "import os\n",
    "os.getcwd()\n",
    "mon_fichier = \"example.txt\"\n",
    "if mon_fichier in os.listdir():\n",
    "    print(\"The file exist.\")\n",
    "else:\n",
    "    print(\"The file does not exist\")"
   ]
  },
  {
   "cell_type": "markdown",
   "id": "fce007ce-2b26-40e8-ae50-68a21e497cb5",
   "metadata": {
    "id": "bea983a3"
   },
   "source": [
    "---\n",
    "\n",
    "### Exercise 21:\n",
    "Append a new line `\"This is a new line\"` to an existing file `\"notes.txt\"`.\n",
    "\n",
    "```python\n",
    "# Exercise 21\n",
    "```"
   ]
  },
  {
   "cell_type": "code",
   "execution_count": 17,
   "id": "e0a50ef7-b306-47d3-9305-515a7a30df4a",
   "metadata": {},
   "outputs": [
    {
     "name": "stdout",
     "output_type": "stream",
     "text": [
      "=============== Contenu du fichier avant ajout ===============\n",
      "\n",
      "Pour moi, la programmation est un jeu d'enfant....\n",
      "\n",
      "La programmation c'est la science par excellence.\n",
      "=============== Contenu du fichier aprés ajout ===============\n",
      "\n",
      "Pour moi, la programmation est un jeu d'enfant....\n",
      "\n",
      "La programmation c'est la science par excellence.La programmation c'est la science par excellence.\n"
     ]
    }
   ],
   "source": [
    "import os\n",
    "os.getcwd()\n",
    "mon_fichier = \"notes.txt\"\n",
    "if mon_fichier in os.listdir():\n",
    "\n",
    "    # Avant ajout...\n",
    "    print(\"=============== Contenu du fichier avant ajout ===============\\n\")\n",
    "    \n",
    "    with open(\"notes.txt\", \"r\") as file:\n",
    "        for i in file.readlines():\n",
    "            print(i)\n",
    "            \n",
    "    # Ajout......   \n",
    "    \n",
    "    with open(\"notes.txt\", \"a\") as file:\n",
    "        file.write(\"La programmation c'est la science par excellence.\")\n",
    "    \n",
    "    # Aprés ajout...\n",
    "    \n",
    "    print(\"=============== Contenu du fichier aprés ajout ===============\\n\")\n",
    "    with open(\"notes.txt\", \"r\") as file:\n",
    "        for i in file.readlines():\n",
    "            print(i)\n",
    "else:\n",
    "    print(\"<< ERREUR >> : Le fichier n'existe pas.\")"
   ]
  },
  {
   "cell_type": "markdown",
   "id": "72ce9239-41ff-4ab4-b8e7-263647558835",
   "metadata": {
    "id": "bea983a3"
   },
   "source": [
    "---\n",
    "\n",
    "### Exercise 22:\n",
    "Read the contents of a file `\"log.txt\"` and store each line in a list `log_lines`.\n",
    "\n",
    "```python\n",
    "# Exercise 22\n",
    "```"
   ]
  },
  {
   "cell_type": "code",
   "execution_count": 19,
   "id": "9a7d28d9-8b6c-49ef-869c-fc7c289da1b5",
   "metadata": {},
   "outputs": [],
   "source": [
    "import os\n",
    "\n",
    "mon_fichier = \"log.txt\"\n",
    "\n",
    "if mon_fichier in os.listdir():\n",
    "    with open(\"log.txt\", \"r\") as file:\n",
    "        with open(\"log_lines.txt\", \"a\") as file_1:\n",
    "            file_1.writelines(file.readlines())\n",
    "else:\n",
    "    print(\"The file does not exist.\")"
   ]
  },
  {
   "cell_type": "markdown",
   "id": "f156b68e-9739-44b1-b67f-647fa8d98ca6",
   "metadata": {
    "id": "bea983a3"
   },
   "source": [
    "---\n",
    "\n",
    "### Exercise 23:\n",
    "Create a new file `\"report.txt\"` and write the string `\"Data analysis report\"` to it.\n",
    "\n",
    "```python\n",
    "# Exercise 23\n",
    "```"
   ]
  },
  {
   "cell_type": "code",
   "execution_count": 20,
   "id": "5650199b-7132-404c-80c0-a1095a28de26",
   "metadata": {},
   "outputs": [],
   "source": [
    "with open(\"report.txt\", \"w\") as file:\n",
    "    file.write(\"Data analysis report\")"
   ]
  },
  {
   "cell_type": "markdown",
   "id": "04dac228-c0bc-42e3-a45d-636e021acb3f",
   "metadata": {
    "id": "bea983a3"
   },
   "source": [
    "---\n",
    "\n",
    "### Exercise 24:\n",
    "Replace the word `\"error\"` with `\"issue\"` in a file `\"log_1.txt\"`.\n",
    "\n",
    "```python\n",
    "# Exercise 24\n",
    "```"
   ]
  },
  {
   "cell_type": "code",
   "execution_count": 44,
   "id": "420d5671-eacd-4c9c-84ab-4661c916cded",
   "metadata": {},
   "outputs": [],
   "source": [
    "import os\n",
    "with open(\"log_1.txt\", \"r\") as file:\n",
    "    my_list_string = []\n",
    "    for i in file.readlines():\n",
    "        my_list_string.append(i.replace(\"error\", \"issue\"))\n",
    "    file.close() # Ferméture du fichier \"log_1.txt\"\n",
    "    os.remove(\"log_1.txt\") # Suppression du fichier \"log_1.txt\"\n",
    "    with open(\"log_1.txt\", \"w\") as file:\n",
    "        for i in my_list_string:\n",
    "            file.write(i)"
   ]
  },
  {
   "cell_type": "markdown",
   "id": "772b414f-7c52-43db-bdb5-a56c596a3cbd",
   "metadata": {
    "id": "bea983a3"
   },
   "source": [
    "---\n",
    "\n",
    "### Exercise 25:\n",
    "Count the number of words in a text file `\"document.txt\"`.\n",
    "\n",
    "```python\n",
    "# Exercise 25\n",
    "```"
   ]
  },
  {
   "cell_type": "code",
   "execution_count": 1,
   "id": "c53ffc6b-d9aa-402c-95cd-d5d78e97152b",
   "metadata": {},
   "outputs": [
    {
     "name": "stdout",
     "output_type": "stream",
     "text": [
      "There are 15 words in the document.txt file\n"
     ]
    }
   ],
   "source": [
    "with open(\"document.txt\", \"r\") as file:\n",
    "    my_list_sentence = [] \n",
    "    for i in file.readlines():\n",
    "        my_list_sentence.append(i.strip()) # La fonction strip() nous permet de supprimer les espces qui sont au début et à la fin d'une chaine..\n",
    "\n",
    "number_words = 0\n",
    "my_list_list_words = []        \n",
    "for i in my_list_sentence:\n",
    "     my_list_list_words.append(i.split())\n",
    "i = ['']\n",
    "while i in my_list_list_words:\n",
    "    if len(i) == 1 and '' in i:\n",
    "        del my_list_list_words[my_list_list_words.index(i)]\n",
    "for i in my_list_list_words:\n",
    "    for j in i:\n",
    "        number_words += 1\n",
    "        if \"\\'\" in j:\n",
    "            number_words += 1\n",
    "            \n",
    "print(f\"There are {number_words} words in the document.txt file\")"
   ]
  },
  {
   "cell_type": "markdown",
   "id": "f3a1c8eb-e425-49fe-aa2d-84993544865b",
   "metadata": {
    "id": "bea983a3"
   },
   "source": [
    "---\n",
    "\n",
    "### Exercise 26:\n",
    "Write a Python script that reads a file `\"essay.txt\"` and prints the total number of lines, words, and characters.\n",
    "\n",
    "```python\n",
    "# Exercise 26\n",
    "```"
   ]
  },
  {
   "cell_type": "code",
   "execution_count": 33,
   "id": "151b4ad6-8f3b-43a5-b38a-6378ad7fdb6d",
   "metadata": {},
   "outputs": [
    {
     "name": "stdout",
     "output_type": "stream",
     "text": [
      "Le nombre de lignes de votre fichier \"essay.txt\" est de: 8\n",
      "Le nombre de mots de votre fichier \"essay.txt\" est de: 19\n",
      "Le nombre de caractères de votre fichier \"essay.txt\" est de: 170\n"
     ]
    }
   ],
   "source": [
    "def nombre_de_lignes_mots_caracteres_fichier(fichier):\n",
    "    with open(fichier, \"r\") as file:\n",
    "        my_list_sentence = [] \n",
    "        for i in file.readlines():\n",
    "            my_list_sentence.append(i.strip()) # La fonction strip() nous permet de supprimer les espces qui sont au début et à la fin d'une chaine..\n",
    "\n",
    "    nombre_de_lignes = len(my_list_sentence)\n",
    "    \n",
    "    number_words = 0\n",
    "    my_list_list_words = []        \n",
    "    for i in my_list_sentence:\n",
    "         my_list_list_words.append(i.split())\n",
    "    i = ['']\n",
    "    while i in my_list_list_words:\n",
    "        if len(i) == 1 and '' in i:\n",
    "            del my_list_list_words[my_list_list_words.index(i)]\n",
    "    for i in my_list_list_words:\n",
    "        for j in i:\n",
    "            number_words += 1\n",
    "            if \"\\'\" in j:\n",
    "                number_words += 1\n",
    "\n",
    "    number_caracteres = 0\n",
    "    for i in my_list_list_words:\n",
    "        for j in i:\n",
    "            number_caracteres += len(j)\n",
    "        \n",
    "    return nombre_de_lignes, number_words, number_caracteres\n",
    "\n",
    "\n",
    "# EXAMPLE test\n",
    "\n",
    "fichier = \"essay.txt\"\n",
    "print(f\"Le nombre de lignes de votre fichier \\\"essay.txt\\\" est de: {nombre_de_lignes_mots_caracteres_fichier(fichier)[0]}\")\n",
    "print(f\"Le nombre de mots de votre fichier \\\"essay.txt\\\" est de: {nombre_de_lignes_mots_caracteres_fichier(fichier)[1]}\")  \n",
    "print(f\"Le nombre de caractères de votre fichier \\\"essay.txt\\\" est de: {nombre_de_lignes_mots_caracteres_fichier(fichier)[2]}\")  "
   ]
  },
  {
   "cell_type": "markdown",
   "id": "23a7e414-73b8-4370-bb44-3cbf146f4e70",
   "metadata": {
    "id": "bea983a3"
   },
   "source": [
    "---\n",
    "\n",
    "### Exercise 27:\n",
    "Copy the contents of one file `\"source.txt\"` to another file `\"destination.txt\"`.\n",
    "\n",
    "```python\n",
    "# Exercise 27\n",
    "```"
   ]
  },
  {
   "cell_type": "code",
   "execution_count": 35,
   "id": "5e7aa46f-e7d9-4bc2-b634-70de95b5006c",
   "metadata": {},
   "outputs": [],
   "source": [
    "with open(\"source.txt\", \"r\") as fichier_source:\n",
    "    liste = fichier_source.readlines()\n",
    "    with open(\"destination.txt\", \"w\") as fichier_destination:\n",
    "        fichier_destination.writelines(liste)"
   ]
  },
  {
   "cell_type": "markdown",
   "id": "21545bf5-223a-4982-abdf-7b1a52b5bbdf",
   "metadata": {
    "id": "bea983a3"
   },
   "source": [
    "---\n",
    "\n",
    "### Exercise 28:\n",
    "Write a Python function that takes a filename as input and returns the number of lines in the file.\n",
    "\n",
    "```python\n",
    "# Exercise 28\n",
    "```"
   ]
  },
  {
   "cell_type": "code",
   "execution_count": 38,
   "id": "b6c7daf6-3217-4942-a96e-d7e6c25113fe",
   "metadata": {},
   "outputs": [
    {
     "data": {
      "text/plain": [
       "3"
      ]
     },
     "execution_count": 38,
     "metadata": {},
     "output_type": "execute_result"
    }
   ],
   "source": [
    "def retourne_nombre_ligne_fichier(fichier):\n",
    "    with open(fichier, \"r\") as file:\n",
    "        return len(file.readlines())\n",
    "\n",
    "# EXAMPLE test\n",
    "\n",
    "fichier = \"source.txt\"\n",
    "retourne_nombre_ligne_fichier(fichier)"
   ]
  },
  {
   "cell_type": "markdown",
   "id": "e762b841-ec85-4ffe-bb4f-f05e784664ec",
   "metadata": {
    "id": "bea983a3"
   },
   "source": [
    "---\n",
    "\n",
    "### Exercise 29:\n",
    "Extract all the words from a text file `\"article.txt\"` that contain more than 5 characters.\n",
    "\n",
    "```python\n",
    "# Exercise 29\n",
    "```"
   ]
  },
  {
   "cell_type": "code",
   "execution_count": 47,
   "id": "444d8713-7f69-427a-a1cc-454f92dba537",
   "metadata": {},
   "outputs": [
    {
     "name": "stdout",
     "output_type": "stream",
     "text": [
      "artiste  codage  passionne  chatGPT  cryprographie  publique  cryptographie  secrete  chiffrement  symetrique  chiffrement  assymetrique  cryptographie  post-quantique  Lorsque  crtaines  causes  produisent  certains  effets,  elements  symetrie  causes  doivent  retrouver  effets  produit  "
     ]
    }
   ],
   "source": [
    "with open(\"article.txt\", \"r\") as file:\n",
    "    liste = file.readlines()\n",
    "liste_1 = []\n",
    "for i in liste:\n",
    "    j = i.strip()\n",
    "    liste_1.append(j.strip(\".\"))\n",
    "\n",
    "liste_2 = []\n",
    "for i in liste_1:\n",
    "    liste_3 = i.split()\n",
    "    for j in liste_3:\n",
    "        if len(j) > 5:\n",
    "            if \"'\" in j:\n",
    "                if len(j[2:]) > 5:\n",
    "                    liste_2.append(j[2:])\n",
    "            else:\n",
    "                liste_2.append(j)\n",
    "\n",
    "for i in liste_2:\n",
    "    print(i, end = \"  \")"
   ]
  },
  {
   "cell_type": "markdown",
   "id": "db57551d-f416-4fab-a172-99f257fb3a69",
   "metadata": {
    "id": "bea983a3"
   },
   "source": [
    "---\n",
    "\n",
    "### Exercise 30:\n",
    "Convert the contents of a file `\"notes.txt\"` to uppercase and save the result in another file `\"uppercase_notes.txt\"`.\n",
    "\n",
    "```python\n",
    "# Exercise 30\n",
    "```"
   ]
  },
  {
   "cell_type": "code",
   "execution_count": 1,
   "id": "dabe4423-4670-488e-80c6-9b953fca1d30",
   "metadata": {},
   "outputs": [],
   "source": [
    "with open(\"notes.txt\", \"r\") as file:\n",
    "    liste = file.readlines()\n",
    "    with open(\"uppercase_notes.txt\", \"w\") as file_1:\n",
    "        for i in liste:\n",
    "            file_1.writelines(i.upper())\n"
   ]
  },
  {
   "cell_type": "markdown",
   "id": "cca0b789-ab48-4c6a-86a3-c8550dca6a10",
   "metadata": {
    "id": "bea983a3"
   },
   "source": [
    "---\n",
    "\n",
    "### Exercise 31:\n",
    "Write a Python script that reads a file and removes all empty lines.\n",
    "\n",
    "```python\n",
    "# Exercise 31\n",
    "`"
   ]
  },
  {
   "cell_type": "code",
   "execution_count": 15,
   "id": "52ecd1f6-c8da-4008-bf89-67d57504c74e",
   "metadata": {},
   "outputs": [
    {
     "data": {
      "text/plain": [
       "[\"Pour moi, la programmation est un jeu d'enfant....\\n\",\n",
       " \"La programmation c'est la science par excellence.\\n\",\n",
       " \"La crytographie est l'un des domaines les plus difficiles. \\n\"]"
      ]
     },
     "execution_count": 15,
     "metadata": {},
     "output_type": "execute_result"
    }
   ],
   "source": [
    "import os\n",
    "\n",
    "def supprimer_ligne_vide_fichier(fichier):\n",
    "    if fichier in os.listdir():\n",
    "        with open(fichier, \"r\") as file:\n",
    "            liste = file.readlines()\n",
    "    \n",
    "        while '\\n' in liste:\n",
    "            del liste[liste.index('\\n')]\n",
    "\n",
    "        with open(fichier, \"w\") as file:\n",
    "            file.writelines(liste)\n",
    "    else:\n",
    "        print(\"<< ATTENTION >> le fichier n'existe pas...\")\n",
    "\n",
    "\n",
    "# Example test\n",
    "\n",
    "fichier = \"notes.txt\"\n",
    "supprimer_ligne_vide_fichier(fichier)\n",
    "\n",
    "####### Phase de vérification #######\n",
    "        \n",
    "with open(fichier, \"r\") as file:\n",
    "    liste = file.readlines()\n",
    "liste    "
   ]
  },
  {
   "cell_type": "markdown",
   "id": "cbf63f9c-5bf7-4133-b3c1-e152912d7ae7",
   "metadata": {
    "id": "bea983a3"
   },
   "source": [
    "``\n",
    "\n",
    "---\n",
    "\n",
    "### Exercise 32:\n",
    "Open a file `\"config.txt\"` in both read and write mode.\n",
    "\n",
    "```python\n",
    "# Exercise 32\n",
    "```"
   ]
  },
  {
   "cell_type": "code",
   "execution_count": 27,
   "id": "4a160b7c-3e10-4c69-83f0-0b89a95035e2",
   "metadata": {},
   "outputs": [],
   "source": [
    "with open(\"config.txt\", \"r+\") as f:\n",
    "    pass"
   ]
  },
  {
   "cell_type": "markdown",
   "id": "1167d5f7-701d-4a07-9087-5d36dcb2571e",
   "metadata": {
    "id": "bea983a3"
   },
   "source": [
    "---\n",
    "\n",
    "### Exercise 33:\n",
    "Write a Python function that reads a file and prints the longest line in the file.\n",
    "\n",
    "```python\n",
    "# Exercise 33\n",
    "```"
   ]
  },
  {
   "cell_type": "code",
   "execution_count": 40,
   "id": "5da80c9d-9891-429c-b9dc-946f8636d1ef",
   "metadata": {},
   "outputs": [
    {
     "name": "stdout",
     "output_type": "stream",
     "text": [
      "Voici la chaine la plus longue dans le fichier \"notes.txt\" est : \"La crytographie est l'un des domaines les plus difficiles, n'est-ce pas\"\n"
     ]
    }
   ],
   "source": [
    "def affiche_ligne_plus_longue(fichier):\n",
    "    with open(fichier, \"r\") as file:\n",
    "        liste = file.readlines()\n",
    "\n",
    "        taille_chaine = 0\n",
    "        for i in liste:\n",
    "            chaine = i.strip()\n",
    "            chaine_1 = chaine.split()\n",
    "            chaine_2 = \" \".join(chaine_1)\n",
    "            ponctuations = \".,:;?!<>-_()[]\"\n",
    "            while chaine_2[-1] in ponctuations:\n",
    "                chaine_2 = chaine_2.strip(chaine_2[-1])\n",
    "            if len(chaine_2) >= taille_chaine:\n",
    "                chaine_plus_longue = chaine_2\n",
    "                taille_chaine = len(chaine_plus_longue)\n",
    "        print(f\"Voici la chaine la plus longue dans le fichier \\\"{fichier}\\\" est : \\\"{chaine_plus_longue}\\\"\")\n",
    "\n",
    "\n",
    "# Example test\n",
    "\n",
    "fichier = \"notes.txt\"\n",
    "affiche_ligne_plus_longue(fichier)"
   ]
  },
  {
   "cell_type": "markdown",
   "id": "1efe114c-ff1f-4bc6-b313-f1f1ec52daa6",
   "metadata": {
    "id": "bea983a3"
   },
   "source": [
    "---\n",
    "\n",
    "### Exercise 34:\n",
    "Write a Python script to count the frequency of each letter in a text file `\"message.txt\"`.\n",
    "\n",
    "```python\n",
    "# Exercise 34\n",
    "```"
   ]
  },
  {
   "cell_type": "code",
   "execution_count": 66,
   "id": "7852aea5-946e-4fd5-b9df-d05a20801a9a",
   "metadata": {},
   "outputs": [
    {
     "name": "stdout",
     "output_type": "stream",
     "text": [
      "Voici la liste des fréquences d'apparution des lettres dans le fichier \"message.txt\"\n",
      "a = 3 ; b = 1 ; c = 0 ; d = 0 ; e = 3 ; f = 0 ; g = 3 ; h = 0 ; i = 2 ; j = 0 ; k = 0 ; l = 2 ; m = 2 ; n = 1 ; o = 5 ; p = 2 ; q = 0 ; r = 3 ; s = 0 ; t = 2 ; u = 0 ; v = 0 ; w = 0 ; x = 0 ; y = 0 ; z = 0 ; "
     ]
    }
   ],
   "source": [
    "with open(\"message.txt\", \"r\") as file:\n",
    "    liste = file.readlines()\n",
    "    lettres_alphabet = \"abcdefghijklmnopqrstuvwxyz\"\n",
    "    liste_frequence = [0 for i in lettres_alphabet]\n",
    "    for i in liste:\n",
    "        for j in i:\n",
    "            lettre_minuscule = j.lower()\n",
    "            if lettre_minuscule in lettres_alphabet:\n",
    "                liste_frequence[lettres_alphabet.index(lettre_minuscule)] += 1\n",
    "\n",
    "print(\"Voici la liste des fréquences d'apparution des lettres dans le fichier \\\"message.txt\\\"\")\n",
    "for i in range(len(lettres_alphabet)):\n",
    "    print(f\"{lettres_alphabet[i]} = {liste_frequence[i]}\", end = \" ; \")\n",
    "    "
   ]
  },
  {
   "cell_type": "markdown",
   "id": "48f5c3f0-a4c9-4baf-8dae-56cca6e6c67a",
   "metadata": {
    "id": "bea983a3"
   },
   "source": [
    "---\n",
    "\n",
    "### Exercise 35:\n",
    "Write a Python script that reads a file and prints the total number of characters, excluding spaces.\n",
    "\n",
    "```python\n",
    "# Exercise 35\n",
    "```"
   ]
  },
  {
   "cell_type": "code",
   "execution_count": 73,
   "id": "081f4dc7-597c-46b8-a5f4-3ce6b8757408",
   "metadata": {},
   "outputs": [
    {
     "name": "stdout",
     "output_type": "stream",
     "text": [
      "Il y'a 29 caractere(s) dans le fichier \"message.txt\"\n"
     ]
    }
   ],
   "source": [
    "def nombre_caractere_fichier(fichier):\n",
    "    with open(fichier, \"r\") as file:\n",
    "        liste = file.readlines()\n",
    "    nombre_caractere_fichier = 0\n",
    "    for i in range(len(liste) - 1):\n",
    "        chaine = liste[i].strip()\n",
    "        chaine_1 = chaine.split()\n",
    "        for j in chaine_1:\n",
    "            nombre_caractere_fichier += len(j)\n",
    "    nombre_caractere_fichier += len(liste[-1])\n",
    "    print(f\"Il y'a {nombre_caractere_fichier} caractere(s) dans le fichier \\\"{fichier}\\\"\")\n",
    "# Example test \n",
    "fichier = \"message.txt\"\n",
    "nombre_caractere_fichier(fichier)"
   ]
  },
  {
   "cell_type": "markdown",
   "id": "73052d09-13f1-4f4f-b008-c8e1e70c59d7",
   "metadata": {
    "id": "bea983a3"
   },
   "source": [
    "---\n",
    "\n",
    "### Exercise 36:\n",
    "Create a Python script to check whether a file is empty or not.\n",
    "\n",
    "```python\n",
    "# Exercise 36\n",
    "```"
   ]
  },
  {
   "cell_type": "code",
   "execution_count": 78,
   "id": "945686d3-569b-43c3-94f2-da1b924bef73",
   "metadata": {},
   "outputs": [
    {
     "name": "stdout",
     "output_type": "stream",
     "text": [
      "message.txt est vide.\n"
     ]
    }
   ],
   "source": [
    "def nombre_caractere_fichier(fichier):\n",
    "    with open(fichier, \"r\") as file:\n",
    "        liste = file.readlines()\n",
    "    if len(liste) == 0:\n",
    "        return 0\n",
    "    else:\n",
    "        nombre_caractere_fichier = 0\n",
    "        for i in range(len(liste) - 1):\n",
    "            chaine = liste[i].strip()\n",
    "            chaine_1 = chaine.split()\n",
    "            for j in chaine_1:\n",
    "                nombre_caractere_fichier += len(j)\n",
    "        nombre_caractere_fichier += len(liste[-1])\n",
    "        return nombre_caractere_fichier\n",
    "\n",
    "###################################################\n",
    "\n",
    "def test_fichier_vide(fichier):\n",
    "    if nombre_caractere_fichier(fichier) == 0:\n",
    "        print(f\"{fichier} est vide.\")\n",
    "    else:\n",
    "        print(f\"{fichier} n'est pas vide.\")\n",
    "\n",
    "\n",
    "# Example test\n",
    "\n",
    "fichier = \"message.txt\"\n",
    "test_fichier_vide(fichier)"
   ]
  },
  {
   "cell_type": "markdown",
   "id": "7959c81d-4513-4e24-82bc-c154c1b21df7",
   "metadata": {
    "id": "bea983a3"
   },
   "source": [
    "---\n",
    "\n",
    "### Exercise 37:\n",
    "Write a Python function that reads a file and removes all punctuation marks from the text.\n",
    "\n",
    "```python\n",
    "# Exercise 37\n",
    "```"
   ]
  },
  {
   "cell_type": "code",
   "execution_count": 5,
   "id": "5d5c5a22-097b-47fe-b4a9-a5023f026038",
   "metadata": {},
   "outputs": [],
   "source": [
    "def detecte_supprime_ponctuations_phrase(phrase):\n",
    "    phrase_1 = phrase\n",
    "    ponctuations = \".,:;?!<>-_()[]\"\n",
    "    for i in ponctuations:\n",
    "        while i in phrase_1:\n",
    "            liste = phrase_1.split(i)\n",
    "            phrase_1 = \" \".join(liste)\n",
    "    phrase_1 = \" \".join(phrase_1.split())\n",
    "    return phrase_1\n",
    "\n",
    "###############################################\n",
    "\n",
    "def detecte_supprime_ponctuation_fichier(fichier):\n",
    "    with open(fichier, \"r\") as mon_fichier:\n",
    "        liste = mon_fichier.readlines()\n",
    "    les_phrases = \"\"\n",
    "    for phrase in liste:\n",
    "        les_phrases += detecte_supprime_ponctuations_phrase(phrase)\n",
    "        les_phrases += \"\\n\"\n",
    "    with open(fichier, \"w\") as mon_fichier:\n",
    "        mon_fichier.writelines(les_phrases)\n",
    "\n",
    "# Example teste\n",
    "\n",
    "fichier = \"message.txt\"\n",
    "detecte_supprime_ponctuation_fichier(fichier)"
   ]
  },
  {
   "cell_type": "markdown",
   "id": "b65991e3-ebea-48fc-b692-03864a65c6fc",
   "metadata": {
    "id": "bea983a3"
   },
   "source": [
    "---\n",
    "\n",
    "### Exercise 38:\n",
    "Create a Python function that writes a list of strings to a file, each string on a new line.\n",
    "\n",
    "```python\n",
    "# Exercise 38\n",
    "```"
   ]
  },
  {
   "cell_type": "code",
   "execution_count": 102,
   "id": "fc0ae59b-e3bc-4162-a03a-e5029b252df1",
   "metadata": {
    "id": "bea983a3"
   },
   "outputs": [],
   "source": [
    "# encoding = \"UTF-8\"\n",
    "def ecris_listeChaine_dans_fichier(liste_chaine, fichier):\n",
    "    ma_chaine = \"\"\n",
    "    for phrase in liste_chaine:\n",
    "        ma_chaine += phrase\n",
    "        ma_chaine += \"\\n\"\n",
    "    with open(fichier, \"w\") as mon_fichier:\n",
    "        mon_fichier.writelines(ma_chaine)\n",
    "\n",
    "# Example teste, si le fichier n'existe pas il sera créer.\n",
    "\n",
    "liste_chaine = [\"J'appartient a liste_chaine\", \"Je veux etre dans liste_chaine\", \"Toujours dans liste_chaine\"]\n",
    "fichier = \"fichier_liste_chaines.txt\"\n",
    "ecris_listeChaine_dans_fichier(liste_chaine, fichier)\n",
    "\n"
   ]
  },
  {
   "cell_type": "markdown",
   "id": "2158745b-f57b-433e-b07b-ba61ccd30f6a",
   "metadata": {
    "id": "bea983a3"
   },
   "source": [
    "---\n",
    "\n",
    "### Exercise 39:\n",
    "Write a Python script to count the number of lines that start with a specific letter (e.g., \"A\") in a text file.\n",
    "\n",
    "```python\n",
    "# Exercise 39\n",
    "```"
   ]
  },
  {
   "cell_type": "code",
   "execution_count": 108,
   "id": "eb115642-7d60-4c10-8de0-82b0162d9953",
   "metadata": {},
   "outputs": [
    {
     "name": "stdout",
     "output_type": "stream",
     "text": [
      "Il y'a 2 lignes qui commencent par la lettre \"J\" dans le fichier \"fichier_liste_chaines.txt\"\n"
     ]
    }
   ],
   "source": [
    "def compte_lignes(fichier, lettre):\n",
    "    with open(fichier, \"r\") as mon_fichier:\n",
    "        liste = mon_fichier.readlines()\n",
    "    nombre_de_ligne = 0\n",
    "    for i in liste:\n",
    "        if i[0] == lettre:\n",
    "            nombre_de_ligne += 1\n",
    "    if nombre_de_ligne == 0:\n",
    "        print(f\"Il n'y a aucune ligne qui commence par la lettre \\\"{lettre}\\\" dans le fichier \\\"{fichier}\\\"\")\n",
    "    elif nombre_de_ligne == 1:\n",
    "        print(f\"Il y'a {nombre_de_ligne} seule ligne qui commence par la lettre \\\"{lettre}\\\" dans le fichier \\\"{fichier}\\\"\")\n",
    "    else:\n",
    "         print(f\"Il y'a {nombre_de_ligne} lignes qui commencent par la lettre \\\"{lettre}\\\" dans le fichier \\\"{fichier}\\\"\")\n",
    "\n",
    "# Example teste\n",
    "\n",
    "fichier = \"fichier_liste_chaines.txt\"\n",
    "lettre = \"J\"\n",
    "compte_lignes(fichier, lettre)"
   ]
  },
  {
   "cell_type": "markdown",
   "id": "38784144-ce1b-4c85-af37-2edfc0a89a96",
   "metadata": {
    "id": "bea983a3"
   },
   "source": [
    "---\n",
    "\n",
    "### Exercise 40:\n",
    "Write a Python function that takes a string as input and writes it to a file `\"output_file.txt\"` in reverse order.\n",
    "\n",
    "```python\n",
    "# Exercise 40\n",
    "```"
   ]
  },
  {
   "cell_type": "code",
   "execution_count": 2,
   "id": "5dac23ce-9bfe-44aa-ac32-81edc711de2a",
   "metadata": {},
   "outputs": [],
   "source": [
    "def ecrire(chaine):\n",
    "    with open(\"output_file.txt\", \"w\") as mon_fichier:\n",
    "        chaine_1 = chaine[::-1]\n",
    "        chaine_1 += \"\\n\"\n",
    "        mon_fichier.writelines(chaine_1)\n",
    "\n",
    "# Example teste\n",
    "chaine = \"Bonjour monsieur le programmeur\"\n",
    "ecrire(chaine)"
   ]
  },
  {
   "cell_type": "markdown",
   "id": "e4722e31-3a42-4d5c-a41e-6ebf9f23e9b6",
   "metadata": {
    "id": "bea983a3"
   },
   "source": [
    "---\n",
    "\n",
    "### Exercise 41:\n",
    "Write a Python script that reads a file and prints all the lines that contain the word `\"Python\"`.\n",
    "\n",
    "```python\n",
    "# Exercise 41\n",
    "```"
   ]
  },
  {
   "cell_type": "code",
   "execution_count": 6,
   "id": "37894c4c-984c-415c-9e1d-4e636e6e1c79",
   "metadata": {},
   "outputs": [
    {
     "name": "stdout",
     "output_type": "stream",
     "text": [
      "LE langage Python\n",
      "\n",
      "LE langage PYTHON\n",
      "\n"
     ]
    }
   ],
   "source": [
    "def affiche(fichier):\n",
    "    with open(fichier, \"r\") as mon_fichier:\n",
    "        liste = mon_fichier.readlines()\n",
    "    for phrase in liste:\n",
    "        phrase_1 = detecte_supprime_ponctuations_phrase(phrase)\n",
    "        phrase_1 = (phrase_1.lower()).split()\n",
    "        if \"python\" in phrase_1:\n",
    "            print(phrase)\n",
    "\n",
    "# Example teste\n",
    "fichier = \"python.txt\"\n",
    "affiche(fichier)        "
   ]
  },
  {
   "cell_type": "markdown",
   "id": "1844de6a-41fe-41eb-ab78-d7d74e3fcb20",
   "metadata": {
    "id": "bea983a3"
   },
   "source": [
    "---\n",
    "\n",
    "### Exercise 42:\n",
    "Write a Python script that opens a file and removes all numeric digits from the file's content.\n",
    "\n",
    "```python\n",
    "# Exercise 42\n",
    "```"
   ]
  },
  {
   "cell_type": "code",
   "execution_count": 11,
   "id": "9defa7f4-5da8-4697-875b-ac920091e75f",
   "metadata": {},
   "outputs": [],
   "source": [
    "def supprime_numerique_fichier(fichier):\n",
    "    with open(fichier, \"r\") as mon_fichier:\n",
    "        liste = mon_fichier.readlines()\n",
    "        ref = \"0123456789\"\n",
    "    chaine = \"\"\n",
    "    for i in liste:\n",
    "        for j in i:\n",
    "            if j not in ref:\n",
    "                chaine += j\n",
    "    with open(fichier, \"w\") as mon_fichier: \n",
    "         mon_fichier.writelines(chaine)\n",
    "\n",
    "# Example teste\n",
    "fichier = \"numerique.txt\"\n",
    "supprime_numerique_fichier(fichier) "
   ]
  },
  {
   "cell_type": "markdown",
   "id": "41409678-5436-46d8-bbeb-a4a056df814c",
   "metadata": {
    "id": "bea983a3"
   },
   "source": [
    "---\n",
    "\n",
    "### Exercise 43:\n",
    "Write a Python script to find the most frequent word in a text file `\"book.txt\"`.\n",
    "\n",
    "```python\n",
    "# Exercise 43\n",
    "```"
   ]
  },
  {
   "cell_type": "code",
   "execution_count": 23,
   "id": "fa3ab897-62f8-4c76-a5a6-5d7b00525f13",
   "metadata": {},
   "outputs": [
    {
     "name": "stdout",
     "output_type": "stream",
     "text": [
      "orange\n",
      "banane\n",
      "pomme\n",
      "melon\n",
      "pasteque\n"
     ]
    }
   ],
   "source": [
    "def mot_plus_frequents_fichier(fichier):\n",
    "    with open(fichier, \"r\") as mon_fichier:\n",
    "        liste = mon_fichier.readlines()\n",
    "\n",
    "    liste_mots_fichier = []\n",
    "    for i in liste:\n",
    "        chaine_1 = detecte_supprime_ponctuations_phrase(i.strip())\n",
    "        chaine_2 = chaine_1.split()\n",
    "        for j in chaine_2:\n",
    "            if \"\\'\" in j:\n",
    "                liste_mots_fichier.append(j[2:].lower())\n",
    "            else:\n",
    "                liste_mots_fichier.append(j.lower())\n",
    "    \n",
    "    dictionnaire = {}\n",
    "    for i in liste_mots_fichier:\n",
    "        dictionnaire[i] = liste_mots_fichier.count(i)\n",
    "       \n",
    "    liste_frequences = []\n",
    "    for i in dictionnaire.values():\n",
    "        liste_frequences.append(i)\n",
    "    liste_frequences.sort()\n",
    "    plus_haute_frequences = liste_frequences[-1]\n",
    "\n",
    "    for i in dictionnaire.keys():\n",
    "        if dictionnaire[i] == plus_haute_frequences:\n",
    "            print(i)\n",
    "   \n",
    "    \n",
    "\n",
    "# Example teste\n",
    "fichier = \"book.txt\"\n",
    "mot_plus_frequents_fichier(fichier) "
   ]
  },
  {
   "cell_type": "markdown",
   "id": "00426973-1450-4e70-836d-afafba74ed93",
   "metadata": {
    "id": "bea983a3"
   },
   "source": [
    "---\n",
    "\n",
    "### Exercise 44:\n",
    "Write a Python script that reads a file and prints all the lines that contain exactly 5 words.\n",
    "\n",
    "```python\n",
    "# Exercise 44\n",
    "```"
   ]
  },
  {
   "cell_type": "code",
   "execution_count": 34,
   "id": "0377c05e-75a1-4920-8570-1ef92b531b7d",
   "metadata": {},
   "outputs": [
    {
     "name": "stdout",
     "output_type": "stream",
     "text": [
      "Carotte chou pomme de terre\n",
      "pomme ananas poire melon pasteque\n",
      "resin arachide patate melon pasteque\n",
      "l'shd l'dhj nkj\n"
     ]
    }
   ],
   "source": [
    "def affiche_lignes_5_mots(fichier):\n",
    "    with open(fichier, \"r\") as mon_fichier:\n",
    "        liste = mon_fichier.readlines()\n",
    "\n",
    "    for i in liste:\n",
    "        chaine_1 = detecte_supprime_ponctuations_phrase(i.strip())\n",
    "        chaine_2 = chaine_1.split()\n",
    "        a = 0\n",
    "        for j in chaine_2:\n",
    "            if \"'\" in j:\n",
    "                a += 1\n",
    "          \n",
    "        if len(chaine_2) + a == 5:\n",
    "            print(\" \".join(chaine_2))\n",
    "            \n",
    "\n",
    "# Example teste\n",
    "fichier = \"book.txt\"\n",
    "affiche_lignes_5_mots(fichier) "
   ]
  },
  {
   "cell_type": "markdown",
   "id": "2a4db422-01fb-4a71-93ff-9bb5522fd09a",
   "metadata": {
    "id": "bea983a3"
   },
   "source": [
    "---\n",
    "\n",
    "### Exercise 45:\n",
    "Write a Python script to read a file and print the first and last line of the file.\n",
    "\n",
    "```python\n",
    "# Exercise 45\n",
    "```"
   ]
  },
  {
   "cell_type": "code",
   "execution_count": 8,
   "id": "7cf1f943-8eac-4a94-af2a-7eb2220a987c",
   "metadata": {},
   "outputs": [
    {
     "name": "stdout",
     "output_type": "stream",
     "text": [
      "orange, banane : orange molon l'asd\n",
      "\n",
      "resin arachide patate melon pasteque\n",
      "\n"
     ]
    }
   ],
   "source": [
    "def affiche_premier_derniere_ligne(fichier):\n",
    "    with open(fichier, \"r\") as mon_fichier:\n",
    "        liste = mon_fichier.readlines()\n",
    "    print(liste[0])\n",
    "    print(liste[-1])\n",
    "\n",
    "# Example teste\n",
    "fichier = \"book.txt\"\n",
    "affiche_premier_derniere_ligne(fichier)     "
   ]
  },
  {
   "cell_type": "markdown",
   "id": "9716f9ba-c269-48ba-b1a8-b03cea430364",
   "metadata": {
    "id": "bea983a3"
   },
   "source": [
    "---\n",
    "\n",
    "### Exercise 46:\n",
    "Write a Python script that checks if a file `\"students.txt\"` is writable.\n",
    "\n",
    "```python\n",
    "# Exercise 46\n",
    "```"
   ]
  },
  {
   "cell_type": "code",
   "execution_count": 1,
   "id": "d73fe865-219f-4dc5-aed6-ee80347e3d6f",
   "metadata": {},
   "outputs": [
    {
     "name": "stdout",
     "output_type": "stream",
     "text": [
      "Le fichier \"students.txt\" n'est pas accessible en écriture.\n"
     ]
    }
   ],
   "source": [
    "import os\n",
    "if os.access(\"students.txt\", os.W_OK):\n",
    "    print(\"Le fichier \\\"students.txt\\\" est accessible en écriture.\")\n",
    "else:\n",
    "    print(\"Le fichier \\\"students.txt\\\" n'est pas accessible en écriture.\")"
   ]
  },
  {
   "cell_type": "markdown",
   "id": "1da5d1db-b75f-47a1-b776-72dd788c8f0f",
   "metadata": {
    "id": "bea983a3"
   },
   "source": [
    "---\n",
    "\n",
    "### Exercise 47:\n",
    "Create a Python function that opens a file and returns the number of unique words in the file.\n",
    "\n",
    "```python\n",
    "# Exercise 47\n",
    "```"
   ]
  },
  {
   "cell_type": "code",
   "execution_count": 7,
   "id": "ca376112-901c-4ad6-9746-7e94c1caf9e2",
   "metadata": {},
   "outputs": [
    {
     "name": "stdout",
     "output_type": "stream",
     "text": [
      "banane\n",
      "molon\n",
      "asd\n",
      "carotte\n",
      "chou\n",
      "de\n",
      "terre\n",
      "ananas\n",
      "poire\n",
      "resin\n",
      "arachide\n",
      "patate\n"
     ]
    }
   ],
   "source": [
    "def les_mots_uniques_fichier(fichier):\n",
    "    with open(fichier, \"r\") as mon_fichier:\n",
    "        liste = mon_fichier.readlines()\n",
    "\n",
    "    liste_mots_fichier = []\n",
    "    for i in liste:\n",
    "        chaine_1 = detecte_supprime_ponctuations_phrase(i.strip())\n",
    "        chaine_2 = chaine_1.split()\n",
    "        for j in chaine_2:\n",
    "            if \"\\'\" in j:\n",
    "                liste_mots_fichier.append(j[2:].lower())\n",
    "            else:\n",
    "                liste_mots_fichier.append(j.lower())\n",
    "    \n",
    "    dictionnaire = {}\n",
    "    for i in liste_mots_fichier:\n",
    "        dictionnaire[i] = liste_mots_fichier.count(i)\n",
    "\n",
    "    for i in dictionnaire.keys():\n",
    "        if dictionnaire[i] == 1:\n",
    "            print(i)\n",
    "\n",
    "\n",
    "# Example teste\n",
    "fichier = \"book.txt\"\n",
    "les_mots_uniques_fichier(fichier) "
   ]
  },
  {
   "cell_type": "markdown",
   "id": "ad1bee26-5f15-449f-9d53-9fcdabfa8f9a",
   "metadata": {
    "id": "bea983a3"
   },
   "source": [
    "---\n",
    "\n",
    "### Exercise 48:\n",
    "Write a Python script that reads a file and prints all lines in reverse order.\n",
    "\n",
    "```python\n",
    "# Exercise 48\n",
    "```"
   ]
  },
  {
   "cell_type": "code",
   "execution_count": 14,
   "id": "c1df6333-7fbc-43fa-b41a-01e72b54cee6",
   "metadata": {},
   "outputs": [
    {
     "name": "stdout",
     "output_type": "stream",
     "text": [
      "resin arachide patate melon pasteque\n",
      "\n",
      "pomme ananas poire melon pasteque\n",
      "\n",
      "Carotte chou pomme de terre\n",
      "\n",
      "orange, banane : orange molon l'asd\n",
      "\n"
     ]
    }
   ],
   "source": [
    "def affiche_lignes_fichier_ordre_inverse(fichier):\n",
    "    with open(fichier, \"r\") as mon_fichier:\n",
    "        liste = mon_fichier.readlines()\n",
    "\n",
    "    print(liste[-1])\n",
    "    for i in range(2, len(liste) + 1):\n",
    "        print(liste[-i])\n",
    "        \n",
    "\n",
    "# Example teste\n",
    "fichier = \"book.txt\"\n",
    "affiche_lignes_fichier_ordre_inverse(fichier) "
   ]
  },
  {
   "cell_type": "markdown",
   "id": "865041a0-abde-4f34-b3aa-b7a499f93ab4",
   "metadata": {
    "id": "bea983a3"
   },
   "source": [
    "---\n",
    "\n",
    "### Exercise 49:\n",
    "Write a Python function that reads a file and returns the most common letter in the text.\n",
    "\n",
    "```python\n",
    "# Exercise 49\n",
    "```"
   ]
  },
  {
   "cell_type": "code",
   "execution_count": 22,
   "id": "03e3c872-6f80-4e2e-a806-2b93b0509a3f",
   "metadata": {},
   "outputs": [
    {
     "name": "stdout",
     "output_type": "stream",
     "text": [
      "La lettre oubien les lettres, la plus fréquente oubien les plus fréquentes dans le fichier \"book.txt\" est, oubien sont:\n",
      "a   e   "
     ]
    }
   ],
   "source": [
    "def les_mots_uniques_fichier(fichier):\n",
    "    with open(fichier, \"r\") as mon_fichier:\n",
    "        liste = mon_fichier.readlines()\n",
    "\n",
    "    liste_mots_fichier = []\n",
    "    for i in liste:\n",
    "        chaine_1 = detecte_supprime_ponctuations_phrase(i.strip())\n",
    "        chaine_2 = chaine_1.split()\n",
    "        for j in chaine_2:\n",
    "            liste_mots_fichier.append(j.lower())\n",
    "                \n",
    "    alphabet = \"abcdefghijklmnopqrstuvwxyz\"\n",
    "    liste_frequences = []\n",
    "    dictionnaire = {}\n",
    "    for i in alphabet:\n",
    "        frequence_lettre = 0\n",
    "        for j in liste_mots_fichier:\n",
    "            frequence_lettre += j.count(i)\n",
    "        liste_frequences.append(frequence_lettre)\n",
    "        dictionnaire[i] = frequence_lettre\n",
    "\n",
    "    \n",
    "    liste_frequences.sort()\n",
    "    print(f\"La lettre oubien les lettres, la plus fréquente oubien les plus fréquentes dans le fichier \\\"{fichier}\\\" est, oubien sont:\")\n",
    "    for i in dictionnaire.keys():\n",
    "        if dictionnaire[i] == liste_frequences[-1]:\n",
    "            print(i, end = \"   \")\n",
    "\n",
    "\n",
    "# Example teste\n",
    "fichier = \"book.txt\"\n",
    "les_mots_uniques_fichier(fichier) "
   ]
  },
  {
   "cell_type": "markdown",
   "id": "e8ab2d7d-dcb9-4309-ab1a-708ab2a67c9c",
   "metadata": {
    "id": "bea983a3"
   },
   "source": [
    "---\n",
    "\n",
    "### Exercise 50:\n",
    "Write a Python script that reads a file and replaces every occurrence of `\"Python\"` with `\"Java\"`.\n",
    "\n",
    "```python\n",
    "# Exercise 50\n",
    "```"
   ]
  },
  {
   "cell_type": "code",
   "execution_count": 29,
   "id": "a4121286-2c9b-4242-aaf0-90243c0ed5ef",
   "metadata": {
    "id": "bea983a3"
   },
   "outputs": [],
   "source": [
    "import os\n",
    "def remplace_python_par_java(fichier):\n",
    "    with open(fichier, \"r\") as file:\n",
    "        liste = file.readlines()\n",
    "    \n",
    "    my_list_string = []\n",
    "    for phrase in liste:\n",
    "        phrase_1 = phrase.lower()\n",
    "        phrase_2 = phrase_1.replace(\"python\", \"Java\")\n",
    "        my_list_string.append(phrase_2)\n",
    "   \n",
    "    os.remove(fichier) # Suppression du fichier \n",
    "    with open(fichier, \"w\") as file:\n",
    "        for i in my_list_string:\n",
    "            file.write(i)\n",
    "\n",
    "# Example teste\n",
    "fichier = \"remplace_python_par_java.txt\"\n",
    "remplace_python_par_java(fichier) "
   ]
  }
 ],
 "metadata": {
  "colab": {
   "provenance": []
  },
  "kernelspec": {
   "display_name": "Python [conda env:base] *",
   "language": "python",
   "name": "conda-base-py"
  },
  "language_info": {
   "codemirror_mode": {
    "name": "ipython",
    "version": 3
   },
   "file_extension": ".py",
   "mimetype": "text/x-python",
   "name": "python",
   "nbconvert_exporter": "python",
   "pygments_lexer": "ipython3",
   "version": "3.13.5"
  }
 },
 "nbformat": 4,
 "nbformat_minor": 5
}
