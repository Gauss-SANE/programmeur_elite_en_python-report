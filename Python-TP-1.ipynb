{
 "cells": [
  {
   "cell_type": "markdown",
   "id": "426486dd",
   "metadata": {
    "id": "426486dd"
   },
   "source": [
    "\n",
    "\n",
    "# Practical_1: Variables and Assignments"
   ]
  },
  {
   "cell_type": "markdown",
   "id": "35ea7f0e-f925-4620-a3e4-bb29d3369445",
   "metadata": {
    "id": "9fb19f0d"
   },
   "source": [
    "----\n",
    "\n",
    "### Exercise 1:\n",
    "Declare a variable `x` and assign it the value `10`."
   ]
  },
  {
   "cell_type": "code",
   "execution_count": null,
   "id": "363e1658-38c2-4a5d-9193-5471aef280c8",
   "metadata": {
    "id": "9fb19f0d"
   },
   "outputs": [],
   "source": [
    "x = 10"
   ]
  },
  {
   "cell_type": "markdown",
   "id": "a752ee2e-5a1c-469b-85cc-06f515ca9519",
   "metadata": {
    "id": "9fb19f0d"
   },
   "source": [
    "---\n",
    "\n",
    "### Exercise 2:\n",
    "Assign the value `True` to a variable called `is_valid`.\n",
    "\n",
    "```python\n",
    "# Exercise 2\n",
    "```"
   ]
  },
  {
   "cell_type": "code",
   "execution_count": null,
   "id": "7dff3eeb-84b9-4b59-83f3-ef4a21a1164d",
   "metadata": {
    "id": "9fb19f0d"
   },
   "outputs": [],
   "source": [
    "is_valid = True\n",
    "is_valid"
   ]
  },
  {
   "cell_type": "markdown",
   "id": "22965d93-2a7f-4b9b-b861-49382a2d8e5e",
   "metadata": {
    "id": "9fb19f0d"
   },
   "source": [
    "### Exercise 3:\n",
    "Create a string variable `name` with the value \"Python Programming\".\n",
    "\n",
    "```python\n",
    "# Exercise 3\n",
    "```\n",
    "\n",
    "---"
   ]
  },
  {
   "cell_type": "code",
   "execution_count": null,
   "id": "1f6f8dda-09db-43f3-946d-55f62ea69a64",
   "metadata": {
    "id": "9fb19f0d"
   },
   "outputs": [],
   "source": [
    "name = \"Python programmung\"\n",
    "name"
   ]
  },
  {
   "cell_type": "markdown",
   "id": "3f42f3dc-e41c-4052-8b14-cc84d50f5f76",
   "metadata": {
    "id": "9fb19f0d"
   },
   "source": [
    "### Exercise 4:\n",
    "Assign the result of `5 + 3` to a variable `sum_result`.\n",
    "\n",
    "```python\n",
    "# Exercise 4\n",
    "```\n",
    "\n",
    "---"
   ]
  },
  {
   "cell_type": "markdown",
   "id": "372de26e-f821-402b-904f-810f9a857577",
   "metadata": {
    "id": "9fb19f0d"
   },
   "source": [
    "sum_result = 5 + 3"
   ]
  },
  {
   "cell_type": "markdown",
   "id": "31e28159-30df-464d-b2cd-ec94489b0f55",
   "metadata": {
    "id": "9fb19f0d"
   },
   "source": [
    "### Exercise 5:\n",
    "Assign multiple variables in one line: `a = 5`, `b = 10`, `c = 15`.\n",
    "\n",
    "```python\n",
    "# Exercise 5\n",
    "```\n",
    "\n",
    "---"
   ]
  },
  {
   "cell_type": "code",
   "execution_count": null,
   "id": "32e033f0-8e14-4da3-afc4-13561f76e83b",
   "metadata": {},
   "outputs": [],
   "source": [
    "a, b, c = 5, 10, 15\n",
    "print(a)\n",
    "type(a)\n",
    "print(b)\n",
    "type(b)\n",
    "print(c)\n",
    "type(c)"
   ]
  },
  {
   "cell_type": "markdown",
   "id": "744d29d8-0811-4331-93db-e9ef9313848b",
   "metadata": {
    "id": "9fb19f0d"
   },
   "source": [
    "### Exercise 7:\n",
    "Assign a floating-point number `9.8` to a variable `gravity`.\n",
    "\n",
    "```python\n",
    "# Exercise 7\n",
    "```"
   ]
  },
  {
   "cell_type": "code",
   "execution_count": null,
   "id": "1fe17fa3-2b6f-4352-b9fd-8aaaa3cd27f1",
   "metadata": {},
   "outputs": [],
   "source": [
    "gravity = 9.8\n",
    "print(gravity)\n",
    "type(gravity)"
   ]
  },
  {
   "cell_type": "markdown",
   "id": "44258e41-0d8c-4ade-87dc-563764709437",
   "metadata": {
    "id": "9fb19f0d"
   },
   "source": [
    "---\n",
    "\n",
    "### Exercise 8:\n",
    "Create a variable `country` and assign it the string value of your favorite country.\n",
    "\n",
    "```python\n",
    "# Exercise 8\n",
    "```\n",
    "\n",
    "---"
   ]
  },
  {
   "cell_type": "code",
   "execution_count": null,
   "id": "dac9eee9-3c20-4d07-a0aa-e28d6566a740",
   "metadata": {},
   "outputs": [],
   "source": [
    "country = \"Senegal\"\n",
    "print(country)\n",
    "type(country)"
   ]
  },
  {
   "cell_type": "markdown",
   "id": "29972447-0cc7-4a39-bb2b-61f2ad4270ac",
   "metadata": {
    "id": "9fb19f0d"
   },
   "source": [
    "### Exercise 9:\n",
    "Change the value of variable `age` from `25` to `26` in two separate steps.\n",
    "\n",
    "```python\n",
    "# Exercise 9\n",
    "```\n",
    "\n",
    "---"
   ]
  },
  {
   "cell_type": "code",
   "execution_count": null,
   "id": "bbd543f0-19a3-4c5d-8069-93fe6b9cd36c",
   "metadata": {},
   "outputs": [],
   "source": [
    "age = 25\n",
    "age = 26\n",
    "print(age)"
   ]
  },
  {
   "cell_type": "markdown",
   "id": "edfb9eb9-8ce0-4e40-8025-752497e59878",
   "metadata": {
    "id": "9fb19f0d"
   },
   "source": [
    "### Exercise 10:\n",
    "Use one variable to store the result of subtracting two numbers `20 - 7`.\n",
    "\n",
    "```python\n",
    "# Exercise 10\n",
    "```\n",
    "\n",
    "---"
   ]
  },
  {
   "cell_type": "code",
   "execution_count": null,
   "id": "0d6ca6a0-2040-4197-990a-85fb1b26dcb1",
   "metadata": {},
   "outputs": [],
   "source": [
    "nombre = 20 - 7\n",
    "print(nombre)"
   ]
  },
  {
   "cell_type": "markdown",
   "id": "c8c1e7e9-4073-4b36-abc7-a9148125e72d",
   "metadata": {
    "id": "9fb19f0d"
   },
   "source": [
    "### Exercise 11:\n",
    "Assign an integer value and a floating-point value to two different variables.\n",
    "\n",
    "```python\n",
    "# Exercise 11\n",
    "```\n",
    "\n",
    "---"
   ]
  },
  {
   "cell_type": "code",
   "execution_count": null,
   "id": "43c46618-521d-4bda-a7b7-244584f182e9",
   "metadata": {},
   "outputs": [],
   "source": [
    "number_int = 23\n",
    "number_float = 0.78\n",
    "print(number_int)\n",
    "print(number_float)"
   ]
  },
  {
   "cell_type": "markdown",
   "id": "716689ad-c742-49ac-b387-de4d0ee3811e",
   "metadata": {
    "id": "9fb19f0d"
   },
   "source": [
    "### Exercise 12:\n",
    "Assign a boolean value `False` to a variable `is_completed`.\n",
    "\n",
    "```python\n",
    "# Exercise 12\n",
    "```\n",
    "\n",
    "---"
   ]
  },
  {
   "cell_type": "code",
   "execution_count": null,
   "id": "d4aea5e7-a015-4c74-be26-f9f655378b65",
   "metadata": {},
   "outputs": [],
   "source": [
    "is_completed = False\n",
    "print(is_completed)"
   ]
  },
  {
   "cell_type": "markdown",
   "id": "63052cf0-7903-4ebe-b980-4ccc35533562",
   "metadata": {
    "id": "9fb19f0d"
   },
   "source": [
    "### Exercise 13:\n",
    "Swap the values of two variables `x` and `y`.\n",
    "\n",
    "```python\n",
    "# Exercise 13\n",
    "```\n",
    "\n",
    "---"
   ]
  },
  {
   "cell_type": "code",
   "execution_count": 17,
   "id": "e422e3b9-e82c-406d-ab03-40968dfaf5f2",
   "metadata": {},
   "outputs": [
    {
     "name": "stdout",
     "output_type": "stream",
     "text": [
      "============= Value of number_1 and number_2 before exchange  =============\n",
      "\n",
      "number_1 = 34\n",
      "number_2 = 2\n",
      "\n",
      "============= Value of number_1 and number_2 after exchange  =============\n",
      "\n",
      "number_1 = 2\n",
      "number_2 = 34\n"
     ]
    }
   ],
   "source": [
    "number_1 = 34\n",
    "number_2 = 2\n",
    "\n",
    "\n",
    "print(\"============= Value of number_1 and number_2 before exchange  =============\")\n",
    "print(\"\")\n",
    "print(\"number_1 = {}\".format(number_1))\n",
    "print(\"number_2 = {}\".format(number_2))\n",
    "\n",
    "number_tampon = number_1\n",
    "number_1 = number_2\n",
    "number_2 = number_tampon\n",
    "\n",
    "print(\"\")\n",
    "print(\"============= Value of number_1 and number_2 after exchange  =============\")\n",
    "print(\"\")\n",
    "print(\"number_1 = {}\".format(number_1))\n",
    "print(\"number_2 = {}\".format(number_2))"
   ]
  },
  {
   "cell_type": "code",
   "execution_count": null,
   "id": "6e37977e-383d-407d-9c84-3073b0a1bc0a",
   "metadata": {},
   "outputs": [],
   "source": []
  },
  {
   "cell_type": "markdown",
   "id": "7171ec31-9a6a-4d9d-848a-15173f9d07f9",
   "metadata": {
    "id": "9fb19f0d"
   },
   "source": [
    "### Exercise 14:\n",
    "Assign a complex number `3 + 4j` to a variable `complex_num`.\n",
    "\n",
    "```python\n",
    "# Exercise 14\n",
    "```\n",
    "\n",
    "---"
   ]
  },
  {
   "cell_type": "code",
   "execution_count": 18,
   "id": "a98e56e8-410a-4dc7-bf4d-b0876b2774ac",
   "metadata": {},
   "outputs": [
    {
     "name": "stdout",
     "output_type": "stream",
     "text": [
      "(3+4j)\n"
     ]
    },
    {
     "data": {
      "text/plain": [
       "complex"
      ]
     },
     "execution_count": 18,
     "metadata": {},
     "output_type": "execute_result"
    }
   ],
   "source": [
    "complex_num = 3 + 4j\n",
    "print(complex_num)\n",
    "type(complex_num)"
   ]
  },
  {
   "cell_type": "markdown",
   "id": "b9649a8e-add1-45b5-a1ff-574e2041c5b8",
   "metadata": {
    "id": "9fb19f0d"
   },
   "source": [
    "### Exercise 15:\n",
    "Reassign a variable from an integer to a string.\n",
    "\n",
    "```python\n",
    "# Exercise 15\n",
    "```\n",
    "\n",
    "---"
   ]
  },
  {
   "cell_type": "code",
   "execution_count": 19,
   "id": "b278bf51-a782-436b-882f-0cbc8159d7e8",
   "metadata": {},
   "outputs": [
    {
     "name": "stdout",
     "output_type": "stream",
     "text": [
      "345\n"
     ]
    },
    {
     "data": {
      "text/plain": [
       "str"
      ]
     },
     "execution_count": 19,
     "metadata": {},
     "output_type": "execute_result"
    }
   ],
   "source": [
    "number_int = 345\n",
    "number_string = str(number_int)\n",
    "print(number_string)\n",
    "type(number_string)"
   ]
  },
  {
   "cell_type": "markdown",
   "id": "97bd17a0-c57c-4332-a99e-0d5edeb9e845",
   "metadata": {
    "id": "9fb19f0d"
   },
   "source": [
    "### Exercise 16:\n",
    "Create two variables `first_name` and `last_name`, and assign them your first and last names.\n",
    "\n",
    "```python\n",
    "# Exercise 16\n",
    "```\n",
    "\n",
    "---"
   ]
  },
  {
   "cell_type": "code",
   "execution_count": 22,
   "id": "c268442e-1849-412e-a9f6-99f604ee898e",
   "metadata": {},
   "outputs": [
    {
     "name": "stdout",
     "output_type": "stream",
     "text": [
      "Malamine\n",
      "SANE\n",
      "Malamine <class 'str'>\n",
      "SANE <class 'str'>\n"
     ]
    }
   ],
   "source": [
    "first_name = \"Malamine\"\n",
    "last_name = \"SANE\"\n",
    "print(first_name)\n",
    "print(last_name)\n",
    "\n",
    "print(first_name, type(first_name))\n",
    "print(last_name, type(first_name))"
   ]
  },
  {
   "cell_type": "code",
   "execution_count": null,
   "id": "777d613a-c4d6-45d4-baab-99c230c91bf5",
   "metadata": {},
   "outputs": [],
   "source": []
  },
  {
   "cell_type": "markdown",
   "id": "eb215508-a0ac-4d4e-bfcc-02962a549f02",
   "metadata": {
    "id": "9fb19f0d"
   },
   "source": [
    "### Exercise 17:\n",
    "Create a variable `temperature` and assign it the value of `35.5`.\n",
    "\n",
    "```python\n",
    "# Exercise 17\n",
    "```\n",
    "\n",
    "---"
   ]
  },
  {
   "cell_type": "code",
   "execution_count": 23,
   "id": "d2d4c4ff-c42b-48a1-be9c-ce30d3b5a82a",
   "metadata": {},
   "outputs": [
    {
     "name": "stdout",
     "output_type": "stream",
     "text": [
      "35.5 <class 'float'>\n"
     ]
    }
   ],
   "source": [
    "temperature = 35.5\n",
    "print(temperature, type(temperature))"
   ]
  },
  {
   "cell_type": "markdown",
   "id": "a8c19303-7a92-4c7f-acc0-3ebd88c8888c",
   "metadata": {
    "id": "9fb19f0d"
   },
   "source": [
    "### Exercise 18:\n",
    "Assign the result of the multiplication of two numbers `8 * 6` to a variable `product`.\n",
    "\n",
    "```python\n",
    "# Exercise 18\n",
    "```\n",
    "\n",
    "---"
   ]
  },
  {
   "cell_type": "code",
   "execution_count": 24,
   "id": "ec667f49-1bcb-4fe9-8dd8-e6d97bf4c610",
   "metadata": {},
   "outputs": [
    {
     "name": "stdout",
     "output_type": "stream",
     "text": [
      "48 <class 'int'>\n"
     ]
    }
   ],
   "source": [
    "product = 8 * 6\n",
    "print(product, type(product))"
   ]
  },
  {
   "cell_type": "code",
   "execution_count": null,
   "id": "8bbca8c7-de73-4008-ad9c-982b206a6bfb",
   "metadata": {
    "id": "9fb19f0d"
   },
   "outputs": [],
   "source": [
    "### Exercise 19:\n",
    "Assign a sentence of your choice to a variable `sentence`.\n",
    "\n",
    "```python\n",
    "# Exercise 19\n",
    "```\n",
    "\n",
    "---"
   ]
  },
  {
   "cell_type": "code",
   "execution_count": 25,
   "id": "cfbef2ee-4858-4f2b-a1a9-cef77469922f",
   "metadata": {},
   "outputs": [
    {
     "name": "stdout",
     "output_type": "stream",
     "text": [
      "Les programmeurs d'AIMS <class 'str'>\n"
     ]
    }
   ],
   "source": [
    "sentence = \"Les programmeurs d'AIMS\"\n",
    "print(sentence, type(sentence))"
   ]
  },
  {
   "cell_type": "code",
   "execution_count": null,
   "id": "6b289519-71d4-4f51-b301-515efcb69abe",
   "metadata": {
    "id": "9fb19f0d"
   },
   "outputs": [],
   "source": [
    "### Exercise 20:\n",
    "Use an assignment to convert a string `'50'` into an integer variable `int_value`.\n",
    "\n",
    "```python\n",
    "# Exercise 20\n",
    "```\n",
    "\n",
    "---"
   ]
  },
  {
   "cell_type": "code",
   "execution_count": 26,
   "id": "9597e1fc-4460-466a-b7d4-868ea48d3dbc",
   "metadata": {},
   "outputs": [
    {
     "name": "stdout",
     "output_type": "stream",
     "text": [
      "50 <class 'int'>\n"
     ]
    }
   ],
   "source": [
    "int_string = \"50\"\n",
    "int_value = int(int_string)\n",
    "print(int_value, type(int_value))"
   ]
  },
  {
   "cell_type": "code",
   "execution_count": null,
   "id": "006424f8-549d-440c-96f3-fc5ee0b1540a",
   "metadata": {
    "id": "9fb19f0d"
   },
   "outputs": [],
   "source": [
    "### Exercise 21:\n",
    "Assign the result of dividing `144` by `12` to a variable `quotient`.\n",
    "\n",
    "```python\n",
    "# Exercise 21\n",
    "```\n",
    "\n",
    "---"
   ]
  },
  {
   "cell_type": "code",
   "execution_count": 27,
   "id": "b2f5ca91-aba6-4165-8ab4-9a456b90b4c6",
   "metadata": {},
   "outputs": [
    {
     "name": "stdout",
     "output_type": "stream",
     "text": [
      "12.0 <class 'float'>\n"
     ]
    }
   ],
   "source": [
    "quotient = 144/12\n",
    "print(quotient, type(quotient))"
   ]
  },
  {
   "cell_type": "code",
   "execution_count": null,
   "id": "2a8098c3-f474-4f3b-9528-81ce4195fa3c",
   "metadata": {
    "id": "9fb19f0d"
   },
   "outputs": [],
   "source": [
    "### Exercise 22:\n",
    "Assign the remainder of `47 divided by 5` to a variable `remainder`.\n",
    "\n",
    "```python\n",
    "# Exercise 22\n",
    "```\n",
    "\n",
    "---"
   ]
  },
  {
   "cell_type": "code",
   "execution_count": null,
   "id": "fbf94580-20c2-4578-93eb-6a05ca55b2fc",
   "metadata": {},
   "outputs": [],
   "source": [
    "remainder = 47%5"
   ]
  },
  {
   "cell_type": "code",
   "execution_count": null,
   "id": "a8076fc9-7511-4ec9-80d9-4612c46a5606",
   "metadata": {
    "id": "9fb19f0d"
   },
   "outputs": [],
   "source": [
    "### Exercise 23:\n",
    "Create a variable `is_student` and assign it the value `True`.\n",
    "\n",
    "```python\n",
    "# Exercise 23\n",
    "```\n",
    "\n",
    "---"
   ]
  },
  {
   "cell_type": "code",
   "execution_count": 28,
   "id": "e932bfdf-ba5b-4dd6-ac6a-1f45d1d5b281",
   "metadata": {},
   "outputs": [
    {
     "name": "stdout",
     "output_type": "stream",
     "text": [
      "True <class 'bool'>\n"
     ]
    }
   ],
   "source": [
    "is_student = True\n",
    "print(is_student, type(is_student))"
   ]
  },
  {
   "cell_type": "markdown",
   "id": "a76ccdc8-2550-48e0-b309-016729843d55",
   "metadata": {
    "id": "9fb19f0d"
   },
   "source": [
    "### Exercise 24:\n",
    "Use a variable to store the result of a modulo operation: `45 % 4`.\n",
    "\n",
    "```python\n",
    "# Exercise 24\n",
    "```"
   ]
  },
  {
   "cell_type": "code",
   "execution_count": 29,
   "id": "043b8e6d-0244-4941-8e82-a947b03ceca8",
   "metadata": {},
   "outputs": [
    {
     "name": "stdout",
     "output_type": "stream",
     "text": [
      "1\n"
     ]
    }
   ],
   "source": [
    "reste = 45 % 4\n",
    "print(reste)"
   ]
  },
  {
   "cell_type": "markdown",
   "id": "fdbd8460-02e5-4bf3-a434-7d9bb66a2097",
   "metadata": {
    "id": "9fb19f0d"
   },
   "source": [
    "---\n",
    "\n",
    "### Exercise 25:\n",
    "Create a variable `pi` and assign it the value `3.14159`.\n",
    "\n",
    "```python\n",
    "# Exercise 25\n",
    "```"
   ]
  },
  {
   "cell_type": "code",
   "execution_count": null,
   "id": "59b84aa3-3725-49b6-b25b-a3d0d396d215",
   "metadata": {},
   "outputs": [],
   "source": [
    "pi = 3.14159\n",
    "print(pi, type(pi))"
   ]
  },
  {
   "cell_type": "markdown",
   "id": "92a47ad9-eb7f-44ec-96b7-359e1018fb45",
   "metadata": {
    "id": "9fb19f0d"
   },
   "source": [
    "---\n",
    "\n",
    "### Exercise 26:\n",
    "Create two variables `length` and `width`, assign them values, and calculate the area of a rectangle.\n",
    "\n",
    "```python\n",
    "# Exercise 26\n",
    "```"
   ]
  },
  {
   "cell_type": "code",
   "execution_count": 30,
   "id": "c621088e-a924-428e-96fd-3d7d9d327229",
   "metadata": {},
   "outputs": [
    {
     "name": "stdout",
     "output_type": "stream",
     "text": [
      "The area of a rectangle is 408\n"
     ]
    }
   ],
   "source": [
    "length = 34\n",
    "width = 12\n",
    "area = length * width\n",
    "\n",
    "print(\"The area of a rectangle is {}\".format(area))"
   ]
  },
  {
   "cell_type": "markdown",
   "id": "57a49fe9-285a-464b-a2cd-59c7f59749de",
   "metadata": {
    "id": "9fb19f0d"
   },
   "source": [
    "---\n",
    "\n",
    "### Exercise 27:\n",
    "Assign a negative number to a variable `negative_value`.\n",
    "\n",
    "```python\n",
    "# Exercise 27\n",
    "```"
   ]
  },
  {
   "cell_type": "code",
   "execution_count": null,
   "id": "b9b3f80c-4bdb-418e-8bca-35761323e003",
   "metadata": {},
   "outputs": [],
   "source": [
    "negative_value = -12\n",
    "printa(negative_value, type(negative_value))"
   ]
  },
  {
   "cell_type": "code",
   "execution_count": null,
   "id": "473d4bc1-551e-4dbe-9ee6-9bdbc924824a",
   "metadata": {
    "id": "9fb19f0d"
   },
   "outputs": [],
   "source": [
    "---\n",
    "\n",
    "### Exercise 28:\n",
    "Assign a string containing a special character (e.g., \"Hello, World!\") to a variable `greeting`.\n",
    "\n",
    "```python\n",
    "# Exercise 28\n",
    "```"
   ]
  },
  {
   "cell_type": "code",
   "execution_count": 31,
   "id": "17900fd2-c8c4-403b-a91c-968e1e5ced02",
   "metadata": {},
   "outputs": [
    {
     "name": "stdout",
     "output_type": "stream",
     "text": [
      "Why programme ? <class 'str'>\n"
     ]
    }
   ],
   "source": [
    "greeting = \"Why programme ?\"\n",
    "print(greeting, type(greeting))"
   ]
  },
  {
   "cell_type": "markdown",
   "id": "3f36d339-93bc-4f5a-ae1f-2f4c80629bc0",
   "metadata": {
    "id": "9fb19f0d"
   },
   "source": [
    "---\n",
    "\n",
    "### Exercise 29:\n",
    "Create a variable `population` and assign it a large integer value (in billions).\n",
    "\n",
    "```python\n",
    "# Exercise 29\n",
    "```"
   ]
  },
  {
   "cell_type": "code",
   "execution_count": 33,
   "id": "778886cb-954d-4c87-9724-450bbe3b44ba",
   "metadata": {},
   "outputs": [
    {
     "name": "stdout",
     "output_type": "stream",
     "text": [
      "123456978243968\n"
     ]
    },
    {
     "data": {
      "text/plain": [
       "int"
      ]
     },
     "execution_count": 33,
     "metadata": {},
     "output_type": "execute_result"
    }
   ],
   "source": [
    "population = 123456978243968\n",
    "print(population)\n",
    "type(population)"
   ]
  },
  {
   "cell_type": "code",
   "execution_count": null,
   "id": "401aa127-d9ac-42ab-8fc7-4de9a91ddbf9",
   "metadata": {
    "id": "9fb19f0d"
   },
   "outputs": [],
   "source": [
    "---\n",
    "\n",
    "### Exercise 30:\n",
    "Use a variable to store the result of raising `2` to the power of `8`.\n",
    "\n",
    "```python\n",
    "# Exercise 30\n",
    "```"
   ]
  },
  {
   "cell_type": "code",
   "execution_count": null,
   "id": "ae9b8bd8-230b-4d96-a562-c6cf4009ca8b",
   "metadata": {},
   "outputs": [],
   "source": [
    "number = 2**8\n",
    "print(number)\n",
    "type(number)"
   ]
  },
  {
   "cell_type": "code",
   "execution_count": null,
   "id": "351e62e5-57c0-4dc6-970f-443aadf1d491",
   "metadata": {
    "id": "9fb19f0d"
   },
   "outputs": [],
   "source": [
    "---\n",
    "\n",
    "### Exercise 31:\n",
    "Assign a list of your favorite fruits to a variable `fruits`.\n",
    "\n",
    "```python\n",
    "# Exercise 31\n",
    "```"
   ]
  },
  {
   "cell_type": "code",
   "execution_count": null,
   "id": "a112998a-651c-42a3-b2dc-80a62379bd2f",
   "metadata": {},
   "outputs": [],
   "source": [
    "fruits = [\"Banane\", \"pomme\", \"orange\", \"poire\", \"pasteque\"]"
   ]
  },
  {
   "cell_type": "code",
   "execution_count": null,
   "id": "ccdfaac9-64a8-48c4-8baa-a7325c4fbc14",
   "metadata": {
    "id": "9fb19f0d"
   },
   "outputs": [],
   "source": [
    "---\n",
    "\n",
    "### Exercise 32:\n",
    "Assign a tuple of three numbers to a variable `coordinates`.\n",
    "\n",
    "```python\n",
    "# Exercise 32\n",
    "```"
   ]
  },
  {
   "cell_type": "code",
   "execution_count": 34,
   "id": "a5fd3a31-4ac7-425e-89a4-6a09b3905162",
   "metadata": {},
   "outputs": [
    {
     "name": "stdout",
     "output_type": "stream",
     "text": [
      "(23, 45, 12)\n"
     ]
    },
    {
     "data": {
      "text/plain": [
       "tuple"
      ]
     },
     "execution_count": 34,
     "metadata": {},
     "output_type": "execute_result"
    }
   ],
   "source": [
    "coordinates = (23, 45, 12)\n",
    "print(coordinates)\n",
    "type(coordinates)"
   ]
  },
  {
   "cell_type": "code",
   "execution_count": null,
   "id": "39391f61-29d4-4734-8479-58bbf69133be",
   "metadata": {
    "id": "9fb19f0d"
   },
   "outputs": [],
   "source": [
    "---\n",
    "\n",
    "### Exercise 33:\n",
    "Assign a dictionary with keys `name` and `age` to a variable `person`.\n",
    "\n",
    "```python\n",
    "# Exercise 33\n",
    "```"
   ]
  },
  {
   "cell_type": "code",
   "execution_count": 38,
   "id": "14cc9e02-1b6c-48aa-9011-33a3c0270a53",
   "metadata": {},
   "outputs": [
    {
     "data": {
      "text/plain": [
       "dict"
      ]
     },
     "execution_count": 38,
     "metadata": {},
     "output_type": "execute_result"
    }
   ],
   "source": [
    "person = {\"name\": \"Malamine\", \"age\": 28}\n",
    "type(person)"
   ]
  },
  {
   "cell_type": "code",
   "execution_count": null,
   "id": "e6fb2b8d-70a5-4d95-8ffc-3734c63a22ac",
   "metadata": {
    "id": "9fb19f0d"
   },
   "outputs": [],
   "source": [
    "---\n",
    "\n",
    "### Exercise 34:\n",
    "Use variables to store the sum of two floating-point numbers.\n",
    "\n",
    "```python\n",
    "# Exercise 34\n",
    "```"
   ]
  },
  {
   "cell_type": "code",
   "execution_count": null,
   "id": "2a9a62f8-936a-4540-a8e7-1e12b7f932b2",
   "metadata": {},
   "outputs": [],
   "source": [
    "number_float = 23.4 + 6.2\n",
    "print(number_float)\n",
    "type(number_float)"
   ]
  },
  {
   "cell_type": "code",
   "execution_count": null,
   "id": "887bf69b-e352-4c3a-a5b9-1920d7290bc0",
   "metadata": {
    "id": "9fb19f0d"
   },
   "outputs": [],
   "source": [
    "---\n",
    "\n",
    "### Exercise 35:\n",
    "Create a variable `is_sunny` and assign it the result of a comparison `10 > 5`.\n",
    "\n",
    "```python\n",
    "# Exercise 35\n",
    "```"
   ]
  },
  {
   "cell_type": "code",
   "execution_count": null,
   "id": "f6759439-41e1-4d3c-a598-7387a6c96ebf",
   "metadata": {},
   "outputs": [],
   "source": [
    "is_sunny = 10 > 5\n",
    "print(is_sunny)\n",
    "type(is_sunny)"
   ]
  },
  {
   "cell_type": "code",
   "execution_count": null,
   "id": "3e86fafd-ed1c-4b1c-bc55-09356d5333f7",
   "metadata": {
    "id": "9fb19f0d"
   },
   "outputs": [],
   "source": [
    "---\n",
    "\n",
    "### Exercise 36:\n",
    "Assign a string and an integer to two different variables, then print both on one line.\n",
    "\n",
    "```python\n",
    "# Exercise 36\n",
    "```"
   ]
  },
  {
   "cell_type": "code",
   "execution_count": 39,
   "id": "ee3f4c12-cac3-4be1-b1ed-7df92aa487a7",
   "metadata": {},
   "outputs": [
    {
     "name": "stdout",
     "output_type": "stream",
     "text": [
      "Les programmeurs d'élite de AIMS 34\n"
     ]
    }
   ],
   "source": [
    "my_string = \"Les programmeurs d'élite de AIMS\"\n",
    "number = 34\n",
    "\n",
    "print(my_string, number)"
   ]
  },
  {
   "cell_type": "markdown",
   "id": "9a97d624-dfb5-43e5-9174-a5e2c52cff72",
   "metadata": {
    "id": "9fb19f0d"
   },
   "source": [
    "---\n",
    "\n",
    "### Exercise 37:\n",
    "Reassign a variable that originally held a number to a boolean value.\n",
    "\n",
    "```python\n",
    "# Exercise 37\n",
    "```"
   ]
  },
  {
   "cell_type": "code",
   "execution_count": 42,
   "id": "80df7c98-5653-4401-82be-09d2a1ba176e",
   "metadata": {},
   "outputs": [
    {
     "name": "stdout",
     "output_type": "stream",
     "text": [
      "True\n"
     ]
    }
   ],
   "source": [
    "number = 12\n",
    "number = True\n",
    "print(number)"
   ]
  },
  {
   "cell_type": "code",
   "execution_count": null,
   "id": "3acc0d7c-7e01-4536-a661-9a00d8109379",
   "metadata": {
    "id": "9fb19f0d"
   },
   "outputs": [],
   "source": [
    "---\n",
    "\n",
    "### Exercise 38:\n",
    "Create a variable `is_weekend` and assign it the result of `False`.\n",
    "\n",
    "```python\n",
    "# Exercise 38\n",
    "```"
   ]
  },
  {
   "cell_type": "code",
   "execution_count": 43,
   "id": "dbe2cc1d-1581-42e1-a4d2-56775a7be130",
   "metadata": {},
   "outputs": [
    {
     "name": "stdout",
     "output_type": "stream",
     "text": [
      "False\n"
     ]
    },
    {
     "data": {
      "text/plain": [
       "bool"
      ]
     },
     "execution_count": 43,
     "metadata": {},
     "output_type": "execute_result"
    }
   ],
   "source": [
    "is_weekend = False\n",
    "print(is_weekend)\n",
    "type(is_weekend)"
   ]
  },
  {
   "cell_type": "code",
   "execution_count": null,
   "id": "f081de28-d92a-4440-b7c4-ec10a3e19100",
   "metadata": {
    "id": "9fb19f0d"
   },
   "outputs": [],
   "source": [
    "---\n",
    "\n",
    "### Exercise 39:\n",
    "Assign a multi-line string to a variable `description`.\n",
    "\n",
    "```python\n",
    "# Exercise 39\n",
    "```"
   ]
  },
  {
   "cell_type": "code",
   "execution_count": 46,
   "id": "b550cdb9-7871-4bc8-8f38-5b2ebe979e66",
   "metadata": {},
   "outputs": [
    {
     "name": "stdout",
     "output_type": "stream",
     "text": [
      "La programmation la science par excellence\n"
     ]
    },
    {
     "data": {
      "text/plain": [
       "str"
      ]
     },
     "execution_count": 46,
     "metadata": {},
     "output_type": "execute_result"
    }
   ],
   "source": [
    "description = \"La programmation \\\n",
    "la science \\\n",
    "par excellence\"\n",
    "\n",
    "print(description)\n",
    "type(description)"
   ]
  },
  {
   "cell_type": "code",
   "execution_count": null,
   "id": "b5cc96fe-02a2-4851-a3c2-6e20ef6ce5a3",
   "metadata": {
    "id": "9fb19f0d"
   },
   "outputs": [],
   "source": [
    "---\n",
    "\n",
    "### Exercise 40:\n",
    "Use variables to store the result of the absolute value of `-25`.\n",
    "\n",
    "```python\n",
    "# Exercise 40\n",
    "```"
   ]
  },
  {
   "cell_type": "code",
   "execution_count": 47,
   "id": "095ec4db-ba64-4bd9-9260-60334934178e",
   "metadata": {},
   "outputs": [
    {
     "name": "stdout",
     "output_type": "stream",
     "text": [
      "25\n"
     ]
    }
   ],
   "source": [
    "number = -25\n",
    "absolu = abs(number)\n",
    "print(absolu)"
   ]
  },
  {
   "cell_type": "code",
   "execution_count": null,
   "id": "2fbee235-4bac-4760-9fab-46097470f8b3",
   "metadata": {
    "id": "9fb19f0d"
   },
   "outputs": [],
   "source": [
    "---\n",
    "\n",
    "### Exercise 41:\n",
    "Assign the result of a floor division `100 // 6` to a variable `floor_div_result`.\n",
    "\n",
    "```python\n",
    "# Exercise 41\n",
    "```"
   ]
  },
  {
   "cell_type": "code",
   "execution_count": 49,
   "id": "664ecb33-c088-43fb-a7b0-0919dfbe1a05",
   "metadata": {},
   "outputs": [
    {
     "name": "stdout",
     "output_type": "stream",
     "text": [
      "16\n"
     ]
    },
    {
     "data": {
      "text/plain": [
       "int"
      ]
     },
     "execution_count": 49,
     "metadata": {},
     "output_type": "execute_result"
    }
   ],
   "source": [
    "floor_div_result = 100//6\n",
    "print(floor_div_result)\n",
    "type(floor_div_result)"
   ]
  },
  {
   "cell_type": "code",
   "execution_count": null,
   "id": "bcb82158-cc05-4b8f-af1c-e9f2962c0dfe",
   "metadata": {
    "id": "9fb19f0d"
   },
   "outputs": [],
   "source": [
    "---\n",
    "\n",
    "### Exercise 42:\n",
    "Assign the result of adding a floating-point number to an integer to a variable `mixed_sum`.\n",
    "\n",
    "```python\n",
    "# Exercise 42\n",
    "```"
   ]
  },
  {
   "cell_type": "code",
   "execution_count": 50,
   "id": "5716409c-55a5-4c6a-bad2-6438f0e61364",
   "metadata": {},
   "outputs": [
    {
     "name": "stdout",
     "output_type": "stream",
     "text": [
      "37.2\n"
     ]
    },
    {
     "data": {
      "text/plain": [
       "float"
      ]
     },
     "execution_count": 50,
     "metadata": {},
     "output_type": "execute_result"
    }
   ],
   "source": [
    "mixed_sum = 34.2 + 3\n",
    "print(mixed_sum)\n",
    "type(mixed_sum)"
   ]
  },
  {
   "cell_type": "code",
   "execution_count": null,
   "id": "14399195-be0c-4133-901b-99c2a43186bb",
   "metadata": {
    "id": "9fb19f0d"
   },
   "outputs": [],
   "source": [
    "---\n",
    "\n",
    "\n",
    "### Exercise 43:\n",
    "Assign a boolean value based on the comparison of two variables `a = 10` and `b = 15`.\n",
    "\n",
    "```python\n",
    "# Exercise 43\n",
    "```"
   ]
  },
  {
   "cell_type": "code",
   "execution_count": 51,
   "id": "152b8f8e-81fb-4db3-ba1d-a41b94eb7b88",
   "metadata": {},
   "outputs": [
    {
     "name": "stdout",
     "output_type": "stream",
     "text": [
      "True\n"
     ]
    },
    {
     "data": {
      "text/plain": [
       "bool"
      ]
     },
     "execution_count": 51,
     "metadata": {},
     "output_type": "execute_result"
    }
   ],
   "source": [
    "a = 10\n",
    "b = 15\n",
    "booleen = b > a\n",
    "print(booleen)\n",
    "type(booleen)"
   ]
  },
  {
   "cell_type": "code",
   "execution_count": null,
   "id": "2841683d-e5e6-4bb6-98bc-7e9d06c89c05",
   "metadata": {
    "id": "9fb19f0d"
   },
   "outputs": [],
   "source": [
    "---\n",
    "\n",
    "### Exercise 44:\n",
    "Assign a long sentence to a variable and count its characters using `len()`.\n",
    "\n",
    "```python\n",
    "# Exercise 44\n",
    "```"
   ]
  },
  {
   "cell_type": "code",
   "execution_count": 54,
   "id": "2d9cf9be-c51d-4478-a275-a6c75c9be64d",
   "metadata": {},
   "outputs": [
    {
     "name": "stdout",
     "output_type": "stream",
     "text": [
      "La chaine \"La cryptographie\" a 16 caractères.\n"
     ]
    }
   ],
   "source": [
    "sentence = \"La cryptographie\"\n",
    "print(\"La chaine \\\"{}\\\" a {} caractères.\".format(sentence, len(sentence)))"
   ]
  },
  {
   "cell_type": "code",
   "execution_count": null,
   "id": "5f44c1ca-982e-4483-bc85-395390df8959",
   "metadata": {
    "id": "9fb19f0d"
   },
   "outputs": [],
   "source": [
    "---\n",
    "\n",
    "### Exercise 45:\n",
    "Assign a fractional result `7 / 3` to a variable `division_result`.\n",
    "\n",
    "```python\n",
    "# Exercise 45\n",
    "```"
   ]
  },
  {
   "cell_type": "code",
   "execution_count": 55,
   "id": "3202bd09-6304-4a6e-89d2-c1201bb73be8",
   "metadata": {},
   "outputs": [
    {
     "name": "stdout",
     "output_type": "stream",
     "text": [
      "2.3333333333333335\n"
     ]
    },
    {
     "data": {
      "text/plain": [
       "float"
      ]
     },
     "execution_count": 55,
     "metadata": {},
     "output_type": "execute_result"
    }
   ],
   "source": [
    "division_result = 7 / 3\n",
    "print(division_result)\n",
    "type(division_result)"
   ]
  },
  {
   "cell_type": "code",
   "execution_count": null,
   "id": "4c7f786f-f33a-4d22-87bb-f8c16f9128c4",
   "metadata": {
    "id": "9fb19f0d"
   },
   "outputs": [],
   "source": [
    "---\n",
    "\n",
    "### Exercise 46:\n",
    "Create a variable `speed` and assign it the value of 100 kilometers per hour.\n",
    "\n",
    "```python\n",
    "# Exercise 46\n",
    "```"
   ]
  },
  {
   "cell_type": "code",
   "execution_count": null,
   "id": "05cd738f-f947-4372-9747-21ef6b604653",
   "metadata": {},
   "outputs": [],
   "source": [
    "speed = 100"
   ]
  },
  {
   "cell_type": "code",
   "execution_count": null,
   "id": "cb48ba7a-64f8-4972-865f-87fbabff28b6",
   "metadata": {
    "id": "9fb19f0d"
   },
   "outputs": [],
   "source": [
    "---\n",
    "\n",
    "### Exercise 47:\n",
    "Assign a multi-variable equation like `y = 3x + 5` where `x = 4` to a variable `y`.\n",
    "\n",
    "```python\n",
    "# Exercise 47\n",
    "```"
   ]
  },
  {
   "cell_type": "code",
   "execution_count": 56,
   "id": "0b3d833d-0c72-497a-bfe6-2d0a0f03cd9a",
   "metadata": {},
   "outputs": [
    {
     "name": "stdout",
     "output_type": "stream",
     "text": [
      "4 17\n",
      "<class 'int'>\n"
     ]
    },
    {
     "data": {
      "text/plain": [
       "(None, int)"
      ]
     },
     "execution_count": 56,
     "metadata": {},
     "output_type": "execute_result"
    }
   ],
   "source": [
    "x = 4\n",
    "y = 3*x + 5\n",
    "print(x, y)\n",
    "print(type(x)), type(y)"
   ]
  },
  {
   "cell_type": "code",
   "execution_count": null,
   "id": "87234ec2-eb5f-4d19-b5cb-e40eda2bfde2",
   "metadata": {
    "id": "9fb19f0d"
   },
   "outputs": [],
   "source": [
    "---\n",
    "\n",
    "### Exercise 48:\n",
    "Use variables to calculate and store the average of three numbers.\n",
    "\n",
    "```python\n",
    "# Exercise 48\n",
    "```"
   ]
  },
  {
   "cell_type": "code",
   "execution_count": 57,
   "id": "0713c0c0-46f7-4d85-9cdd-dd68dc042397",
   "metadata": {
    "id": "9fb19f0d"
   },
   "outputs": [
    {
     "name": "stdout",
     "output_type": "stream",
     "text": [
      "48.333333333333336\n"
     ]
    },
    {
     "data": {
      "text/plain": [
       "float"
      ]
     },
     "execution_count": 57,
     "metadata": {},
     "output_type": "execute_result"
    }
   ],
   "source": [
    "a = 23\n",
    "b = 45\n",
    "c = 77\n",
    "moyenne = (a + b + c)/3\n",
    "print(moyenne)\n",
    "type(moyenne)"
   ]
  },
  {
   "cell_type": "code",
   "execution_count": null,
   "id": "6a882ba9-004e-449f-b8fd-a13800db08b1",
   "metadata": {},
   "outputs": [],
   "source": []
  }
 ],
 "metadata": {
  "colab": {
   "provenance": []
  },
  "kernelspec": {
   "display_name": "Python 3 (ipykernel)",
   "language": "python",
   "name": "python3"
  },
  "language_info": {
   "codemirror_mode": {
    "name": "ipython",
    "version": 3
   },
   "file_extension": ".py",
   "mimetype": "text/x-python",
   "name": "python",
   "nbconvert_exporter": "python",
   "pygments_lexer": "ipython3",
   "version": "3.11.2"
  }
 },
 "nbformat": 4,
 "nbformat_minor": 5
}
